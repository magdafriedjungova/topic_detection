{
 "cells": [
  {
   "cell_type": "markdown",
   "id": "1bf6e43a",
   "metadata": {},
   "source": [
    "# Supervised Learning - part 1\n",
    "\n",
    "- Looking for the best model."
   ]
  },
  {
   "cell_type": "code",
   "execution_count": 1,
   "id": "e4909de0",
   "metadata": {},
   "outputs": [],
   "source": [
    "import pandas as pd\n",
    "import numpy as np\n",
    "from ast import literal_eval\n",
    "from sklearn.feature_extraction.text import CountVectorizer\n",
    "from wordcloud import WordCloud\n",
    "import matplotlib.pyplot as plt\n",
    "\n",
    "from gensim.corpora import Dictionary\n",
    "from gensim.models import CoherenceModel\n",
    "\n",
    "from sklearn import naive_bayes, svm\n",
    "from sklearn.preprocessing import LabelEncoder\n",
    "from sklearn.feature_extraction.text import TfidfVectorizer, CountVectorizer, HashingVectorizer\n",
    "from sklearn.model_selection import train_test_split\n",
    "from sklearn.metrics import accuracy_score, f1_score, confusion_matrix, classification_report, make_scorer\n",
    "from sklearn.metrics.pairwise import cosine_similarity\n",
    "from sklearn.model_selection import GridSearchCV, KFold, cross_val_score\n",
    "from imblearn.over_sampling import RandomOverSampler\n",
    "\n",
    "from sklearn.naive_bayes import GaussianNB\n",
    "from sklearn.neighbors import KNeighborsClassifier\n",
    "from sklearn.neural_network import MLPClassifier\n",
    "from sklearn.linear_model import LogisticRegression"
   ]
  },
  {
   "cell_type": "code",
   "execution_count": 2,
   "id": "d68c37f3",
   "metadata": {},
   "outputs": [],
   "source": [
    "import warnings\n",
    "warnings.filterwarnings('ignore')"
   ]
  },
  {
   "cell_type": "code",
   "execution_count": 3,
   "id": "c185a204",
   "metadata": {},
   "outputs": [],
   "source": [
    "RANDOM_STATE = 42"
   ]
  },
  {
   "cell_type": "code",
   "execution_count": 4,
   "id": "e3fca447",
   "metadata": {},
   "outputs": [
    {
     "data": {
      "text/html": [
       "<div>\n",
       "<style scoped>\n",
       "    .dataframe tbody tr th:only-of-type {\n",
       "        vertical-align: middle;\n",
       "    }\n",
       "\n",
       "    .dataframe tbody tr th {\n",
       "        vertical-align: top;\n",
       "    }\n",
       "\n",
       "    .dataframe thead th {\n",
       "        text-align: right;\n",
       "    }\n",
       "</style>\n",
       "<table border=\"1\" class=\"dataframe\">\n",
       "  <thead>\n",
       "    <tr style=\"text-align: right;\">\n",
       "      <th></th>\n",
       "      <th>book_poem_id</th>\n",
       "      <th>lemmas</th>\n",
       "    </tr>\n",
       "  </thead>\n",
       "  <tbody>\n",
       "    <tr>\n",
       "      <th>0</th>\n",
       "      <td>1_0001-0000-0000-0001-0000</td>\n",
       "      <td>[('tvůj', 'P'), ('loď', 'N'), ('jít', 'V'), ('...</td>\n",
       "    </tr>\n",
       "    <tr>\n",
       "      <th>1</th>\n",
       "      <td>1_0001-0001-0000-0001-0000</td>\n",
       "      <td>[('už', 'D'), ('míza', 'N'), ('naplňovat', 'V'...</td>\n",
       "    </tr>\n",
       "    <tr>\n",
       "      <th>2</th>\n",
       "      <td>1_0001-0001-0000-0002-0000</td>\n",
       "      <td>[('už', 'D'), ('jaro', 'N'), ('výskat', 'V'), ...</td>\n",
       "    </tr>\n",
       "    <tr>\n",
       "      <th>3</th>\n",
       "      <td>1_0001-0001-0000-0003-0000</td>\n",
       "      <td>[('teď', 'D'), ('slunce', 'N'), ('projít', 'V'...</td>\n",
       "    </tr>\n",
       "    <tr>\n",
       "      <th>4</th>\n",
       "      <td>1_0001-0001-0000-0004-0000</td>\n",
       "      <td>[('skála', 'N'), ('nebetyčný', 'A'), ('shluk',...</td>\n",
       "    </tr>\n",
       "    <tr>\n",
       "      <th>...</th>\n",
       "      <td>...</td>\n",
       "      <td>...</td>\n",
       "    </tr>\n",
       "    <tr>\n",
       "      <th>66423</th>\n",
       "      <td>1689_0001-0000-0000-0026-0000</td>\n",
       "      <td>[('u', 'R'), ('altán', 'N'), ('bílý', 'A'), ('...</td>\n",
       "    </tr>\n",
       "    <tr>\n",
       "      <th>66424</th>\n",
       "      <td>1689_0001-0000-0000-0027-0000</td>\n",
       "      <td>[('nad', 'R'), ('tůně', 'N'), ('honit', 'V'), ...</td>\n",
       "    </tr>\n",
       "    <tr>\n",
       "      <th>66425</th>\n",
       "      <td>1689_0001-0000-0000-0028-0000</td>\n",
       "      <td>[('podle', 'R'), ('cesta', 'N'), ('hloh', 'N')...</td>\n",
       "    </tr>\n",
       "    <tr>\n",
       "      <th>66426</th>\n",
       "      <td>1689_0001-0000-0000-0029-0000</td>\n",
       "      <td>[('na', 'R'), ('lesní', 'A'), ('stráň', 'N'), ...</td>\n",
       "    </tr>\n",
       "    <tr>\n",
       "      <th>66427</th>\n",
       "      <td>1689_0001-0000-0000-0030-0000</td>\n",
       "      <td>[('lučina', 'N'), ('potůček', 'N'), ('ubíhat',...</td>\n",
       "    </tr>\n",
       "  </tbody>\n",
       "</table>\n",
       "<p>66428 rows × 2 columns</p>\n",
       "</div>"
      ],
      "text/plain": [
       "                        book_poem_id  \\\n",
       "0         1_0001-0000-0000-0001-0000   \n",
       "1         1_0001-0001-0000-0001-0000   \n",
       "2         1_0001-0001-0000-0002-0000   \n",
       "3         1_0001-0001-0000-0003-0000   \n",
       "4         1_0001-0001-0000-0004-0000   \n",
       "...                              ...   \n",
       "66423  1689_0001-0000-0000-0026-0000   \n",
       "66424  1689_0001-0000-0000-0027-0000   \n",
       "66425  1689_0001-0000-0000-0028-0000   \n",
       "66426  1689_0001-0000-0000-0029-0000   \n",
       "66427  1689_0001-0000-0000-0030-0000   \n",
       "\n",
       "                                                  lemmas  \n",
       "0      [('tvůj', 'P'), ('loď', 'N'), ('jít', 'V'), ('...  \n",
       "1      [('už', 'D'), ('míza', 'N'), ('naplňovat', 'V'...  \n",
       "2      [('už', 'D'), ('jaro', 'N'), ('výskat', 'V'), ...  \n",
       "3      [('teď', 'D'), ('slunce', 'N'), ('projít', 'V'...  \n",
       "4      [('skála', 'N'), ('nebetyčný', 'A'), ('shluk',...  \n",
       "...                                                  ...  \n",
       "66423  [('u', 'R'), ('altán', 'N'), ('bílý', 'A'), ('...  \n",
       "66424  [('nad', 'R'), ('tůně', 'N'), ('honit', 'V'), ...  \n",
       "66425  [('podle', 'R'), ('cesta', 'N'), ('hloh', 'N')...  \n",
       "66426  [('na', 'R'), ('lesní', 'A'), ('stráň', 'N'), ...  \n",
       "66427  [('lučina', 'N'), ('potůček', 'N'), ('ubíhat',...  \n",
       "\n",
       "[66428 rows x 2 columns]"
      ]
     },
     "execution_count": 4,
     "metadata": {},
     "output_type": "execute_result"
    }
   ],
   "source": [
    "lemmas = pd.read_csv('../data/lemmas.csv')\n",
    "lemmas"
   ]
  },
  {
   "cell_type": "code",
   "execution_count": 7,
   "id": "a4c3097a",
   "metadata": {},
   "outputs": [
    {
     "data": {
      "text/html": [
       "<div>\n",
       "<style scoped>\n",
       "    .dataframe tbody tr th:only-of-type {\n",
       "        vertical-align: middle;\n",
       "    }\n",
       "\n",
       "    .dataframe tbody tr th {\n",
       "        vertical-align: top;\n",
       "    }\n",
       "\n",
       "    .dataframe thead th {\n",
       "        text-align: right;\n",
       "    }\n",
       "</style>\n",
       "<table border=\"1\" class=\"dataframe\">\n",
       "  <thead>\n",
       "    <tr style=\"text-align: right;\">\n",
       "      <th></th>\n",
       "      <th>book_poem_id</th>\n",
       "      <th>poem_id</th>\n",
       "      <th>book_id</th>\n",
       "      <th>id_topic</th>\n",
       "      <th>value</th>\n",
       "      <th>name</th>\n",
       "    </tr>\n",
       "  </thead>\n",
       "  <tbody>\n",
       "    <tr>\n",
       "      <th>0</th>\n",
       "      <td>2_0001-0000-0000-0005-0000</td>\n",
       "      <td>0001-0000-0000-0005-0000</td>\n",
       "      <td>2</td>\n",
       "      <td>1</td>\n",
       "      <td>-1</td>\n",
       "      <td>Dětství/mateřství/rodičovství</td>\n",
       "    </tr>\n",
       "    <tr>\n",
       "      <th>1</th>\n",
       "      <td>2_0001-0000-0000-0005-0000</td>\n",
       "      <td>0001-0000-0000-0005-0000</td>\n",
       "      <td>2</td>\n",
       "      <td>2</td>\n",
       "      <td>-1</td>\n",
       "      <td>Domov</td>\n",
       "    </tr>\n",
       "    <tr>\n",
       "      <th>2</th>\n",
       "      <td>2_0001-0000-0000-0005-0000</td>\n",
       "      <td>0001-0000-0000-0005-0000</td>\n",
       "      <td>2</td>\n",
       "      <td>3</td>\n",
       "      <td>-1</td>\n",
       "      <td>Exotika/cestovatelství</td>\n",
       "    </tr>\n",
       "    <tr>\n",
       "      <th>3</th>\n",
       "      <td>2_0001-0000-0000-0005-0000</td>\n",
       "      <td>0001-0000-0000-0005-0000</td>\n",
       "      <td>2</td>\n",
       "      <td>4</td>\n",
       "      <td>-1</td>\n",
       "      <td>Chudoba/útisk</td>\n",
       "    </tr>\n",
       "    <tr>\n",
       "      <th>4</th>\n",
       "      <td>2_0001-0000-0000-0005-0000</td>\n",
       "      <td>0001-0000-0000-0005-0000</td>\n",
       "      <td>2</td>\n",
       "      <td>9</td>\n",
       "      <td>-1</td>\n",
       "      <td>Náboženství/víra</td>\n",
       "    </tr>\n",
       "    <tr>\n",
       "      <th>...</th>\n",
       "      <td>...</td>\n",
       "      <td>...</td>\n",
       "      <td>...</td>\n",
       "      <td>...</td>\n",
       "      <td>...</td>\n",
       "      <td>...</td>\n",
       "    </tr>\n",
       "    <tr>\n",
       "      <th>27154</th>\n",
       "      <td>1675_0001-0009-0000-0015-0002</td>\n",
       "      <td>0001-0009-0000-0015-0002</td>\n",
       "      <td>1675</td>\n",
       "      <td>26</td>\n",
       "      <td>-1</td>\n",
       "      <td>Město</td>\n",
       "    </tr>\n",
       "    <tr>\n",
       "      <th>27155</th>\n",
       "      <td>1675_0001-0009-0000-0015-0002</td>\n",
       "      <td>0001-0009-0000-0015-0002</td>\n",
       "      <td>1675</td>\n",
       "      <td>27</td>\n",
       "      <td>-1</td>\n",
       "      <td>Venkov</td>\n",
       "    </tr>\n",
       "    <tr>\n",
       "      <th>27156</th>\n",
       "      <td>1675_0001-0009-0000-0015-0002</td>\n",
       "      <td>0001-0009-0000-0015-0002</td>\n",
       "      <td>1675</td>\n",
       "      <td>28</td>\n",
       "      <td>-1</td>\n",
       "      <td>Národ/vlast</td>\n",
       "    </tr>\n",
       "    <tr>\n",
       "      <th>27157</th>\n",
       "      <td>1675_0001-0009-0000-0015-0002</td>\n",
       "      <td>0001-0009-0000-0015-0002</td>\n",
       "      <td>1675</td>\n",
       "      <td>29</td>\n",
       "      <td>-1</td>\n",
       "      <td>Historie</td>\n",
       "    </tr>\n",
       "    <tr>\n",
       "      <th>27158</th>\n",
       "      <td>1675_0001-0009-0000-0015-0002</td>\n",
       "      <td>0001-0009-0000-0015-0002</td>\n",
       "      <td>1675</td>\n",
       "      <td>30</td>\n",
       "      <td>-1</td>\n",
       "      <td>Sebereflexe/vnitřní život</td>\n",
       "    </tr>\n",
       "  </tbody>\n",
       "</table>\n",
       "<p>27159 rows × 6 columns</p>\n",
       "</div>"
      ],
      "text/plain": [
       "                        book_poem_id                   poem_id  book_id  \\\n",
       "0         2_0001-0000-0000-0005-0000  0001-0000-0000-0005-0000        2   \n",
       "1         2_0001-0000-0000-0005-0000  0001-0000-0000-0005-0000        2   \n",
       "2         2_0001-0000-0000-0005-0000  0001-0000-0000-0005-0000        2   \n",
       "3         2_0001-0000-0000-0005-0000  0001-0000-0000-0005-0000        2   \n",
       "4         2_0001-0000-0000-0005-0000  0001-0000-0000-0005-0000        2   \n",
       "...                              ...                       ...      ...   \n",
       "27154  1675_0001-0009-0000-0015-0002  0001-0009-0000-0015-0002     1675   \n",
       "27155  1675_0001-0009-0000-0015-0002  0001-0009-0000-0015-0002     1675   \n",
       "27156  1675_0001-0009-0000-0015-0002  0001-0009-0000-0015-0002     1675   \n",
       "27157  1675_0001-0009-0000-0015-0002  0001-0009-0000-0015-0002     1675   \n",
       "27158  1675_0001-0009-0000-0015-0002  0001-0009-0000-0015-0002     1675   \n",
       "\n",
       "       id_topic  value                           name  \n",
       "0             1     -1  Dětství/mateřství/rodičovství  \n",
       "1             2     -1                          Domov  \n",
       "2             3     -1         Exotika/cestovatelství  \n",
       "3             4     -1                  Chudoba/útisk  \n",
       "4             9     -1               Náboženství/víra  \n",
       "...         ...    ...                            ...  \n",
       "27154        26     -1                          Město  \n",
       "27155        27     -1                         Venkov  \n",
       "27156        28     -1                    Národ/vlast  \n",
       "27157        29     -1                       Historie  \n",
       "27158        30     -1      Sebereflexe/vnitřní život  \n",
       "\n",
       "[27159 rows x 6 columns]"
      ]
     },
     "execution_count": 7,
     "metadata": {},
     "output_type": "execute_result"
    }
   ],
   "source": [
    "annotations = pd.read_csv('../data/poem_value_save.csv')\n",
    "annotations"
   ]
  },
  {
   "cell_type": "code",
   "execution_count": 8,
   "id": "629644fd",
   "metadata": {},
   "outputs": [
    {
     "data": {
      "text/html": [
       "<div>\n",
       "<style scoped>\n",
       "    .dataframe tbody tr th:only-of-type {\n",
       "        vertical-align: middle;\n",
       "    }\n",
       "\n",
       "    .dataframe tbody tr th {\n",
       "        vertical-align: top;\n",
       "    }\n",
       "\n",
       "    .dataframe thead th {\n",
       "        text-align: right;\n",
       "    }\n",
       "</style>\n",
       "<table border=\"1\" class=\"dataframe\">\n",
       "  <thead>\n",
       "    <tr style=\"text-align: right;\">\n",
       "      <th></th>\n",
       "      <th>book_poem_id</th>\n",
       "      <th>poem_id</th>\n",
       "      <th>book_id</th>\n",
       "      <th>id_topic</th>\n",
       "      <th>value</th>\n",
       "      <th>name</th>\n",
       "    </tr>\n",
       "  </thead>\n",
       "  <tbody>\n",
       "    <tr>\n",
       "      <th>0</th>\n",
       "      <td>2_0001-0000-0000-0005-0000</td>\n",
       "      <td>0001-0000-0000-0005-0000</td>\n",
       "      <td>2</td>\n",
       "      <td>13</td>\n",
       "      <td>1</td>\n",
       "      <td>Práce</td>\n",
       "    </tr>\n",
       "    <tr>\n",
       "      <th>1</th>\n",
       "      <td>2_0001-0000-0000-0008-0000</td>\n",
       "      <td>0001-0000-0000-0008-0000</td>\n",
       "      <td>2</td>\n",
       "      <td>9</td>\n",
       "      <td>1</td>\n",
       "      <td>Náboženství/víra</td>\n",
       "    </tr>\n",
       "    <tr>\n",
       "      <th>2</th>\n",
       "      <td>3_0001-0003-0000-0012-0000</td>\n",
       "      <td>0001-0003-0000-0012-0000</td>\n",
       "      <td>3</td>\n",
       "      <td>9</td>\n",
       "      <td>1</td>\n",
       "      <td>Náboženství/víra</td>\n",
       "    </tr>\n",
       "    <tr>\n",
       "      <th>3</th>\n",
       "      <td>7_0001-0000-0000-0065-0000</td>\n",
       "      <td>0001-0000-0000-0065-0000</td>\n",
       "      <td>7</td>\n",
       "      <td>20</td>\n",
       "      <td>1</td>\n",
       "      <td>Umění/literatura, poezie/tvorba</td>\n",
       "    </tr>\n",
       "    <tr>\n",
       "      <th>4</th>\n",
       "      <td>8_0001-0000-0000-0004-0000</td>\n",
       "      <td>0001-0000-0000-0004-0000</td>\n",
       "      <td>8</td>\n",
       "      <td>30</td>\n",
       "      <td>1</td>\n",
       "      <td>Sebereflexe/vnitřní život</td>\n",
       "    </tr>\n",
       "    <tr>\n",
       "      <th>...</th>\n",
       "      <td>...</td>\n",
       "      <td>...</td>\n",
       "      <td>...</td>\n",
       "      <td>...</td>\n",
       "      <td>...</td>\n",
       "      <td>...</td>\n",
       "    </tr>\n",
       "    <tr>\n",
       "      <th>917</th>\n",
       "      <td>1675_0001-0005-0000-0028-0000</td>\n",
       "      <td>0001-0005-0000-0028-0000</td>\n",
       "      <td>1675</td>\n",
       "      <td>14</td>\n",
       "      <td>1</td>\n",
       "      <td>Příroda</td>\n",
       "    </tr>\n",
       "    <tr>\n",
       "      <th>918</th>\n",
       "      <td>1675_0001-0005-0000-0042-0000</td>\n",
       "      <td>0001-0005-0000-0042-0000</td>\n",
       "      <td>1675</td>\n",
       "      <td>30</td>\n",
       "      <td>1</td>\n",
       "      <td>Sebereflexe/vnitřní život</td>\n",
       "    </tr>\n",
       "    <tr>\n",
       "      <th>919</th>\n",
       "      <td>1675_0001-0007-0001-0003-0000</td>\n",
       "      <td>0001-0007-0001-0003-0000</td>\n",
       "      <td>1675</td>\n",
       "      <td>12</td>\n",
       "      <td>1</td>\n",
       "      <td>Politika/společnost</td>\n",
       "    </tr>\n",
       "    <tr>\n",
       "      <th>920</th>\n",
       "      <td>1675_0001-0007-0001-0003-0000</td>\n",
       "      <td>0001-0007-0001-0003-0000</td>\n",
       "      <td>1675</td>\n",
       "      <td>26</td>\n",
       "      <td>1</td>\n",
       "      <td>Město</td>\n",
       "    </tr>\n",
       "    <tr>\n",
       "      <th>921</th>\n",
       "      <td>1675_0001-0007-0001-0013-0000</td>\n",
       "      <td>0001-0007-0001-0013-0000</td>\n",
       "      <td>1675</td>\n",
       "      <td>17</td>\n",
       "      <td>1</td>\n",
       "      <td>Smrt/umírání/stáří</td>\n",
       "    </tr>\n",
       "  </tbody>\n",
       "</table>\n",
       "<p>922 rows × 6 columns</p>\n",
       "</div>"
      ],
      "text/plain": [
       "                      book_poem_id                   poem_id  book_id  \\\n",
       "0       2_0001-0000-0000-0005-0000  0001-0000-0000-0005-0000        2   \n",
       "1       2_0001-0000-0000-0008-0000  0001-0000-0000-0008-0000        2   \n",
       "2       3_0001-0003-0000-0012-0000  0001-0003-0000-0012-0000        3   \n",
       "3       7_0001-0000-0000-0065-0000  0001-0000-0000-0065-0000        7   \n",
       "4       8_0001-0000-0000-0004-0000  0001-0000-0000-0004-0000        8   \n",
       "..                             ...                       ...      ...   \n",
       "917  1675_0001-0005-0000-0028-0000  0001-0005-0000-0028-0000     1675   \n",
       "918  1675_0001-0005-0000-0042-0000  0001-0005-0000-0042-0000     1675   \n",
       "919  1675_0001-0007-0001-0003-0000  0001-0007-0001-0003-0000     1675   \n",
       "920  1675_0001-0007-0001-0003-0000  0001-0007-0001-0003-0000     1675   \n",
       "921  1675_0001-0007-0001-0013-0000  0001-0007-0001-0013-0000     1675   \n",
       "\n",
       "     id_topic  value                             name  \n",
       "0          13      1                            Práce  \n",
       "1           9      1                 Náboženství/víra  \n",
       "2           9      1                 Náboženství/víra  \n",
       "3          20      1  Umění/literatura, poezie/tvorba  \n",
       "4          30      1        Sebereflexe/vnitřní život  \n",
       "..        ...    ...                              ...  \n",
       "917        14      1                          Příroda  \n",
       "918        30      1        Sebereflexe/vnitřní život  \n",
       "919        12      1              Politika/společnost  \n",
       "920        26      1                            Město  \n",
       "921        17      1               Smrt/umírání/stáří  \n",
       "\n",
       "[922 rows x 6 columns]"
      ]
     },
     "execution_count": 8,
     "metadata": {},
     "output_type": "execute_result"
    }
   ],
   "source": [
    "annotations_1 = annotations[annotations.value == 1].reset_index(drop=True)\n",
    "annotations_1"
   ]
  },
  {
   "cell_type": "code",
   "execution_count": 9,
   "id": "cacf4a2c",
   "metadata": {},
   "outputs": [
    {
     "data": {
      "text/plain": [
       "Láska/milostný vztah               171\n",
       "Sebereflexe/vnitřní život          111\n",
       "Příroda                             85\n",
       "Náboženství/víra                    85\n",
       "Smrt/umírání/stáří                  77\n",
       "Umění/literatura, poezie/tvorba     64\n",
       "Politika/společnost                 64\n",
       "Národ/vlast                         51\n",
       "Samota/odcizení                     37\n",
       "Historie                            32\n",
       "Dětství/mateřství/rodičovství       29\n",
       "Práce                               16\n",
       "Chudoba/útisk                       16\n",
       "Domov                               15\n",
       "Město                               13\n",
       "Zločin/trest                         9\n",
       "Tradice/folklor                      9\n",
       "Válka                                8\n",
       "Zábava/volný čas                     8\n",
       "Revoluce/Osvobození                  8\n",
       "Exotika/cestovatelství               4\n",
       "Vzdělání/škola                       4\n",
       "Venkov                               4\n",
       "Tělo/sport                           2\n",
       "Name: name, dtype: int64"
      ]
     },
     "execution_count": 9,
     "metadata": {},
     "output_type": "execute_result"
    }
   ],
   "source": [
    "annotations_1.name.value_counts()"
   ]
  },
  {
   "cell_type": "code",
   "execution_count": 7,
   "id": "31fb01ee",
   "metadata": {},
   "outputs": [
    {
     "data": {
      "text/html": [
       "<div>\n",
       "<style scoped>\n",
       "    .dataframe tbody tr th:only-of-type {\n",
       "        vertical-align: middle;\n",
       "    }\n",
       "\n",
       "    .dataframe tbody tr th {\n",
       "        vertical-align: top;\n",
       "    }\n",
       "\n",
       "    .dataframe thead th {\n",
       "        text-align: right;\n",
       "    }\n",
       "</style>\n",
       "<table border=\"1\" class=\"dataframe\">\n",
       "  <thead>\n",
       "    <tr style=\"text-align: right;\">\n",
       "      <th></th>\n",
       "      <th>book_poem_id</th>\n",
       "      <th>poem_id</th>\n",
       "      <th>book_id</th>\n",
       "      <th>id_topic</th>\n",
       "      <th>value</th>\n",
       "      <th>name</th>\n",
       "      <th>lemmas</th>\n",
       "    </tr>\n",
       "  </thead>\n",
       "  <tbody>\n",
       "    <tr>\n",
       "      <th>0</th>\n",
       "      <td>2_0001-0000-0000-0005-0000</td>\n",
       "      <td>0001-0000-0000-0005-0000</td>\n",
       "      <td>2</td>\n",
       "      <td>13</td>\n",
       "      <td>1</td>\n",
       "      <td>Práce</td>\n",
       "      <td>[('chuť', 'N'), ('k', 'R'), ('práce', 'N'), ('...</td>\n",
       "    </tr>\n",
       "    <tr>\n",
       "      <th>1</th>\n",
       "      <td>2_0001-0000-0000-0008-0000</td>\n",
       "      <td>0001-0000-0000-0008-0000</td>\n",
       "      <td>2</td>\n",
       "      <td>9</td>\n",
       "      <td>1</td>\n",
       "      <td>Náboženství/víra</td>\n",
       "      <td>[('truchlit', 'V'), ('když', 'J'), ('rána', 'N...</td>\n",
       "    </tr>\n",
       "    <tr>\n",
       "      <th>2</th>\n",
       "      <td>3_0001-0003-0000-0012-0000</td>\n",
       "      <td>0001-0003-0000-0012-0000</td>\n",
       "      <td>3</td>\n",
       "      <td>9</td>\n",
       "      <td>1</td>\n",
       "      <td>Náboženství/víra</td>\n",
       "      <td>[('srdce', 'N'), ('Páně', 'A'), ('velechrám', ...</td>\n",
       "    </tr>\n",
       "    <tr>\n",
       "      <th>3</th>\n",
       "      <td>7_0001-0000-0000-0065-0000</td>\n",
       "      <td>0001-0000-0000-0065-0000</td>\n",
       "      <td>7</td>\n",
       "      <td>20</td>\n",
       "      <td>1</td>\n",
       "      <td>Umění/literatura, poezie/tvorba</td>\n",
       "      <td>[('náš', 'P'), ('lid', 'N'), ('ty', 'P'), ('ch...</td>\n",
       "    </tr>\n",
       "    <tr>\n",
       "      <th>4</th>\n",
       "      <td>8_0001-0000-0000-0004-0000</td>\n",
       "      <td>0001-0000-0000-0004-0000</td>\n",
       "      <td>8</td>\n",
       "      <td>30</td>\n",
       "      <td>1</td>\n",
       "      <td>Sebereflexe/vnitřní život</td>\n",
       "      <td>[('mít', 'V'), ('plout', 'V'), ('loď', 'N'), (...</td>\n",
       "    </tr>\n",
       "    <tr>\n",
       "      <th>...</th>\n",
       "      <td>...</td>\n",
       "      <td>...</td>\n",
       "      <td>...</td>\n",
       "      <td>...</td>\n",
       "      <td>...</td>\n",
       "      <td>...</td>\n",
       "      <td>...</td>\n",
       "    </tr>\n",
       "    <tr>\n",
       "      <th>917</th>\n",
       "      <td>1675_0001-0005-0000-0028-0000</td>\n",
       "      <td>0001-0005-0000-0028-0000</td>\n",
       "      <td>1675</td>\n",
       "      <td>14</td>\n",
       "      <td>1</td>\n",
       "      <td>Příroda</td>\n",
       "      <td>[('do', 'R'), ('duše', 'N'), ('rozjásaný', 'A'...</td>\n",
       "    </tr>\n",
       "    <tr>\n",
       "      <th>918</th>\n",
       "      <td>1675_0001-0005-0000-0042-0000</td>\n",
       "      <td>0001-0005-0000-0042-0000</td>\n",
       "      <td>1675</td>\n",
       "      <td>30</td>\n",
       "      <td>1</td>\n",
       "      <td>Sebereflexe/vnitřní život</td>\n",
       "      <td>[('ó', 'I'), ('smutný', 'A'), ('srdce', 'N'), ...</td>\n",
       "    </tr>\n",
       "    <tr>\n",
       "      <th>919</th>\n",
       "      <td>1675_0001-0007-0001-0003-0000</td>\n",
       "      <td>0001-0007-0001-0003-0000</td>\n",
       "      <td>1675</td>\n",
       "      <td>12</td>\n",
       "      <td>1</td>\n",
       "      <td>Politika/společnost</td>\n",
       "      <td>[('jít', 'V'), ('mimo', 'R'), ('nalíčený', 'A'...</td>\n",
       "    </tr>\n",
       "    <tr>\n",
       "      <th>920</th>\n",
       "      <td>1675_0001-0007-0001-0003-0000</td>\n",
       "      <td>0001-0007-0001-0003-0000</td>\n",
       "      <td>1675</td>\n",
       "      <td>26</td>\n",
       "      <td>1</td>\n",
       "      <td>Město</td>\n",
       "      <td>[('jít', 'V'), ('mimo', 'R'), ('nalíčený', 'A'...</td>\n",
       "    </tr>\n",
       "    <tr>\n",
       "      <th>921</th>\n",
       "      <td>1675_0001-0007-0001-0013-0000</td>\n",
       "      <td>0001-0007-0001-0013-0000</td>\n",
       "      <td>1675</td>\n",
       "      <td>17</td>\n",
       "      <td>1</td>\n",
       "      <td>Smrt/umírání/stáří</td>\n",
       "      <td>[('den', 'N'), ('plynout', 'V'), ('za', 'R'), ...</td>\n",
       "    </tr>\n",
       "  </tbody>\n",
       "</table>\n",
       "<p>922 rows × 7 columns</p>\n",
       "</div>"
      ],
      "text/plain": [
       "                      book_poem_id                   poem_id  book_id  \\\n",
       "0       2_0001-0000-0000-0005-0000  0001-0000-0000-0005-0000        2   \n",
       "1       2_0001-0000-0000-0008-0000  0001-0000-0000-0008-0000        2   \n",
       "2       3_0001-0003-0000-0012-0000  0001-0003-0000-0012-0000        3   \n",
       "3       7_0001-0000-0000-0065-0000  0001-0000-0000-0065-0000        7   \n",
       "4       8_0001-0000-0000-0004-0000  0001-0000-0000-0004-0000        8   \n",
       "..                             ...                       ...      ...   \n",
       "917  1675_0001-0005-0000-0028-0000  0001-0005-0000-0028-0000     1675   \n",
       "918  1675_0001-0005-0000-0042-0000  0001-0005-0000-0042-0000     1675   \n",
       "919  1675_0001-0007-0001-0003-0000  0001-0007-0001-0003-0000     1675   \n",
       "920  1675_0001-0007-0001-0003-0000  0001-0007-0001-0003-0000     1675   \n",
       "921  1675_0001-0007-0001-0013-0000  0001-0007-0001-0013-0000     1675   \n",
       "\n",
       "     id_topic  value                             name  \\\n",
       "0          13      1                            Práce   \n",
       "1           9      1                 Náboženství/víra   \n",
       "2           9      1                 Náboženství/víra   \n",
       "3          20      1  Umění/literatura, poezie/tvorba   \n",
       "4          30      1        Sebereflexe/vnitřní život   \n",
       "..        ...    ...                              ...   \n",
       "917        14      1                          Příroda   \n",
       "918        30      1        Sebereflexe/vnitřní život   \n",
       "919        12      1              Politika/společnost   \n",
       "920        26      1                            Město   \n",
       "921        17      1               Smrt/umírání/stáří   \n",
       "\n",
       "                                                lemmas  \n",
       "0    [('chuť', 'N'), ('k', 'R'), ('práce', 'N'), ('...  \n",
       "1    [('truchlit', 'V'), ('když', 'J'), ('rána', 'N...  \n",
       "2    [('srdce', 'N'), ('Páně', 'A'), ('velechrám', ...  \n",
       "3    [('náš', 'P'), ('lid', 'N'), ('ty', 'P'), ('ch...  \n",
       "4    [('mít', 'V'), ('plout', 'V'), ('loď', 'N'), (...  \n",
       "..                                                 ...  \n",
       "917  [('do', 'R'), ('duše', 'N'), ('rozjásaný', 'A'...  \n",
       "918  [('ó', 'I'), ('smutný', 'A'), ('srdce', 'N'), ...  \n",
       "919  [('jít', 'V'), ('mimo', 'R'), ('nalíčený', 'A'...  \n",
       "920  [('jít', 'V'), ('mimo', 'R'), ('nalíčený', 'A'...  \n",
       "921  [('den', 'N'), ('plynout', 'V'), ('za', 'R'), ...  \n",
       "\n",
       "[922 rows x 7 columns]"
      ]
     },
     "execution_count": 7,
     "metadata": {},
     "output_type": "execute_result"
    }
   ],
   "source": [
    "annotations_lemmas = pd.merge(annotations_1, lemmas, on='book_poem_id', how='left')\n",
    "annotations_lemmas"
   ]
  },
  {
   "cell_type": "markdown",
   "id": "33f7cf96",
   "metadata": {},
   "source": [
    "# Filter the data\n",
    "\n",
    "- Filter out all POS but Nouns (N), Adjectives (A) and Verbs (V)\n",
    "\n",
    "- Filter out frequent (stop)words that does not carry any extra semantic information"
   ]
  },
  {
   "cell_type": "code",
   "execution_count": 8,
   "id": "d4c41dc6",
   "metadata": {},
   "outputs": [],
   "source": [
    "stopwords = ['mít', 'jít', 'být', 'dát', 'moci', 'chtít']"
   ]
  },
  {
   "cell_type": "code",
   "execution_count": 9,
   "id": "9138ee1e",
   "metadata": {},
   "outputs": [
    {
     "name": "stdout",
     "output_type": "stream",
     "text": [
      "0 CPU times: user 990 ms, sys: 18.6 ms, total: 1.01 s\n",
      "Wall time: 1.02 s\n"
     ]
    }
   ],
   "source": [
    "%%time\n",
    "\n",
    "lemmas_filtered_column = []\n",
    "\n",
    "# extract lemmas with N, A or V POS tag\n",
    "for index, poem in annotations_lemmas.iterrows():\n",
    "    if index % 1000 == 0:\n",
    "        print(index, end=' ')\n",
    "    \n",
    "    lemmas_filtered_poem = []\n",
    "    lemmas_poem = literal_eval(poem['lemmas'])\n",
    "    for lemma_pos in lemmas_poem:\n",
    "        lemma, pos = lemma_pos\n",
    "        if pos in ['N', 'A', 'V'] and lemma not in stopwords:\n",
    "            lemmas_filtered_poem.append(lemma)\n",
    "    lemmas_filtered_column.append(lemmas_filtered_poem)"
   ]
  },
  {
   "cell_type": "code",
   "execution_count": 10,
   "id": "5bdf2f1e",
   "metadata": {},
   "outputs": [
    {
     "data": {
      "text/html": [
       "<div>\n",
       "<style scoped>\n",
       "    .dataframe tbody tr th:only-of-type {\n",
       "        vertical-align: middle;\n",
       "    }\n",
       "\n",
       "    .dataframe tbody tr th {\n",
       "        vertical-align: top;\n",
       "    }\n",
       "\n",
       "    .dataframe thead th {\n",
       "        text-align: right;\n",
       "    }\n",
       "</style>\n",
       "<table border=\"1\" class=\"dataframe\">\n",
       "  <thead>\n",
       "    <tr style=\"text-align: right;\">\n",
       "      <th></th>\n",
       "      <th>book_poem_id</th>\n",
       "      <th>poem_id</th>\n",
       "      <th>book_id</th>\n",
       "      <th>id_topic</th>\n",
       "      <th>value</th>\n",
       "      <th>name</th>\n",
       "      <th>lemmas</th>\n",
       "      <th>lemmas_filtered</th>\n",
       "    </tr>\n",
       "  </thead>\n",
       "  <tbody>\n",
       "    <tr>\n",
       "      <th>0</th>\n",
       "      <td>2_0001-0000-0000-0005-0000</td>\n",
       "      <td>0001-0000-0000-0005-0000</td>\n",
       "      <td>2</td>\n",
       "      <td>13</td>\n",
       "      <td>1</td>\n",
       "      <td>Práce</td>\n",
       "      <td>[('chuť', 'N'), ('k', 'R'), ('práce', 'N'), ('...</td>\n",
       "      <td>[chuť, práce, milý, dítě, bůh, práce, síla, ďá...</td>\n",
       "    </tr>\n",
       "    <tr>\n",
       "      <th>1</th>\n",
       "      <td>2_0001-0000-0000-0008-0000</td>\n",
       "      <td>0001-0000-0000-0008-0000</td>\n",
       "      <td>2</td>\n",
       "      <td>9</td>\n",
       "      <td>1</td>\n",
       "      <td>Náboženství/víra</td>\n",
       "      <td>[('truchlit', 'V'), ('když', 'J'), ('rána', 'N...</td>\n",
       "      <td>[truchlit, rána, bolný, lidský, zloba, usoudit...</td>\n",
       "    </tr>\n",
       "    <tr>\n",
       "      <th>2</th>\n",
       "      <td>3_0001-0003-0000-0012-0000</td>\n",
       "      <td>0001-0003-0000-0012-0000</td>\n",
       "      <td>3</td>\n",
       "      <td>9</td>\n",
       "      <td>1</td>\n",
       "      <td>Náboženství/víra</td>\n",
       "      <td>[('srdce', 'N'), ('Páně', 'A'), ('velechrám', ...</td>\n",
       "      <td>[srdce, Páně, velechrám, svatý, skvít, záře, k...</td>\n",
       "    </tr>\n",
       "    <tr>\n",
       "      <th>3</th>\n",
       "      <td>7_0001-0000-0000-0065-0000</td>\n",
       "      <td>0001-0000-0000-0065-0000</td>\n",
       "      <td>7</td>\n",
       "      <td>20</td>\n",
       "      <td>1</td>\n",
       "      <td>Umění/literatura, poezie/tvorba</td>\n",
       "      <td>[('náš', 'P'), ('lid', 'N'), ('ty', 'P'), ('ch...</td>\n",
       "      <td>[lid, chránit, stánek, chudý, slavíček, smutný...</td>\n",
       "    </tr>\n",
       "    <tr>\n",
       "      <th>4</th>\n",
       "      <td>8_0001-0000-0000-0004-0000</td>\n",
       "      <td>0001-0000-0000-0004-0000</td>\n",
       "      <td>8</td>\n",
       "      <td>30</td>\n",
       "      <td>1</td>\n",
       "      <td>Sebereflexe/vnitřní život</td>\n",
       "      <td>[('mít', 'V'), ('plout', 'V'), ('loď', 'N'), (...</td>\n",
       "      <td>[plout, loď, daleký, vodní, pláň, modrý, dálka...</td>\n",
       "    </tr>\n",
       "    <tr>\n",
       "      <th>...</th>\n",
       "      <td>...</td>\n",
       "      <td>...</td>\n",
       "      <td>...</td>\n",
       "      <td>...</td>\n",
       "      <td>...</td>\n",
       "      <td>...</td>\n",
       "      <td>...</td>\n",
       "      <td>...</td>\n",
       "    </tr>\n",
       "    <tr>\n",
       "      <th>917</th>\n",
       "      <td>1675_0001-0005-0000-0028-0000</td>\n",
       "      <td>0001-0005-0000-0028-0000</td>\n",
       "      <td>1675</td>\n",
       "      <td>14</td>\n",
       "      <td>1</td>\n",
       "      <td>Příroda</td>\n",
       "      <td>[('do', 'R'), ('duše', 'N'), ('rozjásaný', 'A'...</td>\n",
       "      <td>[duše, rozjásaný, slavný, zachytit, zář, korun...</td>\n",
       "    </tr>\n",
       "    <tr>\n",
       "      <th>918</th>\n",
       "      <td>1675_0001-0005-0000-0042-0000</td>\n",
       "      <td>0001-0005-0000-0042-0000</td>\n",
       "      <td>1675</td>\n",
       "      <td>30</td>\n",
       "      <td>1</td>\n",
       "      <td>Sebereflexe/vnitřní život</td>\n",
       "      <td>[('ó', 'I'), ('smutný', 'A'), ('srdce', 'N'), ...</td>\n",
       "      <td>[smutný, srdce, zatoulat, bledý, soumrak, vůně...</td>\n",
       "    </tr>\n",
       "    <tr>\n",
       "      <th>919</th>\n",
       "      <td>1675_0001-0007-0001-0003-0000</td>\n",
       "      <td>0001-0007-0001-0003-0000</td>\n",
       "      <td>1675</td>\n",
       "      <td>12</td>\n",
       "      <td>1</td>\n",
       "      <td>Politika/společnost</td>\n",
       "      <td>[('jít', 'V'), ('mimo', 'R'), ('nalíčený', 'A'...</td>\n",
       "      <td>[nalíčený, žena, zrak, hořet, tmít, obočí, šíj...</td>\n",
       "    </tr>\n",
       "    <tr>\n",
       "      <th>920</th>\n",
       "      <td>1675_0001-0007-0001-0003-0000</td>\n",
       "      <td>0001-0007-0001-0003-0000</td>\n",
       "      <td>1675</td>\n",
       "      <td>26</td>\n",
       "      <td>1</td>\n",
       "      <td>Město</td>\n",
       "      <td>[('jít', 'V'), ('mimo', 'R'), ('nalíčený', 'A'...</td>\n",
       "      <td>[nalíčený, žena, zrak, hořet, tmít, obočí, šíj...</td>\n",
       "    </tr>\n",
       "    <tr>\n",
       "      <th>921</th>\n",
       "      <td>1675_0001-0007-0001-0013-0000</td>\n",
       "      <td>0001-0007-0001-0013-0000</td>\n",
       "      <td>1675</td>\n",
       "      <td>17</td>\n",
       "      <td>1</td>\n",
       "      <td>Smrt/umírání/stáří</td>\n",
       "      <td>[('den', 'N'), ('plynout', 'V'), ('za', 'R'), ...</td>\n",
       "      <td>[den, plynout, den, rok, rok, vítat, člověk, l...</td>\n",
       "    </tr>\n",
       "  </tbody>\n",
       "</table>\n",
       "<p>922 rows × 8 columns</p>\n",
       "</div>"
      ],
      "text/plain": [
       "                      book_poem_id                   poem_id  book_id  \\\n",
       "0       2_0001-0000-0000-0005-0000  0001-0000-0000-0005-0000        2   \n",
       "1       2_0001-0000-0000-0008-0000  0001-0000-0000-0008-0000        2   \n",
       "2       3_0001-0003-0000-0012-0000  0001-0003-0000-0012-0000        3   \n",
       "3       7_0001-0000-0000-0065-0000  0001-0000-0000-0065-0000        7   \n",
       "4       8_0001-0000-0000-0004-0000  0001-0000-0000-0004-0000        8   \n",
       "..                             ...                       ...      ...   \n",
       "917  1675_0001-0005-0000-0028-0000  0001-0005-0000-0028-0000     1675   \n",
       "918  1675_0001-0005-0000-0042-0000  0001-0005-0000-0042-0000     1675   \n",
       "919  1675_0001-0007-0001-0003-0000  0001-0007-0001-0003-0000     1675   \n",
       "920  1675_0001-0007-0001-0003-0000  0001-0007-0001-0003-0000     1675   \n",
       "921  1675_0001-0007-0001-0013-0000  0001-0007-0001-0013-0000     1675   \n",
       "\n",
       "     id_topic  value                             name  \\\n",
       "0          13      1                            Práce   \n",
       "1           9      1                 Náboženství/víra   \n",
       "2           9      1                 Náboženství/víra   \n",
       "3          20      1  Umění/literatura, poezie/tvorba   \n",
       "4          30      1        Sebereflexe/vnitřní život   \n",
       "..        ...    ...                              ...   \n",
       "917        14      1                          Příroda   \n",
       "918        30      1        Sebereflexe/vnitřní život   \n",
       "919        12      1              Politika/společnost   \n",
       "920        26      1                            Město   \n",
       "921        17      1               Smrt/umírání/stáří   \n",
       "\n",
       "                                                lemmas  \\\n",
       "0    [('chuť', 'N'), ('k', 'R'), ('práce', 'N'), ('...   \n",
       "1    [('truchlit', 'V'), ('když', 'J'), ('rána', 'N...   \n",
       "2    [('srdce', 'N'), ('Páně', 'A'), ('velechrám', ...   \n",
       "3    [('náš', 'P'), ('lid', 'N'), ('ty', 'P'), ('ch...   \n",
       "4    [('mít', 'V'), ('plout', 'V'), ('loď', 'N'), (...   \n",
       "..                                                 ...   \n",
       "917  [('do', 'R'), ('duše', 'N'), ('rozjásaný', 'A'...   \n",
       "918  [('ó', 'I'), ('smutný', 'A'), ('srdce', 'N'), ...   \n",
       "919  [('jít', 'V'), ('mimo', 'R'), ('nalíčený', 'A'...   \n",
       "920  [('jít', 'V'), ('mimo', 'R'), ('nalíčený', 'A'...   \n",
       "921  [('den', 'N'), ('plynout', 'V'), ('za', 'R'), ...   \n",
       "\n",
       "                                       lemmas_filtered  \n",
       "0    [chuť, práce, milý, dítě, bůh, práce, síla, ďá...  \n",
       "1    [truchlit, rána, bolný, lidský, zloba, usoudit...  \n",
       "2    [srdce, Páně, velechrám, svatý, skvít, záře, k...  \n",
       "3    [lid, chránit, stánek, chudý, slavíček, smutný...  \n",
       "4    [plout, loď, daleký, vodní, pláň, modrý, dálka...  \n",
       "..                                                 ...  \n",
       "917  [duše, rozjásaný, slavný, zachytit, zář, korun...  \n",
       "918  [smutný, srdce, zatoulat, bledý, soumrak, vůně...  \n",
       "919  [nalíčený, žena, zrak, hořet, tmít, obočí, šíj...  \n",
       "920  [nalíčený, žena, zrak, hořet, tmít, obočí, šíj...  \n",
       "921  [den, plynout, den, rok, rok, vítat, člověk, l...  \n",
       "\n",
       "[922 rows x 8 columns]"
      ]
     },
     "execution_count": 10,
     "metadata": {},
     "output_type": "execute_result"
    }
   ],
   "source": [
    "annotations_lemmas['lemmas_filtered'] = lemmas_filtered_column\n",
    "annotations_lemmas"
   ]
  },
  {
   "cell_type": "code",
   "execution_count": 11,
   "id": "72e11708",
   "metadata": {},
   "outputs": [],
   "source": [
    "#annotations_lemmas = annotations_lemmas.drop(['name'], axis=1)"
   ]
  },
  {
   "cell_type": "code",
   "execution_count": 12,
   "id": "b8a4ea58",
   "metadata": {},
   "outputs": [],
   "source": [
    "# join embeddings\n",
    "df_embeddings_word = pd.read_csv('../data/embeddings_NAV_mpnet_128.csv')"
   ]
  },
  {
   "cell_type": "code",
   "execution_count": 13,
   "id": "f5741eaf",
   "metadata": {},
   "outputs": [
    {
     "data": {
      "text/html": [
       "<div>\n",
       "<style scoped>\n",
       "    .dataframe tbody tr th:only-of-type {\n",
       "        vertical-align: middle;\n",
       "    }\n",
       "\n",
       "    .dataframe tbody tr th {\n",
       "        vertical-align: top;\n",
       "    }\n",
       "\n",
       "    .dataframe thead th {\n",
       "        text-align: right;\n",
       "    }\n",
       "</style>\n",
       "<table border=\"1\" class=\"dataframe\">\n",
       "  <thead>\n",
       "    <tr style=\"text-align: right;\">\n",
       "      <th></th>\n",
       "      <th>book_poem_id</th>\n",
       "      <th>poem_id</th>\n",
       "      <th>book_id</th>\n",
       "      <th>id_topic</th>\n",
       "      <th>value</th>\n",
       "      <th>lemmas</th>\n",
       "      <th>lemmas_filtered</th>\n",
       "      <th>embedding2</th>\n",
       "    </tr>\n",
       "  </thead>\n",
       "  <tbody>\n",
       "    <tr>\n",
       "      <th>0</th>\n",
       "      <td>2_0001-0000-0000-0005-0000</td>\n",
       "      <td>0001-0000-0000-0005-0000</td>\n",
       "      <td>2</td>\n",
       "      <td>13</td>\n",
       "      <td>1</td>\n",
       "      <td>[('chuť', 'N'), ('k', 'R'), ('práce', 'N'), ('...</td>\n",
       "      <td>[chuť, práce, milý, dítě, bůh, práce, síla, ďá...</td>\n",
       "      <td>[-0.01412671897560358, 0.03379524499177933, -0...</td>\n",
       "    </tr>\n",
       "    <tr>\n",
       "      <th>1</th>\n",
       "      <td>2_0001-0000-0000-0008-0000</td>\n",
       "      <td>0001-0000-0000-0008-0000</td>\n",
       "      <td>2</td>\n",
       "      <td>9</td>\n",
       "      <td>1</td>\n",
       "      <td>[('truchlit', 'V'), ('když', 'J'), ('rána', 'N...</td>\n",
       "      <td>[truchlit, rána, bolný, lidský, zloba, usoudit...</td>\n",
       "      <td>[0.024738769978284836, 0.06885555386543274, -0...</td>\n",
       "    </tr>\n",
       "    <tr>\n",
       "      <th>2</th>\n",
       "      <td>3_0001-0003-0000-0012-0000</td>\n",
       "      <td>0001-0003-0000-0012-0000</td>\n",
       "      <td>3</td>\n",
       "      <td>9</td>\n",
       "      <td>1</td>\n",
       "      <td>[('srdce', 'N'), ('Páně', 'A'), ('velechrám', ...</td>\n",
       "      <td>[srdce, Páně, velechrám, svatý, skvít, záře, k...</td>\n",
       "      <td>[-0.020508524030447006, 0.022936543449759483, ...</td>\n",
       "    </tr>\n",
       "    <tr>\n",
       "      <th>3</th>\n",
       "      <td>7_0001-0000-0000-0065-0000</td>\n",
       "      <td>0001-0000-0000-0065-0000</td>\n",
       "      <td>7</td>\n",
       "      <td>20</td>\n",
       "      <td>1</td>\n",
       "      <td>[('náš', 'P'), ('lid', 'N'), ('ty', 'P'), ('ch...</td>\n",
       "      <td>[lid, chránit, stánek, chudý, slavíček, smutný...</td>\n",
       "      <td>[0.0007290862849913538, -0.03849376365542412, ...</td>\n",
       "    </tr>\n",
       "    <tr>\n",
       "      <th>4</th>\n",
       "      <td>8_0001-0000-0000-0004-0000</td>\n",
       "      <td>0001-0000-0000-0004-0000</td>\n",
       "      <td>8</td>\n",
       "      <td>30</td>\n",
       "      <td>1</td>\n",
       "      <td>[('mít', 'V'), ('plout', 'V'), ('loď', 'N'), (...</td>\n",
       "      <td>[plout, loď, daleký, vodní, pláň, modrý, dálka...</td>\n",
       "      <td>[-0.016821762546896935, 0.09076590836048126, -...</td>\n",
       "    </tr>\n",
       "  </tbody>\n",
       "</table>\n",
       "</div>"
      ],
      "text/plain": [
       "                 book_poem_id                   poem_id  book_id  id_topic  \\\n",
       "0  2_0001-0000-0000-0005-0000  0001-0000-0000-0005-0000        2        13   \n",
       "1  2_0001-0000-0000-0008-0000  0001-0000-0000-0008-0000        2         9   \n",
       "2  3_0001-0003-0000-0012-0000  0001-0003-0000-0012-0000        3         9   \n",
       "3  7_0001-0000-0000-0065-0000  0001-0000-0000-0065-0000        7        20   \n",
       "4  8_0001-0000-0000-0004-0000  0001-0000-0000-0004-0000        8        30   \n",
       "\n",
       "   value                                             lemmas  \\\n",
       "0      1  [('chuť', 'N'), ('k', 'R'), ('práce', 'N'), ('...   \n",
       "1      1  [('truchlit', 'V'), ('když', 'J'), ('rána', 'N...   \n",
       "2      1  [('srdce', 'N'), ('Páně', 'A'), ('velechrám', ...   \n",
       "3      1  [('náš', 'P'), ('lid', 'N'), ('ty', 'P'), ('ch...   \n",
       "4      1  [('mít', 'V'), ('plout', 'V'), ('loď', 'N'), (...   \n",
       "\n",
       "                                     lemmas_filtered  \\\n",
       "0  [chuť, práce, milý, dítě, bůh, práce, síla, ďá...   \n",
       "1  [truchlit, rána, bolný, lidský, zloba, usoudit...   \n",
       "2  [srdce, Páně, velechrám, svatý, skvít, záře, k...   \n",
       "3  [lid, chránit, stánek, chudý, slavíček, smutný...   \n",
       "4  [plout, loď, daleký, vodní, pláň, modrý, dálka...   \n",
       "\n",
       "                                          embedding2  \n",
       "0  [-0.01412671897560358, 0.03379524499177933, -0...  \n",
       "1  [0.024738769978284836, 0.06885555386543274, -0...  \n",
       "2  [-0.020508524030447006, 0.022936543449759483, ...  \n",
       "3  [0.0007290862849913538, -0.03849376365542412, ...  \n",
       "4  [-0.016821762546896935, 0.09076590836048126, -...  "
      ]
     },
     "execution_count": 13,
     "metadata": {},
     "output_type": "execute_result"
    }
   ],
   "source": [
    "annotations_lemmas = pd.merge(annotations_lemmas, df_embeddings_word, how='left', on='book_poem_id')\n",
    "annotations_lemmas.head()"
   ]
  },
  {
   "cell_type": "code",
   "execution_count": 14,
   "id": "773b66f4",
   "metadata": {},
   "outputs": [],
   "source": [
    "annotations_lemmas.rename(columns={\"embedding2\": \"embedding_word\"}, inplace=True)"
   ]
  },
  {
   "cell_type": "code",
   "execution_count": 15,
   "id": "a6c4b12f",
   "metadata": {},
   "outputs": [],
   "source": [
    "annotations_lemmas['embedding_word'] = annotations_lemmas['embedding_word'].apply(lambda x: literal_eval(str(x)))"
   ]
  },
  {
   "cell_type": "code",
   "execution_count": 16,
   "id": "34a8b6f8",
   "metadata": {},
   "outputs": [
    {
     "data": {
      "text/html": [
       "<div>\n",
       "<style scoped>\n",
       "    .dataframe tbody tr th:only-of-type {\n",
       "        vertical-align: middle;\n",
       "    }\n",
       "\n",
       "    .dataframe tbody tr th {\n",
       "        vertical-align: top;\n",
       "    }\n",
       "\n",
       "    .dataframe thead th {\n",
       "        text-align: right;\n",
       "    }\n",
       "</style>\n",
       "<table border=\"1\" class=\"dataframe\">\n",
       "  <thead>\n",
       "    <tr style=\"text-align: right;\">\n",
       "      <th></th>\n",
       "      <th>book_poem_id</th>\n",
       "      <th>poem_id</th>\n",
       "      <th>book_id</th>\n",
       "      <th>id_topic</th>\n",
       "      <th>value</th>\n",
       "      <th>lemmas</th>\n",
       "      <th>lemmas_filtered</th>\n",
       "      <th>embedding_word</th>\n",
       "    </tr>\n",
       "  </thead>\n",
       "  <tbody>\n",
       "    <tr>\n",
       "      <th>0</th>\n",
       "      <td>2_0001-0000-0000-0005-0000</td>\n",
       "      <td>0001-0000-0000-0005-0000</td>\n",
       "      <td>2</td>\n",
       "      <td>13</td>\n",
       "      <td>1</td>\n",
       "      <td>[('chuť', 'N'), ('k', 'R'), ('práce', 'N'), ('...</td>\n",
       "      <td>[chuť, práce, milý, dítě, bůh, práce, síla, ďá...</td>\n",
       "      <td>[-0.01412671897560358, 0.03379524499177933, -0...</td>\n",
       "    </tr>\n",
       "  </tbody>\n",
       "</table>\n",
       "</div>"
      ],
      "text/plain": [
       "                 book_poem_id                   poem_id  book_id  id_topic  \\\n",
       "0  2_0001-0000-0000-0005-0000  0001-0000-0000-0005-0000        2        13   \n",
       "\n",
       "   value                                             lemmas  \\\n",
       "0      1  [('chuť', 'N'), ('k', 'R'), ('práce', 'N'), ('...   \n",
       "\n",
       "                                     lemmas_filtered  \\\n",
       "0  [chuť, práce, milý, dítě, bůh, práce, síla, ďá...   \n",
       "\n",
       "                                      embedding_word  \n",
       "0  [-0.01412671897560358, 0.03379524499177933, -0...  "
      ]
     },
     "execution_count": 16,
     "metadata": {},
     "output_type": "execute_result"
    }
   ],
   "source": [
    "annotations_lemmas.head(1)"
   ]
  },
  {
   "cell_type": "markdown",
   "id": "dc96e67a",
   "metadata": {},
   "source": [
    "# TFIDF classification"
   ]
  },
  {
   "cell_type": "code",
   "execution_count": 17,
   "id": "d1606c1d",
   "metadata": {},
   "outputs": [
    {
     "data": {
      "text/html": [
       "<div>\n",
       "<style scoped>\n",
       "    .dataframe tbody tr th:only-of-type {\n",
       "        vertical-align: middle;\n",
       "    }\n",
       "\n",
       "    .dataframe tbody tr th {\n",
       "        vertical-align: top;\n",
       "    }\n",
       "\n",
       "    .dataframe thead th {\n",
       "        text-align: right;\n",
       "    }\n",
       "</style>\n",
       "<table border=\"1\" class=\"dataframe\">\n",
       "  <thead>\n",
       "    <tr style=\"text-align: right;\">\n",
       "      <th></th>\n",
       "      <th>book_poem_id</th>\n",
       "      <th>id_topic</th>\n",
       "      <th>lemmas_filtered</th>\n",
       "      <th>preprocessed_text</th>\n",
       "    </tr>\n",
       "  </thead>\n",
       "  <tbody>\n",
       "    <tr>\n",
       "      <th>0</th>\n",
       "      <td>2_0001-0000-0000-0005-0000</td>\n",
       "      <td>13</td>\n",
       "      <td>[chuť, práce, milý, dítě, bůh, práce, síla, ďá...</td>\n",
       "      <td>chuť práce milý dítě bůh práce síla ďáblův pad...</td>\n",
       "    </tr>\n",
       "    <tr>\n",
       "      <th>1</th>\n",
       "      <td>2_0001-0000-0000-0008-0000</td>\n",
       "      <td>9</td>\n",
       "      <td>[truchlit, rána, bolný, lidský, zloba, usoudit...</td>\n",
       "      <td>truchlit rána bolný lidský zloba usoudit ruka ...</td>\n",
       "    </tr>\n",
       "    <tr>\n",
       "      <th>2</th>\n",
       "      <td>3_0001-0003-0000-0012-0000</td>\n",
       "      <td>9</td>\n",
       "      <td>[srdce, Páně, velechrám, svatý, skvít, záře, k...</td>\n",
       "      <td>srdce Páně velechrám svatý skvít záře kříž zna...</td>\n",
       "    </tr>\n",
       "    <tr>\n",
       "      <th>3</th>\n",
       "      <td>7_0001-0000-0000-0065-0000</td>\n",
       "      <td>20</td>\n",
       "      <td>[lid, chránit, stánek, chudý, slavíček, smutný...</td>\n",
       "      <td>lid chránit stánek chudý slavíček smutný hlas ...</td>\n",
       "    </tr>\n",
       "    <tr>\n",
       "      <th>4</th>\n",
       "      <td>8_0001-0000-0000-0004-0000</td>\n",
       "      <td>30</td>\n",
       "      <td>[plout, loď, daleký, vodní, pláň, modrý, dálka...</td>\n",
       "      <td>plout loď daleký vodní pláň modrý dálka štěstí...</td>\n",
       "    </tr>\n",
       "    <tr>\n",
       "      <th>...</th>\n",
       "      <td>...</td>\n",
       "      <td>...</td>\n",
       "      <td>...</td>\n",
       "      <td>...</td>\n",
       "    </tr>\n",
       "    <tr>\n",
       "      <th>917</th>\n",
       "      <td>1675_0001-0005-0000-0028-0000</td>\n",
       "      <td>14</td>\n",
       "      <td>[duše, rozjásaný, slavný, zachytit, zář, korun...</td>\n",
       "      <td>duše rozjásaný slavný zachytit zář koruna habr...</td>\n",
       "    </tr>\n",
       "    <tr>\n",
       "      <th>918</th>\n",
       "      <td>1675_0001-0005-0000-0042-0000</td>\n",
       "      <td>30</td>\n",
       "      <td>[smutný, srdce, zatoulat, bledý, soumrak, vůně...</td>\n",
       "      <td>smutný srdce zatoulat bledý soumrak vůně jeseň...</td>\n",
       "    </tr>\n",
       "    <tr>\n",
       "      <th>919</th>\n",
       "      <td>1675_0001-0007-0001-0003-0000</td>\n",
       "      <td>12</td>\n",
       "      <td>[nalíčený, žena, zrak, hořet, tmít, obočí, šíj...</td>\n",
       "      <td>nalíčený žena zrak hořet tmít obočí šíj rána n...</td>\n",
       "    </tr>\n",
       "    <tr>\n",
       "      <th>920</th>\n",
       "      <td>1675_0001-0007-0001-0003-0000</td>\n",
       "      <td>26</td>\n",
       "      <td>[nalíčený, žena, zrak, hořet, tmít, obočí, šíj...</td>\n",
       "      <td>nalíčený žena zrak hořet tmít obočí šíj rána n...</td>\n",
       "    </tr>\n",
       "    <tr>\n",
       "      <th>921</th>\n",
       "      <td>1675_0001-0007-0001-0013-0000</td>\n",
       "      <td>17</td>\n",
       "      <td>[den, plynout, den, rok, rok, vítat, člověk, l...</td>\n",
       "      <td>den plynout den rok rok vítat člověk lid zahoř...</td>\n",
       "    </tr>\n",
       "  </tbody>\n",
       "</table>\n",
       "<p>922 rows × 4 columns</p>\n",
       "</div>"
      ],
      "text/plain": [
       "                      book_poem_id  id_topic  \\\n",
       "0       2_0001-0000-0000-0005-0000        13   \n",
       "1       2_0001-0000-0000-0008-0000         9   \n",
       "2       3_0001-0003-0000-0012-0000         9   \n",
       "3       7_0001-0000-0000-0065-0000        20   \n",
       "4       8_0001-0000-0000-0004-0000        30   \n",
       "..                             ...       ...   \n",
       "917  1675_0001-0005-0000-0028-0000        14   \n",
       "918  1675_0001-0005-0000-0042-0000        30   \n",
       "919  1675_0001-0007-0001-0003-0000        12   \n",
       "920  1675_0001-0007-0001-0003-0000        26   \n",
       "921  1675_0001-0007-0001-0013-0000        17   \n",
       "\n",
       "                                       lemmas_filtered  \\\n",
       "0    [chuť, práce, milý, dítě, bůh, práce, síla, ďá...   \n",
       "1    [truchlit, rána, bolný, lidský, zloba, usoudit...   \n",
       "2    [srdce, Páně, velechrám, svatý, skvít, záře, k...   \n",
       "3    [lid, chránit, stánek, chudý, slavíček, smutný...   \n",
       "4    [plout, loď, daleký, vodní, pláň, modrý, dálka...   \n",
       "..                                                 ...   \n",
       "917  [duše, rozjásaný, slavný, zachytit, zář, korun...   \n",
       "918  [smutný, srdce, zatoulat, bledý, soumrak, vůně...   \n",
       "919  [nalíčený, žena, zrak, hořet, tmít, obočí, šíj...   \n",
       "920  [nalíčený, žena, zrak, hořet, tmít, obočí, šíj...   \n",
       "921  [den, plynout, den, rok, rok, vítat, člověk, l...   \n",
       "\n",
       "                                     preprocessed_text  \n",
       "0    chuť práce milý dítě bůh práce síla ďáblův pad...  \n",
       "1    truchlit rána bolný lidský zloba usoudit ruka ...  \n",
       "2    srdce Páně velechrám svatý skvít záře kříž zna...  \n",
       "3    lid chránit stánek chudý slavíček smutný hlas ...  \n",
       "4    plout loď daleký vodní pláň modrý dálka štěstí...  \n",
       "..                                                 ...  \n",
       "917  duše rozjásaný slavný zachytit zář koruna habr...  \n",
       "918  smutný srdce zatoulat bledý soumrak vůně jeseň...  \n",
       "919  nalíčený žena zrak hořet tmít obočí šíj rána n...  \n",
       "920  nalíčený žena zrak hořet tmít obočí šíj rána n...  \n",
       "921  den plynout den rok rok vítat člověk lid zahoř...  \n",
       "\n",
       "[922 rows x 4 columns]"
      ]
     },
     "execution_count": 17,
     "metadata": {},
     "output_type": "execute_result"
    }
   ],
   "source": [
    "data = pd.DataFrame()\n",
    "data = annotations_lemmas[['book_poem_id', 'id_topic', 'name', 'lemmas_filtered']]\n",
    "data['preprocessed_text'] = annotations_lemmas['lemmas_filtered'].apply(lambda x: ' '.join(x))\n",
    "data"
   ]
  },
  {
   "cell_type": "code",
   "execution_count": 18,
   "id": "23d50bbf",
   "metadata": {},
   "outputs": [],
   "source": [
    "annotations_lemmas['preprocessed_text'] = annotations_lemmas['lemmas_filtered'].apply(lambda x: ' '.join(x))"
   ]
  },
  {
   "cell_type": "code",
   "execution_count": 19,
   "id": "bf3e8d4e",
   "metadata": {},
   "outputs": [],
   "source": [
    "X = annotations_lemmas[['preprocessed_text', 'embedding_word']].copy()\n",
    "y = annotations_lemmas[['id_topic']].copy()"
   ]
  },
  {
   "cell_type": "code",
   "execution_count": 109,
   "id": "1cb41da5",
   "metadata": {},
   "outputs": [],
   "source": [
    "X_train, X_test, y_train, y_test = train_test_split(X, y, test_size=0.3, random_state=42, stratify=y)"
   ]
  },
  {
   "cell_type": "code",
   "execution_count": 110,
   "id": "ba1e1bca",
   "metadata": {},
   "outputs": [
    {
     "name": "stdout",
     "output_type": "stream",
     "text": [
      "645 277\n"
     ]
    }
   ],
   "source": [
    "print(len(X_train), len(X_test))"
   ]
  },
  {
   "cell_type": "code",
   "execution_count": 111,
   "id": "3b5c526e",
   "metadata": {},
   "outputs": [
    {
     "data": {
      "text/plain": [
       "id_topic\n",
       "25          171\n",
       "30          111\n",
       "9            85\n",
       "14           85\n",
       "17           77\n",
       "12           64\n",
       "20           64\n",
       "28           51\n",
       "16           37\n",
       "29           32\n",
       "1            29\n",
       "13           16\n",
       "4            16\n",
       "2            15\n",
       "26           13\n",
       "24            9\n",
       "19            9\n",
       "15            8\n",
       "21            8\n",
       "23            8\n",
       "22            4\n",
       "27            4\n",
       "3             4\n",
       "18            2\n",
       "dtype: int64"
      ]
     },
     "execution_count": 111,
     "metadata": {},
     "output_type": "execute_result"
    }
   ],
   "source": [
    "y.value_counts()"
   ]
  },
  {
   "cell_type": "code",
   "execution_count": 112,
   "id": "5b2f7616",
   "metadata": {},
   "outputs": [
    {
     "data": {
      "text/plain": [
       "id_topic\n",
       "25          120\n",
       "30           78\n",
       "9            59\n",
       "14           59\n",
       "17           54\n",
       "12           45\n",
       "20           45\n",
       "28           36\n",
       "16           26\n",
       "29           22\n",
       "1            20\n",
       "13           11\n",
       "4            11\n",
       "2            10\n",
       "26            9\n",
       "15            6\n",
       "21            6\n",
       "23            6\n",
       "24            6\n",
       "19            6\n",
       "22            3\n",
       "27            3\n",
       "3             3\n",
       "18            1\n",
       "dtype: int64"
      ]
     },
     "execution_count": 112,
     "metadata": {},
     "output_type": "execute_result"
    }
   ],
   "source": [
    "df_y = pd.DataFrame(data=y_train)\n",
    "df_y.value_counts()"
   ]
  },
  {
   "cell_type": "markdown",
   "id": "6c996e6d",
   "metadata": {},
   "source": [
    "# Oversampling"
   ]
  },
  {
   "cell_type": "code",
   "execution_count": 22,
   "id": "34ced677",
   "metadata": {},
   "outputs": [],
   "source": [
    "# Apply random oversampling to the minority class\n",
    "from imblearn.over_sampling import RandomOverSampler\n",
    "\n",
    "ros = RandomOverSampler(random_state=RANDOM_STATE)\n",
    "X_train_sampled, y_train_sampled = ros.fit_resample(X_train, y_train)"
   ]
  },
  {
   "cell_type": "code",
   "execution_count": 23,
   "id": "dfb0e283",
   "metadata": {
    "scrolled": true
   },
   "outputs": [
    {
     "data": {
      "text/plain": [
       "id_topic\n",
       "1           120\n",
       "2           120\n",
       "29          120\n",
       "28          120\n",
       "27          120\n",
       "26          120\n",
       "25          120\n",
       "24          120\n",
       "23          120\n",
       "22          120\n",
       "21          120\n",
       "20          120\n",
       "19          120\n",
       "18          120\n",
       "17          120\n",
       "16          120\n",
       "15          120\n",
       "14          120\n",
       "13          120\n",
       "12          120\n",
       "9           120\n",
       "4           120\n",
       "3           120\n",
       "30          120\n",
       "dtype: int64"
      ]
     },
     "execution_count": 23,
     "metadata": {},
     "output_type": "execute_result"
    }
   ],
   "source": [
    "y_train_sampled.value_counts()"
   ]
  },
  {
   "cell_type": "markdown",
   "id": "dce2e9f6",
   "metadata": {},
   "source": [
    "# Encode target variable"
   ]
  },
  {
   "cell_type": "code",
   "execution_count": 24,
   "id": "d13e19af",
   "metadata": {},
   "outputs": [],
   "source": [
    "X_train = X_train_sampled\n",
    "y_train = y_train_sampled"
   ]
  },
  {
   "cell_type": "code",
   "execution_count": 25,
   "id": "265eeb4b",
   "metadata": {},
   "outputs": [],
   "source": [
    "# Encoding of target variable - convert text labels into numbers\n",
    "encoder = LabelEncoder()\n",
    "encoder_fitted = encoder.fit(y_train)"
   ]
  },
  {
   "cell_type": "code",
   "execution_count": 26,
   "id": "a7e4711d",
   "metadata": {},
   "outputs": [],
   "source": [
    "y_train = encoder_fitted.transform(y_train)\n",
    "y_test = encoder_fitted.transform(y_test)"
   ]
  },
  {
   "cell_type": "code",
   "execution_count": 27,
   "id": "f94d6cc4",
   "metadata": {},
   "outputs": [
    {
     "data": {
      "text/plain": [
       "array([ 1,  2,  3,  4,  9, 12, 13, 14, 15, 16, 17, 18, 19, 20, 21, 22, 23,\n",
       "       24, 25, 26, 27, 28, 29, 30])"
      ]
     },
     "execution_count": 27,
     "metadata": {},
     "output_type": "execute_result"
    }
   ],
   "source": [
    "encoder_fitted.classes_"
   ]
  },
  {
   "cell_type": "code",
   "execution_count": 28,
   "id": "f4820746",
   "metadata": {},
   "outputs": [
    {
     "data": {
      "text/plain": [
       "array([ 0,  1,  2,  3,  4,  5,  6,  7,  8,  9, 10, 11, 12, 13, 14, 15, 16,\n",
       "       17, 18, 19, 20, 21, 22, 23])"
      ]
     },
     "execution_count": 28,
     "metadata": {},
     "output_type": "execute_result"
    }
   ],
   "source": [
    "encoder_fitted.transform([ 1,  2,  3,  4,  9, 12, 13, 14, 15, 16, 17, 18, 19, 20, 21, 22, 23,\n",
    "       24, 25, 26, 27, 28, 29, 30])"
   ]
  },
  {
   "cell_type": "markdown",
   "id": "9323e5f9",
   "metadata": {},
   "source": [
    "# Vectorization"
   ]
  },
  {
   "cell_type": "code",
   "execution_count": 29,
   "id": "9c62366f",
   "metadata": {},
   "outputs": [],
   "source": [
    "vectorizer_tfidf = TfidfVectorizer()  # good for SVM\n",
    "vectorizer_count = CountVectorizer()  # good for Naive Bayes\n",
    "\n",
    "vectorizer_fitted_tfidf = vectorizer_tfidf.fit(X_train['preprocessed_text'])\n",
    "vectorizer_fitted_count = vectorizer_count.fit(X_train['preprocessed_text'])"
   ]
  },
  {
   "cell_type": "code",
   "execution_count": 30,
   "id": "2428fcb2",
   "metadata": {},
   "outputs": [],
   "source": [
    "train_X_encodings_tfidf = vectorizer_fitted_tfidf.transform(X_train['preprocessed_text'])\n",
    "test_X_encodings_tfidf = vectorizer_fitted_tfidf.transform(X_test['preprocessed_text'])\n",
    "\n",
    "train_X_encodings_count = vectorizer_fitted_count.transform(X_train['preprocessed_text'])\n",
    "test_X_encodings_count = vectorizer_fitted_count.transform(X_test['preprocessed_text'])"
   ]
  },
  {
   "cell_type": "code",
   "execution_count": 31,
   "id": "5afca121",
   "metadata": {},
   "outputs": [
    {
     "data": {
      "text/plain": [
       "<2880x9715 sparse matrix of type '<class 'numpy.float64'>'\n",
       "\twith 190786 stored elements in Compressed Sparse Row format>"
      ]
     },
     "execution_count": 31,
     "metadata": {},
     "output_type": "execute_result"
    }
   ],
   "source": [
    "train_X_encodings_tfidf"
   ]
  },
  {
   "cell_type": "code",
   "execution_count": 32,
   "id": "733107c6",
   "metadata": {},
   "outputs": [],
   "source": [
    "train_X_embeddings_word = X_train['embedding_word'].to_list()\n",
    "test_X_embeddings_word = X_test['embedding_word'].to_list()"
   ]
  },
  {
   "cell_type": "markdown",
   "id": "165a0875",
   "metadata": {},
   "source": [
    "# ML"
   ]
  },
  {
   "cell_type": "code",
   "execution_count": 33,
   "id": "3e8076db",
   "metadata": {},
   "outputs": [],
   "source": [
    "def grid_search(estimator, param_grid, X, y, cv=5, scoring='accuracy'):\n",
    "    # Create the GridSearchCV object\n",
    "    grid_search = GridSearchCV(estimator, param_grid, cv=cv, n_jobs=-1, scoring=scoring)\n",
    "\n",
    "    # Fit the GridSearchCV object to the data\n",
    "    grid_search.fit(X, y)\n",
    "    \n",
    "    return grid_search.best_params_, grid_search.best_score_"
   ]
  },
  {
   "cell_type": "code",
   "execution_count": 34,
   "id": "f3477f7b",
   "metadata": {},
   "outputs": [],
   "source": [
    "results = dict()"
   ]
  },
  {
   "cell_type": "code",
   "execution_count": 35,
   "id": "80551eaf",
   "metadata": {},
   "outputs": [],
   "source": [
    "f1_macro_scorer = make_scorer(f1_score, average='macro')"
   ]
  },
  {
   "cell_type": "code",
   "execution_count": 36,
   "id": "33fa8b47",
   "metadata": {},
   "outputs": [],
   "source": [
    "scoring = 'accuracy'"
   ]
  },
  {
   "cell_type": "code",
   "execution_count": 37,
   "id": "f24256b2",
   "metadata": {},
   "outputs": [],
   "source": [
    "# Create k-fold cross-validation object\n",
    "kfold = KFold(n_splits=5, shuffle=True, random_state=RANDOM_STATE)"
   ]
  },
  {
   "cell_type": "code",
   "execution_count": 38,
   "id": "4a420e2e",
   "metadata": {},
   "outputs": [
    {
     "name": "stdout",
     "output_type": "stream",
     "text": [
      "Cross-validation scores: [0.86805556 0.88541667 0.89583333 0.890625   0.89930556]\n",
      "Average cross-validation score: 0.8878\n",
      "{'MultinomialNB_BoW': 0.8878472222222223}\n"
     ]
    }
   ],
   "source": [
    "model_name = 'MultinomialNB_BoW'\n",
    "\n",
    "nb_classifier = naive_bayes.MultinomialNB()\n",
    "\n",
    "# Evaluate model using cross-validation\n",
    "scores = cross_val_score(nb_classifier, train_X_encodings_count, y_train, cv=kfold, scoring=scoring)\n",
    "\n",
    "# Print results\n",
    "print(\"Cross-validation scores: {}\".format(scores))\n",
    "print(\"Average cross-validation score: {:.4f}\".format(np.mean(scores)))\n",
    "\n",
    "results[model_name] = np.mean(scores)\n",
    "print(results)"
   ]
  },
  {
   "cell_type": "code",
   "execution_count": 39,
   "id": "e470bf4a",
   "metadata": {},
   "outputs": [
    {
     "name": "stdout",
     "output_type": "stream",
     "text": [
      "Cross-validation scores: [0.85416667 0.875      0.88541667 0.875      0.88194444]\n",
      "Average cross-validation score: 0.8743\n",
      "{'MultinomialNB_BoW': 0.8878472222222223, 'MultinomialNB_TFIDF': 0.8743055555555556}\n"
     ]
    }
   ],
   "source": [
    "model_name = 'MultinomialNB_TFIDF'\n",
    "\n",
    "nb_classifier = naive_bayes.MultinomialNB()\n",
    "\n",
    "# Evaluate model using cross-validation\n",
    "scores = cross_val_score(nb_classifier, train_X_encodings_tfidf, y_train, cv=kfold, scoring=scoring)\n",
    "\n",
    "# Print results\n",
    "print(\"Cross-validation scores: {}\".format(scores))\n",
    "print(\"Average cross-validation score: {:.4f}\".format(np.mean(scores)))\n",
    "\n",
    "results[model_name] = np.mean(scores)\n",
    "print(results)"
   ]
  },
  {
   "cell_type": "code",
   "execution_count": 40,
   "id": "e89204b7",
   "metadata": {},
   "outputs": [],
   "source": [
    "# neumí pracovat se zápornými embeddingy\n",
    "#model_name = 'MultinomialNB_word_embed.'"
   ]
  },
  {
   "cell_type": "code",
   "execution_count": 41,
   "id": "3e058b7a",
   "metadata": {},
   "outputs": [
    {
     "name": "stdout",
     "output_type": "stream",
     "text": [
      "Cross-validation scores: [0.85590278 0.86631944 0.87847222 0.86458333 0.88020833]\n",
      "Average cross-validation score: 0.87\n",
      "{'MultinomialNB_BoW': 0.8878472222222223, 'MultinomialNB_TFIDF': 0.8743055555555556, 'ComplementNB_BoW': 0.8690972222222223}\n"
     ]
    }
   ],
   "source": [
    "model_name = 'ComplementNB_BoW'\n",
    "\n",
    "nb_classifier = naive_bayes.ComplementNB()\n",
    "\n",
    "# Evaluate model using cross-validation\n",
    "scores = cross_val_score(nb_classifier, train_X_encodings_count, y_train, cv=kfold, scoring=scoring)\n",
    "\n",
    "# Print results\n",
    "print(\"Cross-validation scores: {}\".format(scores))\n",
    "print(\"Average cross-validation score: {:.2f}\".format(np.mean(scores)))\n",
    "\n",
    "results[model_name] = np.mean(scores)\n",
    "print(results)"
   ]
  },
  {
   "cell_type": "code",
   "execution_count": 42,
   "id": "2af1b1fd",
   "metadata": {},
   "outputs": [
    {
     "name": "stdout",
     "output_type": "stream",
     "text": [
      "Cross-validation scores: [0.84722222 0.86458333 0.87673611 0.87152778 0.87152778]\n",
      "Average cross-validation score: 0.87\n",
      "{'MultinomialNB_BoW': 0.8878472222222223, 'MultinomialNB_TFIDF': 0.8743055555555556, 'ComplementNB_BoW': 0.8690972222222223, 'ComplementNB_TFIDF': 0.8663194444444444}\n"
     ]
    }
   ],
   "source": [
    "model_name = 'ComplementNB_TFIDF'\n",
    "\n",
    "nb_classifier = naive_bayes.ComplementNB()\n",
    "\n",
    "# Evaluate model using cross-validation\n",
    "scores = cross_val_score(nb_classifier, train_X_encodings_tfidf, y_train, cv=kfold, scoring=scoring)\n",
    "\n",
    "# Print results\n",
    "print(\"Cross-validation scores: {}\".format(scores))\n",
    "print(\"Average cross-validation score: {:.2f}\".format(np.mean(scores)))\n",
    "\n",
    "results[model_name] = np.mean(scores)\n",
    "print(results)"
   ]
  },
  {
   "cell_type": "code",
   "execution_count": 43,
   "id": "9832f6ed",
   "metadata": {},
   "outputs": [],
   "source": [
    "# neumí pracovat se zápornými embeddingy\n",
    "#model_name = 'ComplementNB_word_embed.'"
   ]
  },
  {
   "cell_type": "code",
   "execution_count": 44,
   "id": "09645cd2",
   "metadata": {},
   "outputs": [
    {
     "name": "stdout",
     "output_type": "stream",
     "text": [
      "Best parameters:  {'C': 4}\n",
      "Best score:  0.9128472222222221\n",
      "{'MultinomialNB_BoW': 0.8878472222222223, 'MultinomialNB_TFIDF': 0.8743055555555556, 'ComplementNB_BoW': 0.8690972222222223, 'ComplementNB_TFIDF': 0.8663194444444444, 'SVC_BoW': 0.9128472222222221}\n"
     ]
    }
   ],
   "source": [
    "model_name = 'SVC_BoW'\n",
    "\n",
    "# Define the parameter grid\n",
    "param_grid_svc = {\n",
    "    'C': [4, 4.5, 5, 5.5, 6]\n",
    "}\n",
    "\n",
    "best_params, best_score = grid_search(svm.SVC(random_state=RANDOM_STATE),\n",
    "                                      param_grid_svc,\n",
    "                                      train_X_encodings_count,\n",
    "                                      y_train,\n",
    "                                      scoring=scoring)\n",
    "\n",
    "# Print the best parameters and score\n",
    "print(\"Best parameters: \", best_params)\n",
    "print(\"Best score: \", best_score)\n",
    "\n",
    "results[model_name] = best_score\n",
    "print(results)"
   ]
  },
  {
   "cell_type": "code",
   "execution_count": 45,
   "id": "fbc62853",
   "metadata": {},
   "outputs": [
    {
     "name": "stdout",
     "output_type": "stream",
     "text": [
      "Best parameters:  {'C': 1.5}\n",
      "Best score:  0.9145833333333334\n",
      "{'MultinomialNB_BoW': 0.8878472222222223, 'MultinomialNB_TFIDF': 0.8743055555555556, 'ComplementNB_BoW': 0.8690972222222223, 'ComplementNB_TFIDF': 0.8663194444444444, 'SVC_BoW': 0.9128472222222221, 'SVC_TFIDF': 0.9145833333333334}\n"
     ]
    }
   ],
   "source": [
    "model_name = 'SVC_TFIDF'\n",
    "\n",
    "# Define the parameter grid\n",
    "param_grid_svc = {\n",
    "    'C': [1, 1.5, 2, 2.5, 3]\n",
    "}\n",
    "\n",
    "best_params, best_score = grid_search(svm.SVC(random_state=RANDOM_STATE),\n",
    "                                      param_grid_svc,\n",
    "                                      train_X_encodings_tfidf,\n",
    "                                      y_train,\n",
    "                                      scoring=scoring)\n",
    "\n",
    "# Print the best parameters and score\n",
    "print(\"Best parameters: \", best_params)\n",
    "print(\"Best score: \", best_score)\n",
    "\n",
    "results[model_name] = best_score\n",
    "print(results)"
   ]
  },
  {
   "cell_type": "code",
   "execution_count": 46,
   "id": "135d2270",
   "metadata": {},
   "outputs": [
    {
     "name": "stdout",
     "output_type": "stream",
     "text": [
      "Best parameters:  {'C': 9}\n",
      "Best score:  0.9003472222222222\n",
      "{'MultinomialNB_BoW': 0.8878472222222223, 'MultinomialNB_TFIDF': 0.8743055555555556, 'ComplementNB_BoW': 0.8690972222222223, 'ComplementNB_TFIDF': 0.8663194444444444, 'SVC_BoW': 0.9128472222222221, 'SVC_TFIDF': 0.9145833333333334, 'SVC_sentence_embed.': 0.9003472222222222}\n"
     ]
    }
   ],
   "source": [
    "model_name = 'SVC_sentence_embed.'\n",
    "\n",
    "# Define the parameter grid\n",
    "param_grid_svc = {\n",
    "    'C': [7, 7.5, 8, 8.5, 9]\n",
    "}\n",
    "\n",
    "best_params, best_score = grid_search(svm.SVC(random_state=RANDOM_STATE),\n",
    "                                      param_grid_svc,\n",
    "                                      train_X_embeddings_word,\n",
    "                                      y_train,\n",
    "                                      scoring=scoring)\n",
    "\n",
    "# Print the best parameters and score\n",
    "print(\"Best parameters: \", best_params)\n",
    "print(\"Best score: \", best_score)\n",
    "\n",
    "results[model_name] = best_score\n",
    "print(results)"
   ]
  },
  {
   "cell_type": "code",
   "execution_count": 47,
   "id": "54ff8b98",
   "metadata": {},
   "outputs": [
    {
     "name": "stdout",
     "output_type": "stream",
     "text": [
      "Best parameters:  {'nu': 0.2}\n",
      "Best score:  0.9121527777777777\n",
      "{'MultinomialNB_BoW': 0.8878472222222223, 'MultinomialNB_TFIDF': 0.8743055555555556, 'ComplementNB_BoW': 0.8690972222222223, 'ComplementNB_TFIDF': 0.8663194444444444, 'SVC_BoW': 0.9128472222222221, 'SVC_TFIDF': 0.9145833333333334, 'SVC_sentence_embed.': 0.9003472222222222, 'NuSVC_BoW': 0.9121527777777777}\n"
     ]
    }
   ],
   "source": [
    "model_name = 'NuSVC_BoW'\n",
    "\n",
    "# Define the parameter grid\n",
    "param_grid_nu = {\n",
    "    'nu': [0.1, 0.2, 0.3, 0.4],\n",
    "}\n",
    "\n",
    "best_params, best_score = grid_search(svm.NuSVC(random_state=RANDOM_STATE),\n",
    "                                      param_grid_nu,\n",
    "                                      train_X_encodings_count,\n",
    "                                      y_train,\n",
    "                                      scoring=scoring)\n",
    "\n",
    "# Print the best parameters and score\n",
    "print(\"Best parameters: \", best_params)\n",
    "print(\"Best score: \", best_score)\n",
    "\n",
    "results[model_name] = best_score\n",
    "print(results)"
   ]
  },
  {
   "cell_type": "code",
   "execution_count": 48,
   "id": "4d953bc0",
   "metadata": {},
   "outputs": [
    {
     "name": "stdout",
     "output_type": "stream",
     "text": [
      "Best parameters:  {'nu': 0.2}\n",
      "Best score:  0.9145833333333334\n",
      "{'MultinomialNB_BoW': 0.8878472222222223, 'MultinomialNB_TFIDF': 0.8743055555555556, 'ComplementNB_BoW': 0.8690972222222223, 'ComplementNB_TFIDF': 0.8663194444444444, 'SVC_BoW': 0.9128472222222221, 'SVC_TFIDF': 0.9145833333333334, 'SVC_sentence_embed.': 0.9003472222222222, 'NuSVC_BoW': 0.9121527777777777, 'NuSVC_TFIDF': 0.9145833333333334}\n"
     ]
    }
   ],
   "source": [
    "model_name = 'NuSVC_TFIDF'\n",
    "\n",
    "# Define the parameter grid\n",
    "param_grid_nu = {\n",
    "    'nu': [0.1, 0.2, 0.3, 0.4],\n",
    "}\n",
    "\n",
    "best_params, best_score = grid_search(svm.NuSVC(random_state=RANDOM_STATE),\n",
    "                                      param_grid_nu,\n",
    "                                      train_X_encodings_tfidf,\n",
    "                                      y_train,\n",
    "                                      scoring=scoring)\n",
    "\n",
    "# Print the best parameters and score\n",
    "print(\"Best parameters: \", best_params)\n",
    "print(\"Best score: \", best_score)\n",
    "\n",
    "results[model_name] = best_score\n",
    "print(results)"
   ]
  },
  {
   "cell_type": "code",
   "execution_count": 49,
   "id": "8f73b693",
   "metadata": {},
   "outputs": [
    {
     "name": "stdout",
     "output_type": "stream",
     "text": [
      "Best parameters:  {'nu': 0.1}\n",
      "Best score:  0.9052083333333332\n",
      "{'MultinomialNB_BoW': 0.8878472222222223, 'MultinomialNB_TFIDF': 0.8743055555555556, 'ComplementNB_BoW': 0.8690972222222223, 'ComplementNB_TFIDF': 0.8663194444444444, 'SVC_BoW': 0.9128472222222221, 'SVC_TFIDF': 0.9145833333333334, 'SVC_sentence_embed.': 0.9003472222222222, 'NuSVC_BoW': 0.9121527777777777, 'NuSVC_TFIDF': 0.9145833333333334, 'NuSVC_sentence_embed.': 0.9052083333333332}\n"
     ]
    }
   ],
   "source": [
    "model_name = 'NuSVC_sentence_embed.'\n",
    "\n",
    "# Define the parameter grid\n",
    "param_grid_nu = {\n",
    "    'nu': [0.1, 0.2, 0.3],\n",
    "}\n",
    "\n",
    "best_params, best_score = grid_search(svm.NuSVC(random_state=RANDOM_STATE),\n",
    "                                      param_grid_nu,\n",
    "                                      train_X_embeddings_word,\n",
    "                                      y_train,\n",
    "                                      scoring=scoring)\n",
    "\n",
    "# Print the best parameters and score\n",
    "print(\"Best parameters: \", best_params)\n",
    "print(\"Best score: \", best_score)\n",
    "\n",
    "results[model_name] = best_score\n",
    "print(results)"
   ]
  },
  {
   "cell_type": "code",
   "execution_count": 50,
   "id": "547f27d9",
   "metadata": {},
   "outputs": [
    {
     "name": "stdout",
     "output_type": "stream",
     "text": [
      "Best parameters:  {'n_neighbors': 3}\n",
      "Best score:  0.7503472222222223\n",
      "{'MultinomialNB_BoW': 0.8878472222222223, 'MultinomialNB_TFIDF': 0.8743055555555556, 'ComplementNB_BoW': 0.8690972222222223, 'ComplementNB_TFIDF': 0.8663194444444444, 'SVC_BoW': 0.9128472222222221, 'SVC_TFIDF': 0.9145833333333334, 'SVC_sentence_embed.': 0.9003472222222222, 'NuSVC_BoW': 0.9121527777777777, 'NuSVC_TFIDF': 0.9145833333333334, 'NuSVC_sentence_embed.': 0.9052083333333332, 'kNN_BoW': 0.7503472222222223}\n"
     ]
    }
   ],
   "source": [
    "model_name = 'kNN_BoW'\n",
    "\n",
    "# Define the parameter grid\n",
    "param_grid_k = {\n",
    "    'n_neighbors': [3, 5, 7],\n",
    "}\n",
    "\n",
    "best_params, best_score = grid_search(KNeighborsClassifier(),\n",
    "                                      param_grid_k,\n",
    "                                      train_X_encodings_count,\n",
    "                                      y_train,\n",
    "                                      scoring=scoring)\n",
    "\n",
    "# Print the best parameters and score\n",
    "print(\"Best parameters: \", best_params)\n",
    "print(\"Best score: \", best_score)\n",
    "\n",
    "results[model_name] = best_score\n",
    "print(results)"
   ]
  },
  {
   "cell_type": "code",
   "execution_count": 51,
   "id": "baff163a",
   "metadata": {},
   "outputs": [
    {
     "name": "stdout",
     "output_type": "stream",
     "text": [
      "Best parameters:  {'n_neighbors': 3}\n",
      "Best score:  0.7805555555555556\n",
      "{'MultinomialNB_BoW': 0.8878472222222223, 'MultinomialNB_TFIDF': 0.8743055555555556, 'ComplementNB_BoW': 0.8690972222222223, 'ComplementNB_TFIDF': 0.8663194444444444, 'SVC_BoW': 0.9128472222222221, 'SVC_TFIDF': 0.9145833333333334, 'SVC_sentence_embed.': 0.9003472222222222, 'NuSVC_BoW': 0.9121527777777777, 'NuSVC_TFIDF': 0.9145833333333334, 'NuSVC_sentence_embed.': 0.9052083333333332, 'kNN_BoW': 0.7503472222222223, 'kNN_TFIDF': 0.7805555555555556}\n"
     ]
    }
   ],
   "source": [
    "model_name = 'kNN_TFIDF'\n",
    "\n",
    "# Define the parameter grid\n",
    "param_grid_k = {\n",
    "    'n_neighbors': [3, 5, 7],\n",
    "}\n",
    "\n",
    "best_params, best_score = grid_search(KNeighborsClassifier(),\n",
    "                                      param_grid_k,\n",
    "                                      train_X_encodings_tfidf,\n",
    "                                      y_train,\n",
    "                                      scoring=scoring)\n",
    "\n",
    "# Print the best parameters and score\n",
    "print(\"Best parameters: \", best_params)\n",
    "print(\"Best score: \", best_score)\n",
    "\n",
    "results[model_name] = best_score\n",
    "print(results)"
   ]
  },
  {
   "cell_type": "code",
   "execution_count": 52,
   "id": "481032e2",
   "metadata": {},
   "outputs": [
    {
     "name": "stdout",
     "output_type": "stream",
     "text": [
      "Best parameters:  {'n_neighbors': 3}\n",
      "Best score:  0.7944444444444445\n",
      "{'MultinomialNB_BoW': 0.8878472222222223, 'MultinomialNB_TFIDF': 0.8743055555555556, 'ComplementNB_BoW': 0.8690972222222223, 'ComplementNB_TFIDF': 0.8663194444444444, 'SVC_BoW': 0.9128472222222221, 'SVC_TFIDF': 0.9145833333333334, 'SVC_sentence_embed.': 0.9003472222222222, 'NuSVC_BoW': 0.9121527777777777, 'NuSVC_TFIDF': 0.9145833333333334, 'NuSVC_sentence_embed.': 0.9052083333333332, 'kNN_BoW': 0.7503472222222223, 'kNN_TFIDF': 0.7805555555555556, 'kNN_sentence_embed.': 0.7944444444444445}\n"
     ]
    }
   ],
   "source": [
    "model_name = 'kNN_sentence_embed.'\n",
    "\n",
    "# Define the parameter grid\n",
    "param_grid_k = {\n",
    "    'n_neighbors': [3, 5, 7]\n",
    "}\n",
    "\n",
    "best_params, best_score = grid_search(KNeighborsClassifier(),\n",
    "                                      param_grid_k,\n",
    "                                      train_X_embeddings_word,\n",
    "                                      y_train,\n",
    "                                      scoring=scoring)\n",
    "\n",
    "# Print the best parameters and score\n",
    "print(\"Best parameters: \", best_params)\n",
    "print(\"Best score: \", best_score)\n",
    "\n",
    "results[model_name] = best_score\n",
    "print(results)"
   ]
  },
  {
   "cell_type": "code",
   "execution_count": 53,
   "id": "13886e3f",
   "metadata": {},
   "outputs": [
    {
     "name": "stderr",
     "output_type": "stream",
     "text": [
      "/Users/magdafriedjungova/opt/anaconda3/lib/python3.9/site-packages/sklearn/linear_model/_logistic.py:460: ConvergenceWarning: lbfgs failed to converge (status=1):\n",
      "STOP: TOTAL NO. of ITERATIONS REACHED LIMIT.\n",
      "\n",
      "Increase the number of iterations (max_iter) or scale the data as shown in:\n",
      "    https://scikit-learn.org/stable/modules/preprocessing.html\n",
      "Please also refer to the documentation for alternative solver options:\n",
      "    https://scikit-learn.org/stable/modules/linear_model.html#logistic-regression\n",
      "  n_iter_i = _check_optimize_result(\n",
      "/Users/magdafriedjungova/opt/anaconda3/lib/python3.9/site-packages/sklearn/linear_model/_logistic.py:460: ConvergenceWarning: lbfgs failed to converge (status=1):\n",
      "STOP: TOTAL NO. of ITERATIONS REACHED LIMIT.\n",
      "\n",
      "Increase the number of iterations (max_iter) or scale the data as shown in:\n",
      "    https://scikit-learn.org/stable/modules/preprocessing.html\n",
      "Please also refer to the documentation for alternative solver options:\n",
      "    https://scikit-learn.org/stable/modules/linear_model.html#logistic-regression\n",
      "  n_iter_i = _check_optimize_result(\n",
      "/Users/magdafriedjungova/opt/anaconda3/lib/python3.9/site-packages/sklearn/linear_model/_logistic.py:460: ConvergenceWarning: lbfgs failed to converge (status=1):\n",
      "STOP: TOTAL NO. of ITERATIONS REACHED LIMIT.\n",
      "\n",
      "Increase the number of iterations (max_iter) or scale the data as shown in:\n",
      "    https://scikit-learn.org/stable/modules/preprocessing.html\n",
      "Please also refer to the documentation for alternative solver options:\n",
      "    https://scikit-learn.org/stable/modules/linear_model.html#logistic-regression\n",
      "  n_iter_i = _check_optimize_result(\n",
      "/Users/magdafriedjungova/opt/anaconda3/lib/python3.9/site-packages/sklearn/linear_model/_logistic.py:460: ConvergenceWarning: lbfgs failed to converge (status=1):\n",
      "STOP: TOTAL NO. of ITERATIONS REACHED LIMIT.\n",
      "\n",
      "Increase the number of iterations (max_iter) or scale the data as shown in:\n",
      "    https://scikit-learn.org/stable/modules/preprocessing.html\n",
      "Please also refer to the documentation for alternative solver options:\n",
      "    https://scikit-learn.org/stable/modules/linear_model.html#logistic-regression\n",
      "  n_iter_i = _check_optimize_result(\n",
      "/Users/magdafriedjungova/opt/anaconda3/lib/python3.9/site-packages/sklearn/linear_model/_logistic.py:460: ConvergenceWarning: lbfgs failed to converge (status=1):\n",
      "STOP: TOTAL NO. of ITERATIONS REACHED LIMIT.\n",
      "\n",
      "Increase the number of iterations (max_iter) or scale the data as shown in:\n",
      "    https://scikit-learn.org/stable/modules/preprocessing.html\n",
      "Please also refer to the documentation for alternative solver options:\n",
      "    https://scikit-learn.org/stable/modules/linear_model.html#logistic-regression\n",
      "  n_iter_i = _check_optimize_result(\n",
      "/Users/magdafriedjungova/opt/anaconda3/lib/python3.9/site-packages/sklearn/linear_model/_logistic.py:460: ConvergenceWarning: lbfgs failed to converge (status=1):\n",
      "STOP: TOTAL NO. of ITERATIONS REACHED LIMIT.\n",
      "\n",
      "Increase the number of iterations (max_iter) or scale the data as shown in:\n",
      "    https://scikit-learn.org/stable/modules/preprocessing.html\n",
      "Please also refer to the documentation for alternative solver options:\n",
      "    https://scikit-learn.org/stable/modules/linear_model.html#logistic-regression\n",
      "  n_iter_i = _check_optimize_result(\n",
      "/Users/magdafriedjungova/opt/anaconda3/lib/python3.9/site-packages/sklearn/linear_model/_logistic.py:460: ConvergenceWarning: lbfgs failed to converge (status=1):\n",
      "STOP: TOTAL NO. of ITERATIONS REACHED LIMIT.\n",
      "\n",
      "Increase the number of iterations (max_iter) or scale the data as shown in:\n",
      "    https://scikit-learn.org/stable/modules/preprocessing.html\n",
      "Please also refer to the documentation for alternative solver options:\n",
      "    https://scikit-learn.org/stable/modules/linear_model.html#logistic-regression\n",
      "  n_iter_i = _check_optimize_result(\n",
      "/Users/magdafriedjungova/opt/anaconda3/lib/python3.9/site-packages/sklearn/linear_model/_logistic.py:460: ConvergenceWarning: lbfgs failed to converge (status=1):\n",
      "STOP: TOTAL NO. of ITERATIONS REACHED LIMIT.\n",
      "\n",
      "Increase the number of iterations (max_iter) or scale the data as shown in:\n",
      "    https://scikit-learn.org/stable/modules/preprocessing.html\n",
      "Please also refer to the documentation for alternative solver options:\n",
      "    https://scikit-learn.org/stable/modules/linear_model.html#logistic-regression\n",
      "  n_iter_i = _check_optimize_result(\n",
      "/Users/magdafriedjungova/opt/anaconda3/lib/python3.9/site-packages/sklearn/linear_model/_logistic.py:460: ConvergenceWarning: lbfgs failed to converge (status=1):\n",
      "STOP: TOTAL NO. of ITERATIONS REACHED LIMIT.\n",
      "\n",
      "Increase the number of iterations (max_iter) or scale the data as shown in:\n",
      "    https://scikit-learn.org/stable/modules/preprocessing.html\n",
      "Please also refer to the documentation for alternative solver options:\n",
      "    https://scikit-learn.org/stable/modules/linear_model.html#logistic-regression\n",
      "  n_iter_i = _check_optimize_result(\n",
      "/Users/magdafriedjungova/opt/anaconda3/lib/python3.9/site-packages/sklearn/linear_model/_logistic.py:460: ConvergenceWarning: lbfgs failed to converge (status=1):\n",
      "STOP: TOTAL NO. of ITERATIONS REACHED LIMIT.\n",
      "\n",
      "Increase the number of iterations (max_iter) or scale the data as shown in:\n",
      "    https://scikit-learn.org/stable/modules/preprocessing.html\n",
      "Please also refer to the documentation for alternative solver options:\n",
      "    https://scikit-learn.org/stable/modules/linear_model.html#logistic-regression\n",
      "  n_iter_i = _check_optimize_result(\n"
     ]
    },
    {
     "name": "stdout",
     "output_type": "stream",
     "text": [
      "Best parameters:  {'C': 1}\n",
      "Best score:  0.9128472222222221\n",
      "{'MultinomialNB_BoW': 0.8878472222222223, 'MultinomialNB_TFIDF': 0.8743055555555556, 'ComplementNB_BoW': 0.8690972222222223, 'ComplementNB_TFIDF': 0.8663194444444444, 'SVC_BoW': 0.9128472222222221, 'SVC_TFIDF': 0.9145833333333334, 'SVC_sentence_embed.': 0.9003472222222222, 'NuSVC_BoW': 0.9121527777777777, 'NuSVC_TFIDF': 0.9145833333333334, 'NuSVC_sentence_embed.': 0.9052083333333332, 'kNN_BoW': 0.7503472222222223, 'kNN_TFIDF': 0.7805555555555556, 'kNN_sentence_embed.': 0.7944444444444445, 'LogisticReg_BoW': 0.9128472222222221}\n"
     ]
    }
   ],
   "source": [
    "model_name = 'LogisticReg_BoW'\n",
    "\n",
    "# Define the parameter grid\n",
    "param_grid_k = {\n",
    "    'C': [0.0001, 0.001, 0.01, 0.1, 1]\n",
    "}\n",
    "\n",
    "best_params, best_score = grid_search(LogisticRegression(),\n",
    "                                      param_grid_k,\n",
    "                                      train_X_encodings_count,\n",
    "                                      y_train,\n",
    "                                      scoring=scoring)\n",
    "\n",
    "# Print the best parameters and score\n",
    "print(\"Best parameters: \", best_params)\n",
    "print(\"Best score: \", best_score)\n",
    "\n",
    "results[model_name] = best_score\n",
    "print(results)"
   ]
  },
  {
   "cell_type": "code",
   "execution_count": 54,
   "id": "a0e2d62c",
   "metadata": {},
   "outputs": [
    {
     "name": "stdout",
     "output_type": "stream",
     "text": [
      "Best parameters:  {'C': 1}\n",
      "Best score:  0.913888888888889\n",
      "{'MultinomialNB_BoW': 0.8878472222222223, 'MultinomialNB_TFIDF': 0.8743055555555556, 'ComplementNB_BoW': 0.8690972222222223, 'ComplementNB_TFIDF': 0.8663194444444444, 'SVC_BoW': 0.9128472222222221, 'SVC_TFIDF': 0.9145833333333334, 'SVC_sentence_embed.': 0.9003472222222222, 'NuSVC_BoW': 0.9121527777777777, 'NuSVC_TFIDF': 0.9145833333333334, 'NuSVC_sentence_embed.': 0.9052083333333332, 'kNN_BoW': 0.7503472222222223, 'kNN_TFIDF': 0.7805555555555556, 'kNN_sentence_embed.': 0.7944444444444445, 'LogisticReg_BoW': 0.9128472222222221, 'LogisticReg_TFIDF': 0.913888888888889}\n"
     ]
    }
   ],
   "source": [
    "model_name = 'LogisticReg_TFIDF'\n",
    "\n",
    "# Define the parameter grid\n",
    "param_grid_k = {\n",
    "    'C': [0.0001, 0.001, 0.01, 0.1, 1]\n",
    "}\n",
    "\n",
    "best_params, best_score = grid_search(LogisticRegression(),\n",
    "                                      param_grid_k,\n",
    "                                      train_X_encodings_tfidf,\n",
    "                                      y_train,\n",
    "                                      scoring=scoring)\n",
    "\n",
    "# Print the best parameters and score\n",
    "print(\"Best parameters: \", best_params)\n",
    "print(\"Best score: \", best_score)\n",
    "\n",
    "results[model_name] = best_score\n",
    "print(results)"
   ]
  },
  {
   "cell_type": "code",
   "execution_count": 55,
   "id": "143d2265",
   "metadata": {},
   "outputs": [
    {
     "name": "stderr",
     "output_type": "stream",
     "text": [
      "/Users/magdafriedjungova/opt/anaconda3/lib/python3.9/site-packages/sklearn/linear_model/_logistic.py:460: ConvergenceWarning: lbfgs failed to converge (status=1):\n",
      "STOP: TOTAL NO. of ITERATIONS REACHED LIMIT.\n",
      "\n",
      "Increase the number of iterations (max_iter) or scale the data as shown in:\n",
      "    https://scikit-learn.org/stable/modules/preprocessing.html\n",
      "Please also refer to the documentation for alternative solver options:\n",
      "    https://scikit-learn.org/stable/modules/linear_model.html#logistic-regression\n",
      "  n_iter_i = _check_optimize_result(\n",
      "/Users/magdafriedjungova/opt/anaconda3/lib/python3.9/site-packages/sklearn/linear_model/_logistic.py:460: ConvergenceWarning: lbfgs failed to converge (status=1):\n",
      "STOP: TOTAL NO. of ITERATIONS REACHED LIMIT.\n",
      "\n",
      "Increase the number of iterations (max_iter) or scale the data as shown in:\n",
      "    https://scikit-learn.org/stable/modules/preprocessing.html\n",
      "Please also refer to the documentation for alternative solver options:\n",
      "    https://scikit-learn.org/stable/modules/linear_model.html#logistic-regression\n",
      "  n_iter_i = _check_optimize_result(\n",
      "/Users/magdafriedjungova/opt/anaconda3/lib/python3.9/site-packages/sklearn/linear_model/_logistic.py:460: ConvergenceWarning: lbfgs failed to converge (status=1):\n",
      "STOP: TOTAL NO. of ITERATIONS REACHED LIMIT.\n",
      "\n",
      "Increase the number of iterations (max_iter) or scale the data as shown in:\n",
      "    https://scikit-learn.org/stable/modules/preprocessing.html\n",
      "Please also refer to the documentation for alternative solver options:\n",
      "    https://scikit-learn.org/stable/modules/linear_model.html#logistic-regression\n",
      "  n_iter_i = _check_optimize_result(\n",
      "/Users/magdafriedjungova/opt/anaconda3/lib/python3.9/site-packages/sklearn/linear_model/_logistic.py:460: ConvergenceWarning: lbfgs failed to converge (status=1):\n",
      "STOP: TOTAL NO. of ITERATIONS REACHED LIMIT.\n",
      "\n",
      "Increase the number of iterations (max_iter) or scale the data as shown in:\n",
      "    https://scikit-learn.org/stable/modules/preprocessing.html\n",
      "Please also refer to the documentation for alternative solver options:\n",
      "    https://scikit-learn.org/stable/modules/linear_model.html#logistic-regression\n",
      "  n_iter_i = _check_optimize_result(\n",
      "/Users/magdafriedjungova/opt/anaconda3/lib/python3.9/site-packages/sklearn/linear_model/_logistic.py:460: ConvergenceWarning: lbfgs failed to converge (status=1):\n",
      "STOP: TOTAL NO. of ITERATIONS REACHED LIMIT.\n",
      "\n",
      "Increase the number of iterations (max_iter) or scale the data as shown in:\n",
      "    https://scikit-learn.org/stable/modules/preprocessing.html\n",
      "Please also refer to the documentation for alternative solver options:\n",
      "    https://scikit-learn.org/stable/modules/linear_model.html#logistic-regression\n",
      "  n_iter_i = _check_optimize_result(\n"
     ]
    },
    {
     "name": "stdout",
     "output_type": "stream",
     "text": [
      "Best parameters:  {'C': 1}\n",
      "Best score:  0.7746527777777777\n",
      "{'MultinomialNB_BoW': 0.8878472222222223, 'MultinomialNB_TFIDF': 0.8743055555555556, 'ComplementNB_BoW': 0.8690972222222223, 'ComplementNB_TFIDF': 0.8663194444444444, 'SVC_BoW': 0.9128472222222221, 'SVC_TFIDF': 0.9145833333333334, 'SVC_sentence_embed.': 0.9003472222222222, 'NuSVC_BoW': 0.9121527777777777, 'NuSVC_TFIDF': 0.9145833333333334, 'NuSVC_sentence_embed.': 0.9052083333333332, 'kNN_BoW': 0.7503472222222223, 'kNN_TFIDF': 0.7805555555555556, 'kNN_sentence_embed.': 0.7944444444444445, 'LogisticReg_BoW': 0.9128472222222221, 'LogisticReg_TFIDF': 0.913888888888889, 'LogisticReg_sentence_embed.': 0.7746527777777777}\n"
     ]
    }
   ],
   "source": [
    "model_name = 'LogisticReg_sentence_embed.'\n",
    "\n",
    "# Define the parameter grid\n",
    "param_grid_k = {\n",
    "    'C': [0.0001, 0.001, 0.01, 0.1, 1]\n",
    "}\n",
    "\n",
    "best_params, best_score = grid_search(LogisticRegression(),\n",
    "                                      param_grid_k,\n",
    "                                      train_X_embeddings_word,\n",
    "                                      y_train,\n",
    "                                      scoring=scoring)\n",
    "\n",
    "# Print the best parameters and score\n",
    "print(\"Best parameters: \", best_params)\n",
    "print(\"Best score: \", best_score)\n",
    "\n",
    "results[model_name] = best_score\n",
    "print(results)"
   ]
  },
  {
   "cell_type": "code",
   "execution_count": 56,
   "id": "ae4a93a7",
   "metadata": {},
   "outputs": [
    {
     "name": "stderr",
     "output_type": "stream",
     "text": [
      "/Users/magdafriedjungova/opt/anaconda3/lib/python3.9/site-packages/sklearn/neural_network/_multilayer_perceptron.py:691: ConvergenceWarning: Stochastic Optimizer: Maximum iterations (200) reached and the optimization hasn't converged yet.\n",
      "  warnings.warn(\n",
      "/Users/magdafriedjungova/opt/anaconda3/lib/python3.9/site-packages/sklearn/neural_network/_multilayer_perceptron.py:691: ConvergenceWarning: Stochastic Optimizer: Maximum iterations (200) reached and the optimization hasn't converged yet.\n",
      "  warnings.warn(\n",
      "/Users/magdafriedjungova/opt/anaconda3/lib/python3.9/site-packages/sklearn/neural_network/_multilayer_perceptron.py:691: ConvergenceWarning: Stochastic Optimizer: Maximum iterations (200) reached and the optimization hasn't converged yet.\n",
      "  warnings.warn(\n",
      "/Users/magdafriedjungova/opt/anaconda3/lib/python3.9/site-packages/sklearn/neural_network/_multilayer_perceptron.py:691: ConvergenceWarning: Stochastic Optimizer: Maximum iterations (200) reached and the optimization hasn't converged yet.\n",
      "  warnings.warn(\n",
      "/Users/magdafriedjungova/opt/anaconda3/lib/python3.9/site-packages/sklearn/neural_network/_multilayer_perceptron.py:691: ConvergenceWarning: Stochastic Optimizer: Maximum iterations (200) reached and the optimization hasn't converged yet.\n",
      "  warnings.warn(\n",
      "/Users/magdafriedjungova/opt/anaconda3/lib/python3.9/site-packages/sklearn/neural_network/_multilayer_perceptron.py:691: ConvergenceWarning: Stochastic Optimizer: Maximum iterations (200) reached and the optimization hasn't converged yet.\n",
      "  warnings.warn(\n",
      "/Users/magdafriedjungova/opt/anaconda3/lib/python3.9/site-packages/sklearn/neural_network/_multilayer_perceptron.py:691: ConvergenceWarning: Stochastic Optimizer: Maximum iterations (200) reached and the optimization hasn't converged yet.\n",
      "  warnings.warn(\n",
      "/Users/magdafriedjungova/opt/anaconda3/lib/python3.9/site-packages/sklearn/neural_network/_multilayer_perceptron.py:691: ConvergenceWarning: Stochastic Optimizer: Maximum iterations (200) reached and the optimization hasn't converged yet.\n",
      "  warnings.warn(\n"
     ]
    },
    {
     "name": "stdout",
     "output_type": "stream",
     "text": [
      "Best parameters:  {'activation': 'logistic', 'alpha': 0.001}\n",
      "Best score:  0.9118055555555555\n",
      "{'MultinomialNB_BoW': 0.8878472222222223, 'MultinomialNB_TFIDF': 0.8743055555555556, 'ComplementNB_BoW': 0.8690972222222223, 'ComplementNB_TFIDF': 0.8663194444444444, 'SVC_BoW': 0.9128472222222221, 'SVC_TFIDF': 0.9145833333333334, 'SVC_sentence_embed.': 0.9003472222222222, 'NuSVC_BoW': 0.9121527777777777, 'NuSVC_TFIDF': 0.9145833333333334, 'NuSVC_sentence_embed.': 0.9052083333333332, 'kNN_BoW': 0.7503472222222223, 'kNN_TFIDF': 0.7805555555555556, 'kNN_sentence_embed.': 0.7944444444444445, 'LogisticReg_BoW': 0.9128472222222221, 'LogisticReg_TFIDF': 0.913888888888889, 'LogisticReg_sentence_embed.': 0.7746527777777777, 'MLP_BoW': 0.9118055555555555}\n"
     ]
    }
   ],
   "source": [
    "model_name = 'MLP_BoW'\n",
    "\n",
    "# Define the parameter grid\n",
    "param_grid_k = {\n",
    "    'activation': ['relu', 'logistic'],\n",
    "    'alpha': [0.0001, 0.001, 0.01]\n",
    "}\n",
    "\n",
    "best_params, best_score = grid_search(MLPClassifier(),\n",
    "                                      param_grid_k,\n",
    "                                      train_X_encodings_count,\n",
    "                                      y_train,\n",
    "                                      scoring=scoring)\n",
    "\n",
    "# Print the best parameters and score\n",
    "print(\"Best parameters: \", best_params)\n",
    "print(\"Best score: \", best_score)\n",
    "\n",
    "results[model_name] = best_score\n",
    "print(results)"
   ]
  },
  {
   "cell_type": "code",
   "execution_count": 57,
   "id": "4270d0dc",
   "metadata": {},
   "outputs": [
    {
     "name": "stderr",
     "output_type": "stream",
     "text": [
      "/Users/magdafriedjungova/opt/anaconda3/lib/python3.9/site-packages/sklearn/neural_network/_multilayer_perceptron.py:691: ConvergenceWarning: Stochastic Optimizer: Maximum iterations (200) reached and the optimization hasn't converged yet.\n",
      "  warnings.warn(\n",
      "/Users/magdafriedjungova/opt/anaconda3/lib/python3.9/site-packages/sklearn/neural_network/_multilayer_perceptron.py:691: ConvergenceWarning: Stochastic Optimizer: Maximum iterations (200) reached and the optimization hasn't converged yet.\n",
      "  warnings.warn(\n",
      "/Users/magdafriedjungova/opt/anaconda3/lib/python3.9/site-packages/sklearn/neural_network/_multilayer_perceptron.py:691: ConvergenceWarning: Stochastic Optimizer: Maximum iterations (200) reached and the optimization hasn't converged yet.\n",
      "  warnings.warn(\n",
      "/Users/magdafriedjungova/opt/anaconda3/lib/python3.9/site-packages/sklearn/neural_network/_multilayer_perceptron.py:691: ConvergenceWarning: Stochastic Optimizer: Maximum iterations (200) reached and the optimization hasn't converged yet.\n",
      "  warnings.warn(\n",
      "/Users/magdafriedjungova/opt/anaconda3/lib/python3.9/site-packages/sklearn/neural_network/_multilayer_perceptron.py:691: ConvergenceWarning: Stochastic Optimizer: Maximum iterations (200) reached and the optimization hasn't converged yet.\n",
      "  warnings.warn(\n",
      "/Users/magdafriedjungova/opt/anaconda3/lib/python3.9/site-packages/sklearn/neural_network/_multilayer_perceptron.py:691: ConvergenceWarning: Stochastic Optimizer: Maximum iterations (200) reached and the optimization hasn't converged yet.\n",
      "  warnings.warn(\n",
      "/Users/magdafriedjungova/opt/anaconda3/lib/python3.9/site-packages/sklearn/neural_network/_multilayer_perceptron.py:691: ConvergenceWarning: Stochastic Optimizer: Maximum iterations (200) reached and the optimization hasn't converged yet.\n",
      "  warnings.warn(\n",
      "/Users/magdafriedjungova/opt/anaconda3/lib/python3.9/site-packages/sklearn/neural_network/_multilayer_perceptron.py:691: ConvergenceWarning: Stochastic Optimizer: Maximum iterations (200) reached and the optimization hasn't converged yet.\n",
      "  warnings.warn(\n",
      "/Users/magdafriedjungova/opt/anaconda3/lib/python3.9/site-packages/sklearn/neural_network/_multilayer_perceptron.py:691: ConvergenceWarning: Stochastic Optimizer: Maximum iterations (200) reached and the optimization hasn't converged yet.\n",
      "  warnings.warn(\n",
      "/Users/magdafriedjungova/opt/anaconda3/lib/python3.9/site-packages/sklearn/neural_network/_multilayer_perceptron.py:691: ConvergenceWarning: Stochastic Optimizer: Maximum iterations (200) reached and the optimization hasn't converged yet.\n",
      "  warnings.warn(\n",
      "/Users/magdafriedjungova/opt/anaconda3/lib/python3.9/site-packages/sklearn/neural_network/_multilayer_perceptron.py:691: ConvergenceWarning: Stochastic Optimizer: Maximum iterations (200) reached and the optimization hasn't converged yet.\n",
      "  warnings.warn(\n",
      "/Users/magdafriedjungova/opt/anaconda3/lib/python3.9/site-packages/sklearn/neural_network/_multilayer_perceptron.py:691: ConvergenceWarning: Stochastic Optimizer: Maximum iterations (200) reached and the optimization hasn't converged yet.\n",
      "  warnings.warn(\n",
      "/Users/magdafriedjungova/opt/anaconda3/lib/python3.9/site-packages/sklearn/neural_network/_multilayer_perceptron.py:691: ConvergenceWarning: Stochastic Optimizer: Maximum iterations (200) reached and the optimization hasn't converged yet.\n",
      "  warnings.warn(\n",
      "/Users/magdafriedjungova/opt/anaconda3/lib/python3.9/site-packages/sklearn/neural_network/_multilayer_perceptron.py:691: ConvergenceWarning: Stochastic Optimizer: Maximum iterations (200) reached and the optimization hasn't converged yet.\n",
      "  warnings.warn(\n",
      "/Users/magdafriedjungova/opt/anaconda3/lib/python3.9/site-packages/sklearn/neural_network/_multilayer_perceptron.py:691: ConvergenceWarning: Stochastic Optimizer: Maximum iterations (200) reached and the optimization hasn't converged yet.\n",
      "  warnings.warn(\n",
      "/Users/magdafriedjungova/opt/anaconda3/lib/python3.9/site-packages/sklearn/neural_network/_multilayer_perceptron.py:691: ConvergenceWarning: Stochastic Optimizer: Maximum iterations (200) reached and the optimization hasn't converged yet.\n",
      "  warnings.warn(\n"
     ]
    },
    {
     "name": "stdout",
     "output_type": "stream",
     "text": [
      "Best parameters:  {'activation': 'logistic', 'alpha': 0.01}\n",
      "Best score:  0.9170138888888889\n",
      "{'MultinomialNB_BoW': 0.8878472222222223, 'MultinomialNB_TFIDF': 0.8743055555555556, 'ComplementNB_BoW': 0.8690972222222223, 'ComplementNB_TFIDF': 0.8663194444444444, 'SVC_BoW': 0.9128472222222221, 'SVC_TFIDF': 0.9145833333333334, 'SVC_sentence_embed.': 0.9003472222222222, 'NuSVC_BoW': 0.9121527777777777, 'NuSVC_TFIDF': 0.9145833333333334, 'NuSVC_sentence_embed.': 0.9052083333333332, 'kNN_BoW': 0.7503472222222223, 'kNN_TFIDF': 0.7805555555555556, 'kNN_sentence_embed.': 0.7944444444444445, 'LogisticReg_BoW': 0.9128472222222221, 'LogisticReg_TFIDF': 0.913888888888889, 'LogisticReg_sentence_embed.': 0.7746527777777777, 'MLP_BoW': 0.9118055555555555, 'MLP_TFIDF': 0.9170138888888889}\n"
     ]
    }
   ],
   "source": [
    "model_name = 'MLP_TFIDF'\n",
    "\n",
    "# Define the parameter grid\n",
    "param_grid_k = {\n",
    "    'activation': ['relu', 'logistic'],\n",
    "    'alpha': [0.0001, 0.001, 0.01]\n",
    "}\n",
    "\n",
    "best_params, best_score = grid_search(MLPClassifier(),\n",
    "                                      param_grid_k,\n",
    "                                      train_X_encodings_tfidf,\n",
    "                                      y_train,\n",
    "                                      scoring=scoring)\n",
    "\n",
    "# Print the best parameters and score\n",
    "print(\"Best parameters: \", best_params)\n",
    "print(\"Best score: \", best_score)\n",
    "\n",
    "results[model_name] = best_score\n",
    "print(results)"
   ]
  },
  {
   "cell_type": "code",
   "execution_count": 58,
   "id": "d761ab4c",
   "metadata": {},
   "outputs": [
    {
     "name": "stderr",
     "output_type": "stream",
     "text": [
      "/Users/magdafriedjungova/opt/anaconda3/lib/python3.9/site-packages/sklearn/neural_network/_multilayer_perceptron.py:691: ConvergenceWarning: Stochastic Optimizer: Maximum iterations (200) reached and the optimization hasn't converged yet.\n",
      "  warnings.warn(\n",
      "/Users/magdafriedjungova/opt/anaconda3/lib/python3.9/site-packages/sklearn/neural_network/_multilayer_perceptron.py:691: ConvergenceWarning: Stochastic Optimizer: Maximum iterations (200) reached and the optimization hasn't converged yet.\n",
      "  warnings.warn(\n",
      "/Users/magdafriedjungova/opt/anaconda3/lib/python3.9/site-packages/sklearn/neural_network/_multilayer_perceptron.py:691: ConvergenceWarning: Stochastic Optimizer: Maximum iterations (200) reached and the optimization hasn't converged yet.\n",
      "  warnings.warn(\n",
      "/Users/magdafriedjungova/opt/anaconda3/lib/python3.9/site-packages/sklearn/neural_network/_multilayer_perceptron.py:691: ConvergenceWarning: Stochastic Optimizer: Maximum iterations (200) reached and the optimization hasn't converged yet.\n",
      "  warnings.warn(\n",
      "/Users/magdafriedjungova/opt/anaconda3/lib/python3.9/site-packages/sklearn/neural_network/_multilayer_perceptron.py:691: ConvergenceWarning: Stochastic Optimizer: Maximum iterations (200) reached and the optimization hasn't converged yet.\n",
      "  warnings.warn(\n",
      "/Users/magdafriedjungova/opt/anaconda3/lib/python3.9/site-packages/sklearn/neural_network/_multilayer_perceptron.py:691: ConvergenceWarning: Stochastic Optimizer: Maximum iterations (200) reached and the optimization hasn't converged yet.\n",
      "  warnings.warn(\n",
      "/Users/magdafriedjungova/opt/anaconda3/lib/python3.9/site-packages/sklearn/neural_network/_multilayer_perceptron.py:691: ConvergenceWarning: Stochastic Optimizer: Maximum iterations (200) reached and the optimization hasn't converged yet.\n",
      "  warnings.warn(\n",
      "/Users/magdafriedjungova/opt/anaconda3/lib/python3.9/site-packages/sklearn/neural_network/_multilayer_perceptron.py:691: ConvergenceWarning: Stochastic Optimizer: Maximum iterations (200) reached and the optimization hasn't converged yet.\n",
      "  warnings.warn(\n",
      "/Users/magdafriedjungova/opt/anaconda3/lib/python3.9/site-packages/sklearn/neural_network/_multilayer_perceptron.py:691: ConvergenceWarning: Stochastic Optimizer: Maximum iterations (200) reached and the optimization hasn't converged yet.\n",
      "  warnings.warn(\n",
      "/Users/magdafriedjungova/opt/anaconda3/lib/python3.9/site-packages/sklearn/neural_network/_multilayer_perceptron.py:691: ConvergenceWarning: Stochastic Optimizer: Maximum iterations (200) reached and the optimization hasn't converged yet.\n",
      "  warnings.warn(\n",
      "/Users/magdafriedjungova/opt/anaconda3/lib/python3.9/site-packages/sklearn/neural_network/_multilayer_perceptron.py:691: ConvergenceWarning: Stochastic Optimizer: Maximum iterations (200) reached and the optimization hasn't converged yet.\n",
      "  warnings.warn(\n",
      "/Users/magdafriedjungova/opt/anaconda3/lib/python3.9/site-packages/sklearn/neural_network/_multilayer_perceptron.py:691: ConvergenceWarning: Stochastic Optimizer: Maximum iterations (200) reached and the optimization hasn't converged yet.\n",
      "  warnings.warn(\n",
      "/Users/magdafriedjungova/opt/anaconda3/lib/python3.9/site-packages/sklearn/neural_network/_multilayer_perceptron.py:691: ConvergenceWarning: Stochastic Optimizer: Maximum iterations (200) reached and the optimization hasn't converged yet.\n",
      "  warnings.warn(\n",
      "/Users/magdafriedjungova/opt/anaconda3/lib/python3.9/site-packages/sklearn/neural_network/_multilayer_perceptron.py:691: ConvergenceWarning: Stochastic Optimizer: Maximum iterations (200) reached and the optimization hasn't converged yet.\n",
      "  warnings.warn(\n",
      "/Users/magdafriedjungova/opt/anaconda3/lib/python3.9/site-packages/sklearn/neural_network/_multilayer_perceptron.py:691: ConvergenceWarning: Stochastic Optimizer: Maximum iterations (200) reached and the optimization hasn't converged yet.\n",
      "  warnings.warn(\n",
      "/Users/magdafriedjungova/opt/anaconda3/lib/python3.9/site-packages/sklearn/neural_network/_multilayer_perceptron.py:691: ConvergenceWarning: Stochastic Optimizer: Maximum iterations (200) reached and the optimization hasn't converged yet.\n",
      "  warnings.warn(\n",
      "/Users/magdafriedjungova/opt/anaconda3/lib/python3.9/site-packages/sklearn/neural_network/_multilayer_perceptron.py:691: ConvergenceWarning: Stochastic Optimizer: Maximum iterations (200) reached and the optimization hasn't converged yet.\n",
      "  warnings.warn(\n",
      "/Users/magdafriedjungova/opt/anaconda3/lib/python3.9/site-packages/sklearn/neural_network/_multilayer_perceptron.py:691: ConvergenceWarning: Stochastic Optimizer: Maximum iterations (200) reached and the optimization hasn't converged yet.\n",
      "  warnings.warn(\n",
      "/Users/magdafriedjungova/opt/anaconda3/lib/python3.9/site-packages/sklearn/neural_network/_multilayer_perceptron.py:691: ConvergenceWarning: Stochastic Optimizer: Maximum iterations (200) reached and the optimization hasn't converged yet.\n",
      "  warnings.warn(\n",
      "/Users/magdafriedjungova/opt/anaconda3/lib/python3.9/site-packages/sklearn/neural_network/_multilayer_perceptron.py:691: ConvergenceWarning: Stochastic Optimizer: Maximum iterations (200) reached and the optimization hasn't converged yet.\n",
      "  warnings.warn(\n",
      "/Users/magdafriedjungova/opt/anaconda3/lib/python3.9/site-packages/sklearn/neural_network/_multilayer_perceptron.py:691: ConvergenceWarning: Stochastic Optimizer: Maximum iterations (200) reached and the optimization hasn't converged yet.\n",
      "  warnings.warn(\n",
      "/Users/magdafriedjungova/opt/anaconda3/lib/python3.9/site-packages/sklearn/neural_network/_multilayer_perceptron.py:691: ConvergenceWarning: Stochastic Optimizer: Maximum iterations (200) reached and the optimization hasn't converged yet.\n",
      "  warnings.warn(\n",
      "/Users/magdafriedjungova/opt/anaconda3/lib/python3.9/site-packages/sklearn/neural_network/_multilayer_perceptron.py:691: ConvergenceWarning: Stochastic Optimizer: Maximum iterations (200) reached and the optimization hasn't converged yet.\n",
      "  warnings.warn(\n",
      "/Users/magdafriedjungova/opt/anaconda3/lib/python3.9/site-packages/sklearn/neural_network/_multilayer_perceptron.py:691: ConvergenceWarning: Stochastic Optimizer: Maximum iterations (200) reached and the optimization hasn't converged yet.\n",
      "  warnings.warn(\n",
      "/Users/magdafriedjungova/opt/anaconda3/lib/python3.9/site-packages/sklearn/neural_network/_multilayer_perceptron.py:691: ConvergenceWarning: Stochastic Optimizer: Maximum iterations (200) reached and the optimization hasn't converged yet.\n",
      "  warnings.warn(\n",
      "/Users/magdafriedjungova/opt/anaconda3/lib/python3.9/site-packages/sklearn/neural_network/_multilayer_perceptron.py:691: ConvergenceWarning: Stochastic Optimizer: Maximum iterations (200) reached and the optimization hasn't converged yet.\n",
      "  warnings.warn(\n",
      "/Users/magdafriedjungova/opt/anaconda3/lib/python3.9/site-packages/sklearn/neural_network/_multilayer_perceptron.py:691: ConvergenceWarning: Stochastic Optimizer: Maximum iterations (200) reached and the optimization hasn't converged yet.\n",
      "  warnings.warn(\n",
      "/Users/magdafriedjungova/opt/anaconda3/lib/python3.9/site-packages/sklearn/neural_network/_multilayer_perceptron.py:691: ConvergenceWarning: Stochastic Optimizer: Maximum iterations (200) reached and the optimization hasn't converged yet.\n",
      "  warnings.warn(\n",
      "/Users/magdafriedjungova/opt/anaconda3/lib/python3.9/site-packages/sklearn/neural_network/_multilayer_perceptron.py:691: ConvergenceWarning: Stochastic Optimizer: Maximum iterations (200) reached and the optimization hasn't converged yet.\n",
      "  warnings.warn(\n",
      "/Users/magdafriedjungova/opt/anaconda3/lib/python3.9/site-packages/sklearn/neural_network/_multilayer_perceptron.py:691: ConvergenceWarning: Stochastic Optimizer: Maximum iterations (200) reached and the optimization hasn't converged yet.\n",
      "  warnings.warn(\n"
     ]
    },
    {
     "name": "stdout",
     "output_type": "stream",
     "text": [
      "Best parameters:  {'activation': 'relu', 'alpha': 0.01}\n",
      "Best score:  0.896875\n",
      "{'MultinomialNB_BoW': 0.8878472222222223, 'MultinomialNB_TFIDF': 0.8743055555555556, 'ComplementNB_BoW': 0.8690972222222223, 'ComplementNB_TFIDF': 0.8663194444444444, 'SVC_BoW': 0.9128472222222221, 'SVC_TFIDF': 0.9145833333333334, 'SVC_sentence_embed.': 0.9003472222222222, 'NuSVC_BoW': 0.9121527777777777, 'NuSVC_TFIDF': 0.9145833333333334, 'NuSVC_sentence_embed.': 0.9052083333333332, 'kNN_BoW': 0.7503472222222223, 'kNN_TFIDF': 0.7805555555555556, 'kNN_sentence_embed.': 0.7944444444444445, 'LogisticReg_BoW': 0.9128472222222221, 'LogisticReg_TFIDF': 0.913888888888889, 'LogisticReg_sentence_embed.': 0.7746527777777777, 'MLP_BoW': 0.9118055555555555, 'MLP_TFIDF': 0.9170138888888889, 'MLP_sentence_embed.': 0.896875}\n"
     ]
    }
   ],
   "source": [
    "model_name = 'MLP_sentence_embed.'\n",
    "\n",
    "# Define the parameter grid\n",
    "param_grid_k = {\n",
    "    'activation': ['relu', 'logistic'],\n",
    "    'alpha': [0.0001, 0.001, 0.01]\n",
    "}\n",
    "\n",
    "best_params, best_score = grid_search(MLPClassifier(),\n",
    "                                      param_grid_k,\n",
    "                                      train_X_embeddings_word,\n",
    "                                      y_train,\n",
    "                                      scoring=scoring)\n",
    "\n",
    "# Print the best parameters and score\n",
    "print(\"Best parameters: \", best_params)\n",
    "print(\"Best score: \", best_score)\n",
    "\n",
    "results[model_name] = best_score\n",
    "print(results)"
   ]
  },
  {
   "cell_type": "code",
   "execution_count": 59,
   "id": "64794f0a",
   "metadata": {},
   "outputs": [
    {
     "name": "stdout",
     "output_type": "stream",
     "text": [
      "['MultinomialNB_BoW', 'MultinomialNB_TFIDF', 'ComplementNB_BoW', 'ComplementNB_TFIDF', 'SVC_BoW', 'SVC_TFIDF', 'SVC_sentence_embed.', 'NuSVC_BoW', 'NuSVC_TFIDF', 'NuSVC_sentence_embed.', 'kNN_BoW', 'kNN_TFIDF', 'kNN_sentence_embed.', 'LogisticReg_BoW', 'LogisticReg_TFIDF', 'LogisticReg_sentence_embed.', 'MLP_BoW', 'MLP_TFIDF', 'MLP_sentence_embed.'] [0.8878472222222223, 0.8743055555555556, 0.8690972222222223, 0.8663194444444444, 0.9128472222222221, 0.9145833333333334, 0.9003472222222222, 0.9121527777777777, 0.9145833333333334, 0.9052083333333332, 0.7503472222222223, 0.7805555555555556, 0.7944444444444445, 0.9128472222222221, 0.913888888888889, 0.7746527777777777, 0.9118055555555555, 0.9170138888888889, 0.896875]\n"
     ]
    }
   ],
   "source": [
    "models = []\n",
    "acc = []\n",
    "\n",
    "for key in results.keys():\n",
    "    models.append(key)\n",
    "    acc.append(results.get(key))\n",
    "    \n",
    "print(models, acc)"
   ]
  },
  {
   "cell_type": "code",
   "execution_count": 60,
   "id": "9d5fbfb2",
   "metadata": {},
   "outputs": [],
   "source": [
    "d = {\n",
    "    'model': models, \n",
    "    'accuracy': acc\n",
    "}"
   ]
  },
  {
   "cell_type": "code",
   "execution_count": 61,
   "id": "d5cbed0f",
   "metadata": {},
   "outputs": [
    {
     "data": {
      "image/png": "[encoded data removed]",
      "text/plain": [
       "<Figure size 1152x720 with 1 Axes>"
      ]
     },
     "metadata": {
      "needs_background": "light"
     },
     "output_type": "display_data"
    }
   ],
   "source": [
    "import matplotlib.pyplot as plt\n",
    "import matplotlib.patches as mpatches\n",
    "\n",
    "df = pd.DataFrame(data=d)\n",
    "\n",
    "df['accuracy'] = round(df[['accuracy']], 3)\n",
    "\n",
    "plt.rcParams.update({'font.size': 16})\n",
    "fig, ax = plt.subplots(figsize=(16,10))\n",
    "\n",
    "colors = [\"xkcd:cerulean\" if i == max(df['accuracy']) else \"xkcd:light blue\" for i in df['accuracy']]\n",
    "\n",
    "ax.barh(df['model'], df['accuracy'], color=colors, align='center')\n",
    "ax.invert_yaxis()  # labels read top-to-bottom\n",
    "ax.set_xlabel(\"Average cross-validation score accuracy\")\n",
    "ax.set_title('Models Performance')\n",
    "ax.bar_label(ax.containers[0], padding=-60) # label_type='edge', \n",
    "ax.set_ylabel(\"Model\")\n",
    "\n",
    "patch = mpatches.Patch(color='xkcd:cerulean', label='Best model')\n",
    "patch2 = mpatches.Patch(color='xkcd:light blue', label='Other')\n",
    "ax.legend(handles=[patch, patch2], bbox_to_anchor=(0.755, 0.4), bbox_transform=fig.transFigure)\n",
    "#ax.legend(handles=[patch, patch2], loc='lower right')\n",
    "\n",
    "ax.spines['top'].set_visible(False) \n",
    "ax.spines['right'].set_visible(False)\n",
    "\n",
    "plt.savefig('../img/models_performance_mpnet.png', dpi=400, bbox_inches='tight', pad_inches=0)\n",
    "\n",
    "plt.show()"
   ]
  },
  {
   "cell_type": "code",
   "execution_count": 115,
   "id": "8bda0587",
   "metadata": {},
   "outputs": [
    {
     "data": {
      "image/png": "[encoded data removed]",
      "text/plain": [
       "<Figure size 1152x720 with 1 Axes>"
      ]
     },
     "metadata": {
      "needs_background": "light"
     },
     "output_type": "display_data"
    }
   ],
   "source": [
    "import matplotlib.pyplot as plt\n",
    "import matplotlib.patches as mpatches\n",
    "\n",
    "df = pd.DataFrame(data=d)\n",
    "\n",
    "df['accuracy'] = round(df[['accuracy']], 3)\n",
    "\n",
    "df = df.sort_values(by=['accuracy'], ascending=False)\n",
    "\n",
    "plt.rcParams.update({'font.size': 16})\n",
    "fig, ax = plt.subplots(figsize=(16,10))\n",
    "\n",
    "#colors = [\"xkcd:cerulean\" if i == max(df['accuracy']) else \"xkcd:light blue\" for i in df['accuracy']]\n",
    "\n",
    "ax.barh(df['model'], df['accuracy'], color='xkcd:light blue', align='center')\n",
    "ax.invert_yaxis()  # labels read top-to-bottom\n",
    "ax.set_xlabel(\"Average cross-validation score accuracy\")\n",
    "#ax.set_title('Models Performance')\n",
    "ax.bar_label(ax.containers[0], padding=-55) # label_type='edge', \n",
    "ax.set_ylabel(\"Model\")\n",
    "\n",
    "ax.spines['top'].set_visible(False) \n",
    "ax.spines['right'].set_visible(False)\n",
    "\n",
    "plt.savefig('../img/models_performance_mpnet_sorted.png', dpi=400, bbox_inches='tight', pad_inches=0)\n",
    "\n",
    "plt.show()"
   ]
  },
  {
   "cell_type": "markdown",
   "id": "45d8a078",
   "metadata": {},
   "source": [
    "# The best model"
   ]
  },
  {
   "cell_type": "code",
   "execution_count": 63,
   "id": "9de43737",
   "metadata": {},
   "outputs": [
    {
     "data": {
      "text/html": [
       "<style>#sk-container-id-1 {color: black;}#sk-container-id-1 pre{padding: 0;}#sk-container-id-1 div.sk-toggleable {background-color: white;}#sk-container-id-1 label.sk-toggleable__label {cursor: pointer;display: block;width: 100%;margin-bottom: 0;padding: 0.3em;box-sizing: border-box;text-align: center;}#sk-container-id-1 label.sk-toggleable__label-arrow:before {content: \"▸\";float: left;margin-right: 0.25em;color: #696969;}#sk-container-id-1 label.sk-toggleable__label-arrow:hover:before {color: black;}#sk-container-id-1 div.sk-estimator:hover label.sk-toggleable__label-arrow:before {color: black;}#sk-container-id-1 div.sk-toggleable__content {max-height: 0;max-width: 0;overflow: hidden;text-align: left;background-color: #f0f8ff;}#sk-container-id-1 div.sk-toggleable__content pre {margin: 0.2em;color: black;border-radius: 0.25em;background-color: #f0f8ff;}#sk-container-id-1 input.sk-toggleable__control:checked~div.sk-toggleable__content {max-height: 200px;max-width: 100%;overflow: auto;}#sk-container-id-1 input.sk-toggleable__control:checked~label.sk-toggleable__label-arrow:before {content: \"▾\";}#sk-container-id-1 div.sk-estimator input.sk-toggleable__control:checked~label.sk-toggleable__label {background-color: #d4ebff;}#sk-container-id-1 div.sk-label input.sk-toggleable__control:checked~label.sk-toggleable__label {background-color: #d4ebff;}#sk-container-id-1 input.sk-hidden--visually {border: 0;clip: rect(1px 1px 1px 1px);clip: rect(1px, 1px, 1px, 1px);height: 1px;margin: -1px;overflow: hidden;padding: 0;position: absolute;width: 1px;}#sk-container-id-1 div.sk-estimator {font-family: monospace;background-color: #f0f8ff;border: 1px dotted black;border-radius: 0.25em;box-sizing: border-box;margin-bottom: 0.5em;}#sk-container-id-1 div.sk-estimator:hover {background-color: #d4ebff;}#sk-container-id-1 div.sk-parallel-item::after {content: \"\";width: 100%;border-bottom: 1px solid gray;flex-grow: 1;}#sk-container-id-1 div.sk-label:hover label.sk-toggleable__label {background-color: #d4ebff;}#sk-container-id-1 div.sk-serial::before {content: \"\";position: absolute;border-left: 1px solid gray;box-sizing: border-box;top: 0;bottom: 0;left: 50%;z-index: 0;}#sk-container-id-1 div.sk-serial {display: flex;flex-direction: column;align-items: center;background-color: white;padding-right: 0.2em;padding-left: 0.2em;position: relative;}#sk-container-id-1 div.sk-item {position: relative;z-index: 1;}#sk-container-id-1 div.sk-parallel {display: flex;align-items: stretch;justify-content: center;background-color: white;position: relative;}#sk-container-id-1 div.sk-item::before, #sk-container-id-1 div.sk-parallel-item::before {content: \"\";position: absolute;border-left: 1px solid gray;box-sizing: border-box;top: 0;bottom: 0;left: 50%;z-index: -1;}#sk-container-id-1 div.sk-parallel-item {display: flex;flex-direction: column;z-index: 1;position: relative;background-color: white;}#sk-container-id-1 div.sk-parallel-item:first-child::after {align-self: flex-end;width: 50%;}#sk-container-id-1 div.sk-parallel-item:last-child::after {align-self: flex-start;width: 50%;}#sk-container-id-1 div.sk-parallel-item:only-child::after {width: 0;}#sk-container-id-1 div.sk-dashed-wrapped {border: 1px dashed gray;margin: 0 0.4em 0.5em 0.4em;box-sizing: border-box;padding-bottom: 0.4em;background-color: white;}#sk-container-id-1 div.sk-label label {font-family: monospace;font-weight: bold;display: inline-block;line-height: 1.2em;}#sk-container-id-1 div.sk-label-container {text-align: center;}#sk-container-id-1 div.sk-container {/* jupyter's `normalize.less` sets `[hidden] { display: none; }` but bootstrap.min.css set `[hidden] { display: none !important; }` so we also need the `!important` here to be able to override the default hidden behavior on the sphinx rendered scikit-learn.org. See: https://github.com/scikit-learn/scikit-learn/issues/21755 */display: inline-block !important;position: relative;}#sk-container-id-1 div.sk-text-repr-fallback {display: none;}</style><div id=\"sk-container-id-1\" class=\"sk-top-container\"><div class=\"sk-text-repr-fallback\"><pre>MLPClassifier(activation=&#x27;logistic&#x27;, alpha=0.01, random_state=42)</pre><b>In a Jupyter environment, please rerun this cell to show the HTML representation or trust the notebook. <br />On GitHub, the HTML representation is unable to render, please try loading this page with nbviewer.org.</b></div><div class=\"sk-container\" hidden><div class=\"sk-item\"><div class=\"sk-estimator sk-toggleable\"><input class=\"sk-toggleable__control sk-hidden--visually\" id=\"sk-estimator-id-1\" type=\"checkbox\" checked><label for=\"sk-estimator-id-1\" class=\"sk-toggleable__label sk-toggleable__label-arrow\">MLPClassifier</label><div class=\"sk-toggleable__content\"><pre>MLPClassifier(activation=&#x27;logistic&#x27;, alpha=0.01, random_state=42)</pre></div></div></div></div></div>"
      ],
      "text/plain": [
       "MLPClassifier(activation='logistic', alpha=0.01, random_state=42)"
      ]
     },
     "execution_count": 63,
     "metadata": {},
     "output_type": "execute_result"
    }
   ],
   "source": [
    "# MANUALLY pick the best performing model\n",
    "model_svm = MLPClassifier(activation= 'logistic', alpha=0.01, random_state=RANDOM_STATE) #probability=True\n",
    "# train your model on the entire training set\n",
    "model_svm.fit(train_X_encodings_tfidf, y_train)"
   ]
  },
  {
   "cell_type": "code",
   "execution_count": 94,
   "id": "edca5602",
   "metadata": {},
   "outputs": [
    {
     "data": {
      "text/plain": [
       "<277x9715 sparse matrix of type '<class 'numpy.float64'>'\n",
       "\twith 18300 stored elements in Compressed Sparse Row format>"
      ]
     },
     "execution_count": 94,
     "metadata": {},
     "output_type": "execute_result"
    }
   ],
   "source": [
    "test_X_encodings_tfidf"
   ]
  },
  {
   "cell_type": "code",
   "execution_count": 105,
   "id": "ae5fe1a3",
   "metadata": {},
   "outputs": [
    {
     "data": {
      "text/plain": [
       "<2880x9715 sparse matrix of type '<class 'numpy.float64'>'\n",
       "\twith 190786 stored elements in Compressed Sparse Row format>"
      ]
     },
     "execution_count": 105,
     "metadata": {},
     "output_type": "execute_result"
    }
   ],
   "source": [
    "train_X_encodings_tfidf"
   ]
  },
  {
   "cell_type": "code",
   "execution_count": 64,
   "id": "a63c6c04",
   "metadata": {},
   "outputs": [],
   "source": [
    "# predict labels for the test set\n",
    "y_pred = model_svm.predict(test_X_encodings_tfidf)"
   ]
  },
  {
   "cell_type": "code",
   "execution_count": 65,
   "id": "009f3773",
   "metadata": {},
   "outputs": [],
   "source": [
    "#print(classification_report(y_test, y_pred, labels=encoder_fitted.classes_))"
   ]
  },
  {
   "cell_type": "code",
   "execution_count": 66,
   "id": "5bee5595",
   "metadata": {},
   "outputs": [
    {
     "data": {
      "text/plain": [
       "0.3140794223826715"
      ]
     },
     "execution_count": 66,
     "metadata": {},
     "output_type": "execute_result"
    }
   ],
   "source": [
    "accuracy_score(y_true=y_test, y_pred=y_pred)"
   ]
  },
  {
   "cell_type": "code",
   "execution_count": 67,
   "id": "ceffc221",
   "metadata": {},
   "outputs": [
    {
     "data": {
      "text/plain": [
       "0.14433484170271263"
      ]
     },
     "execution_count": 67,
     "metadata": {},
     "output_type": "execute_result"
    }
   ],
   "source": [
    "f1_score(y_true=y_test, y_pred=y_pred, average='macro')"
   ]
  },
  {
   "cell_type": "code",
   "execution_count": 81,
   "id": "2ddfbe8a",
   "metadata": {},
   "outputs": [
    {
     "data": {
      "text/plain": [
       "0.9605678418074337"
      ]
     },
     "execution_count": 81,
     "metadata": {},
     "output_type": "execute_result"
    }
   ],
   "source": [
    "# on train set\n",
    "y_pred_train = model_svm.predict(train_X_encodings_tfidf)\n",
    "f1_score(y_true=y_train, y_pred=y_pred_train, average='macro')"
   ]
  },
  {
   "cell_type": "code",
   "execution_count": 68,
   "id": "cfcc2142",
   "metadata": {},
   "outputs": [],
   "source": [
    "#pd.DataFrame(confusion_matrix(y_test, y_pred), index=encoder_fitted.classes_, columns=encoder_fitted.classes_)"
   ]
  },
  {
   "cell_type": "code",
   "execution_count": 69,
   "id": "08970773",
   "metadata": {},
   "outputs": [
    {
     "data": {
      "text/plain": [
       "array([[0.01099808, 0.02741635, 0.01390747, ..., 0.18720286, 0.11659709,\n",
       "        0.04584991],\n",
       "       [0.031017  , 0.02390204, 0.00599861, ..., 0.03216792, 0.01357117,\n",
       "        0.07428985],\n",
       "       [0.02846591, 0.05212446, 0.0127218 , ..., 0.02087426, 0.0403101 ,\n",
       "        0.03823484],\n",
       "       ...,\n",
       "       [0.02570727, 0.01121162, 0.01362445, ..., 0.04732145, 0.01377767,\n",
       "        0.22332486],\n",
       "       [0.0531439 , 0.02711782, 0.01004584, ..., 0.02764932, 0.0178571 ,\n",
       "        0.08922864],\n",
       "       [0.01237675, 0.00638335, 0.00448323, ..., 0.01364207, 0.00754552,\n",
       "        0.09619884]])"
      ]
     },
     "execution_count": 69,
     "metadata": {},
     "output_type": "execute_result"
    }
   ],
   "source": [
    "# compute probabilities of possible outcomes for samples in X\n",
    "y_score = model_svm.predict_proba(test_X_encodings_tfidf) # získáme pravděpodobnosti\n",
    "y_score"
   ]
  },
  {
   "cell_type": "code",
   "execution_count": 70,
   "id": "3137d55c",
   "metadata": {},
   "outputs": [
    {
     "data": {
      "text/plain": [
       "array([[0, 0, 0, ..., 1, 0, 0],\n",
       "       [0, 0, 0, ..., 0, 0, 0],\n",
       "       [0, 0, 0, ..., 0, 0, 0],\n",
       "       ...,\n",
       "       [0, 0, 0, ..., 0, 0, 0],\n",
       "       [0, 0, 0, ..., 0, 0, 0],\n",
       "       [0, 0, 0, ..., 0, 0, 0]])"
      ]
     },
     "execution_count": 70,
     "metadata": {},
     "output_type": "execute_result"
    }
   ],
   "source": [
    "from sklearn.preprocessing import LabelBinarizer\n",
    "\n",
    "class_bin = LabelBinarizer().fit(y_train)  # binarizace problemu\n",
    "y_onehot_test = class_bin.transform(y_test)\n",
    "y_onehot_test"
   ]
  },
  {
   "cell_type": "code",
   "execution_count": 71,
   "id": "584eeadf",
   "metadata": {},
   "outputs": [
    {
     "data": {
      "text/plain": [
       "array([[0, 0, 0, 0, 1, 0, 0, 0, 0, 0, 0, 0, 0, 0, 0, 0, 0, 0, 0, 0, 0, 0,\n",
       "        0, 0]])"
      ]
     },
     "execution_count": 71,
     "metadata": {},
     "output_type": "execute_result"
    }
   ],
   "source": [
    "class_bin.transform([4]) # topic 5 (je treba jeste dekodovat)"
   ]
  },
  {
   "cell_type": "code",
   "execution_count": 72,
   "id": "ebe660fd",
   "metadata": {},
   "outputs": [],
   "source": [
    "fpr, tpr, roc_auc = dict(), dict(), dict()"
   ]
  },
  {
   "cell_type": "code",
   "execution_count": 73,
   "id": "6c1fdcb6",
   "metadata": {},
   "outputs": [],
   "source": [
    "def count_micro(y_test, y_score):\n",
    "    fpr['micro'], tpr['micro'], _ = roc_curve(y_test, y_score)  # _ thresholds, vraci body krivky definovane trp, fpr\n",
    "    \n",
    "    # secte plochu pod krivkou zadanou body\n",
    "    roc_auc['micro'] = auc(fpr['micro'], tpr['micro'])  # frp - x souradnice, trp - y souradnice"
   ]
  },
  {
   "cell_type": "code",
   "execution_count": 74,
   "id": "27d2ccb4",
   "metadata": {},
   "outputs": [],
   "source": [
    "def count_macro(n_classes, y_test, y_score):\n",
    "    # spocteme pro kazdou tridu auc zvlast\n",
    "    for i in range(n_classes):\n",
    "        fpr[i], tpr[i], _ = roc_curve(y_test[:, i], y_score[:, i]) # one vs rest\n",
    "        roc_auc[i] = auc(fpr[i], tpr[i])\n",
    "    \n",
    "    fpr_grid = np.linspace(0.0, 1.0, 1000) # 1000 rovnomerne rozlozenych cisel mezi 0 a 1 \n",
    "    mean_tpr = np.zeros_like(fpr_grid) # pole 0 o stejnem rozmeru jako fpr_frid\n",
    "    \n",
    "    for i in range(n_classes):\n",
    "        mean_tpr += np.interp(fpr_grid, fpr[i], tpr[i]) \n",
    "        #fpr_grid - kde vyhodnotit hodnoty\n",
    "        # fpr[i] - souradnice x bodu\n",
    "        # tpr[i] - souradnice y bodu\n",
    "\n",
    "    mean_tpr /= n_classes  # average\n",
    "    \n",
    "    fpr['macro'] = fpr_grid\n",
    "    tpr['macro'] = mean_tpr\n",
    "    roc_auc['macro'] = auc(fpr['macro'], tpr['macro'])"
   ]
  },
  {
   "cell_type": "code",
   "execution_count": 75,
   "id": "5a0d4481",
   "metadata": {},
   "outputs": [],
   "source": [
    "from sklearn.metrics import auc\n",
    "from sklearn.metrics import roc_curve\n",
    "from sklearn.metrics import RocCurveDisplay\n",
    "\n",
    "count_micro(y_onehot_test.ravel(), y_score.ravel())\n",
    "count_macro(24, y_onehot_test, y_score)"
   ]
  },
  {
   "cell_type": "code",
   "execution_count": 76,
   "id": "d84ba9bf",
   "metadata": {},
   "outputs": [
    {
     "data": {
      "image/png": "[encoded data removed]",
      "text/plain": [
       "<Figure size 864x432 with 2 Axes>"
      ]
     },
     "metadata": {
      "needs_background": "light"
     },
     "output_type": "display_data"
    }
   ],
   "source": [
    "plt.rcParams.update({'font.size': 10})\n",
    "\n",
    "fig, ax = plt.subplots(1, 2, figsize=(12, 6))\n",
    "\n",
    "ax[0].plot(\n",
    "    fpr['micro'],\n",
    "    tpr['micro'],\n",
    "    label='micro-average ROC',\n",
    "    color='darkorange',\n",
    ")\n",
    "ax[1].plot(\n",
    "    fpr['macro'],\n",
    "    tpr['macro'],\n",
    "    label='macro-average ROC',\n",
    "    color='navy',\n",
    ")\n",
    "\n",
    "ax[0].fill_between(fpr['micro'], tpr['micro'], alpha=0.2, label='AUC ={:.3f}'.format(roc_auc['micro']))\n",
    "ax[1].fill_between(fpr['macro'], tpr['macro'], alpha=0.2, label='AUC ={:.3f}'.format(roc_auc['macro']))\n",
    "\n",
    "for x in range(2):\n",
    "    ax[x].axis('square')\n",
    "    ax[x].set_xlabel('False Positive Rate')\n",
    "    ax[x].set_ylabel('True Positive Rate')\n",
    "    ax[x].plot([0, 1], [0, 1], \"--\", color = 'grey', label='random prediction')\n",
    "    ax[x].legend()\n",
    "\n",
    "ax[0].set_title(label='Micro-average ROC curve for multiclass clasification')\n",
    "ax[1].set_title(label='Macro-average ROC curve for multiclass clasification')\n",
    "plt.show()"
   ]
  },
  {
   "cell_type": "code",
   "execution_count": 77,
   "id": "08813bbb",
   "metadata": {},
   "outputs": [],
   "source": [
    "# pozor, že jsme ty třídy kódovali\n",
    "# původně ([ 1,  2,  3,  4,  9, 12, 13, 14, 15, 16, 17, 18, 19, 20, 21, 22, 23, 24, 25, 26, 27, 28, 29, 30])\n",
    "# po kódování ([ 0, 1,  2,  3,  4,  5,  6,  7,  8,  9, 10, 11, 12, 13, 14, 15, 16, 17, 18, 19, 20, 21, 22, 23])"
   ]
  },
  {
   "cell_type": "code",
   "execution_count": 78,
   "id": "2096f227",
   "metadata": {},
   "outputs": [
    {
     "data": {
      "image/png": "[encoded data removed]",
      "text/plain": [
       "<Figure size 1152x1728 with 24 Axes>"
      ]
     },
     "metadata": {
      "needs_background": "light"
     },
     "output_type": "display_data"
    }
   ],
   "source": [
    "plt.rcParams.update({'font.size': 10})\n",
    "\n",
    "fig, ax = plt.subplots(8, 3, figsize=(16, 24))\n",
    "fig.tight_layout()\n",
    "\n",
    "pos_x = 0\n",
    "pos_y = 0\n",
    "\n",
    "targets_origin = [1, 2, 3, 4, 9, 12, 13, 14, 15, 16, 17, 18, 19, 20, 21, 22, 23, 24, 25, 26, 27, 28, 29, 30]\n",
    "\n",
    "for x in range(24): # number of classes\n",
    "    ax[pos_x, pos_y].plot(\n",
    "    fpr[x],\n",
    "    tpr[x],\n",
    "    label=f'Topic no. {targets_origin[x]} versus rest', # start from topic 1 (indexovano od 1)\n",
    "    color='darkorange',\n",
    "    )\n",
    "    ax[pos_x, pos_y].fill_between(fpr[x], tpr[x], alpha=0.2, label='AUC ={:.3f}'.format(roc_auc[x]))\n",
    "    \n",
    "\n",
    "    ax[pos_x, pos_y].set_xlabel('False Positive Rate')\n",
    "    ax[pos_x, pos_y].set_ylabel('True Positive Rate')\n",
    "    ax[pos_x, pos_y].plot([0, 1], [0, 1], \"--\", color = 'grey', label='random prediction')\n",
    "    ax[pos_x, pos_y].legend(loc='lower right')\n",
    "    \n",
    "\n",
    "    pos_y += 1\n",
    "    \n",
    "    if pos_y == 3:\n",
    "        pos_x += 1 \n",
    "        pos_y = 0       \n",
    "\n",
    "st = fig.suptitle('ROC curves for each topic compared to all other topics', fontsize=16)\n",
    "# shift subplots down:\n",
    "st.set_y(0.95)\n",
    "fig.subplots_adjust(top=0.92)\n",
    "\n",
    "plt.savefig('../img/ROC_each_topic_mpnet.png', dpi=400, bbox_inches='tight', pad_inches=0)\n",
    "\n",
    "plt.show()"
   ]
  },
  {
   "cell_type": "markdown",
   "id": "0dbc30b2",
   "metadata": {},
   "source": [
    "# Classify all poems"
   ]
  },
  {
   "cell_type": "code",
   "execution_count": 95,
   "id": "6f6abe1a",
   "metadata": {},
   "outputs": [],
   "source": [
    "stopwords = ['mít', 'jít', 'být', 'dát', 'moci']"
   ]
  },
  {
   "cell_type": "code",
   "execution_count": 96,
   "id": "14b57c5c",
   "metadata": {},
   "outputs": [
    {
     "name": "stdout",
     "output_type": "stream",
     "text": [
      "0 1000 2000 3000 4000 5000 6000 7000 8000 9000 10000 11000 12000 13000 14000 15000 16000 17000 18000 19000 20000 21000 22000 23000 24000 25000 26000 27000 28000 29000 30000 31000 32000 33000 34000 35000 36000 37000 38000 39000 40000 41000 42000 43000 44000 45000 46000 47000 48000 49000 50000 51000 52000 53000 54000 55000 56000 57000 58000 59000 60000 61000 62000 63000 64000 65000 66000 CPU times: user 2min 36s, sys: 2.09 s, total: 2min 38s\n",
      "Wall time: 2min 40s\n"
     ]
    }
   ],
   "source": [
    "%%time\n",
    "\n",
    "lemmas_filtered_column = []\n",
    "\n",
    "# extract lemmas with N, A or V POS tag\n",
    "for index, poem in lemmas.iterrows():\n",
    "    if index % 1000 == 0:\n",
    "        print(index, end=' ')\n",
    "    \n",
    "    lemmas_filtered_poem = []\n",
    "    lemmas_poem = literal_eval(poem['lemmas'])\n",
    "    for lemma_pos in lemmas_poem:\n",
    "        lemma, pos = lemma_pos\n",
    "        if pos in ['N', 'A', 'V'] and lemma not in stopwords:\n",
    "            lemmas_filtered_poem.append(lemma)\n",
    "    lemmas_filtered_column.append(lemmas_filtered_poem)"
   ]
  },
  {
   "cell_type": "code",
   "execution_count": 97,
   "id": "f1fd896c",
   "metadata": {},
   "outputs": [],
   "source": [
    "lemmas['lemmas_filtered'] = lemmas_filtered_column"
   ]
  },
  {
   "cell_type": "code",
   "execution_count": 98,
   "id": "e88671c4",
   "metadata": {},
   "outputs": [],
   "source": [
    "min_frequency = 20"
   ]
  },
  {
   "cell_type": "code",
   "execution_count": 99,
   "id": "f3fdc060",
   "metadata": {},
   "outputs": [],
   "source": [
    "dictionary = Dictionary(lemmas['lemmas_filtered'])"
   ]
  },
  {
   "cell_type": "code",
   "execution_count": 100,
   "id": "4c7a8e58",
   "metadata": {},
   "outputs": [],
   "source": [
    "# Filter out words\n",
    "dictionary.filter_extremes(no_below=min_frequency)"
   ]
  },
  {
   "cell_type": "code",
   "execution_count": 101,
   "id": "4e6575af",
   "metadata": {},
   "outputs": [],
   "source": [
    "lemmas['text_preprocessed'] = lemmas['lemmas_filtered'].apply(lambda x: ' '.join(x))"
   ]
  },
  {
   "cell_type": "code",
   "execution_count": 102,
   "id": "cc04ebc7",
   "metadata": {},
   "outputs": [],
   "source": [
    "vectorizer_tfidf = TfidfVectorizer()\n",
    "\n",
    "vectorizer_tfidf.fit(lemmas['text_preprocessed'])\n",
    "\n",
    "# Transform your text data into a matrix of token counts\n",
    "encodings_tfidf = vectorizer_tfidf.transform(lemmas['text_preprocessed'])"
   ]
  },
  {
   "cell_type": "code",
   "execution_count": 104,
   "id": "8a37bada",
   "metadata": {},
   "outputs": [
    {
     "data": {
      "text/plain": [
       "<66428x64332 sparse matrix of type '<class 'numpy.float64'>'\n",
       "\twith 4966189 stored elements in Compressed Sparse Row format>"
      ]
     },
     "execution_count": 104,
     "metadata": {},
     "output_type": "execute_result"
    }
   ],
   "source": [
    "encodings_tfidf"
   ]
  },
  {
   "cell_type": "code",
   "execution_count": null,
   "id": "fef90302",
   "metadata": {},
   "outputs": [],
   "source": [
    "# predict labels for the all data\n",
    "predicted_labels = model_svm.predict(encodings_tfidf)"
   ]
  },
  {
   "cell_type": "code",
   "execution_count": null,
   "id": "eaa77f7d",
   "metadata": {},
   "outputs": [],
   "source": [
    "len(predicted_labels)"
   ]
  },
  {
   "cell_type": "code",
   "execution_count": null,
   "id": "b310e556",
   "metadata": {},
   "outputs": [],
   "source": [
    "lemmas['predicted_label'] = predicted_labels"
   ]
  },
  {
   "cell_type": "code",
   "execution_count": null,
   "id": "654b3dff",
   "metadata": {},
   "outputs": [],
   "source": [
    "mapping = dict(zip(encoder_fitted.transform(encoder_fitted.classes_), encoder_fitted.classes_))"
   ]
  },
  {
   "cell_type": "code",
   "execution_count": null,
   "id": "9dea9f0d",
   "metadata": {},
   "outputs": [],
   "source": [
    "lemmas.predicted_label.replace(mapping, inplace=True)"
   ]
  },
  {
   "cell_type": "code",
   "execution_count": null,
   "id": "519009d0",
   "metadata": {},
   "outputs": [],
   "source": [
    "lemmas"
   ]
  },
  {
   "cell_type": "code",
   "execution_count": null,
   "id": "fb696685",
   "metadata": {},
   "outputs": [],
   "source": [
    "labels_lemmas = pd.merge(lemmas, annotations_lemmas, on='book_poem_id', how='left')"
   ]
  },
  {
   "cell_type": "code",
   "execution_count": null,
   "id": "b3e5a2ff",
   "metadata": {},
   "outputs": [],
   "source": []
  }
 ],
 "metadata": {
  "kernelspec": {
   "display_name": "Python 3 (ipykernel)",
   "language": "python",
   "name": "python3"
  },
  "language_info": {
   "codemirror_mode": {
    "name": "ipython",
    "version": 3
   },
   "file_extension": ".py",
   "mimetype": "text/x-python",
   "name": "python",
   "nbconvert_exporter": "python",
   "pygments_lexer": "ipython3",
   "version": "3.9.12"
  }
 },
 "nbformat": 4,
 "nbformat_minor": 5
}
