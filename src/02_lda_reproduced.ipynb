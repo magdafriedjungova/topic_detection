{
 "cells": [
  {
   "cell_type": "markdown",
   "id": "8ba5860e-20dc-456d-a438-2bebb8e520e8",
   "metadata": {},
   "source": [
    "# LDA\n",
    "\n",
    "Let's reproduce the LDA method used in the paper:\n",
    "\n",
    "Plecháč, P.; Haider, T. (2020) ‘Mapping Topic Evolution Across Poetic Traditions’.  <https://arxiv.org/abs/2006.15732> accessed 1 April 2024"
   ]
  },
  {
   "cell_type": "code",
   "execution_count": 1,
   "id": "cdb93408-c834-4c92-8541-8b3c46a43868",
   "metadata": {},
   "outputs": [],
   "source": [
    "import pandas as pd\n",
    "from ast import literal_eval\n",
    "from langdetect import detect\n",
    "import gensim"
   ]
  },
  {
   "cell_type": "code",
   "execution_count": 2,
   "id": "4740f69c-7760-4749-959f-5d896d6691fc",
   "metadata": {},
   "outputs": [],
   "source": [
    "pd.set_option('display.max_columns', None)"
   ]
  },
  {
   "cell_type": "markdown",
   "id": "ea30e565-977a-493c-b91b-7741e9b84560",
   "metadata": {},
   "source": [
    "# Load the data\n",
    "- data are in the format of 1 poem per row"
   ]
  },
  {
   "cell_type": "code",
   "execution_count": 3,
   "id": "e3297290-6a8c-4c22-b211-09a6d3210b77",
   "metadata": {},
   "outputs": [],
   "source": [
    "# load smaller random x% fraction\n",
    "books = pd.read_csv('../data/books_frac_0.2.csv', low_memory=False)"
   ]
  },
  {
   "cell_type": "markdown",
   "id": "13528cbc-795b-4dfb-bb4c-5ec66f930974",
   "metadata": {},
   "source": [
    "# Repair data\n",
    "- some of the years are encapsulated in list, e.g. [1785] - cast them into integers"
   ]
  },
  {
   "cell_type": "code",
   "execution_count": 4,
   "id": "55b05f6e-7da8-4f90-afb3-c4364f0a3847",
   "metadata": {},
   "outputs": [],
   "source": [
    "years = []\n",
    "\n",
    "for index, poem in books.iterrows():\n",
    "    try:\n",
    "        years.append(int(poem['biblio.year']))\n",
    "    except:\n",
    "        if poem['biblio.year'] == 'neuveden':\n",
    "            years.append('unknown')\n",
    "        else:\n",
    "            years.append(literal_eval(poem['biblio.year'])[0])\n",
    "\n",
    "books['biblio.year'] = years"
   ]
  },
  {
   "cell_type": "markdown",
   "id": "cc2c1db1-00cc-4951-90ae-5ac3f97c1cca",
   "metadata": {},
   "source": [
    "# Remove duplicates - remain just the first edition (and its equivalents)"
   ]
  },
  {
   "cell_type": "code",
   "execution_count": 5,
   "id": "b7cfca58-365c-437f-99fd-38fbd86d6ef4",
   "metadata": {},
   "outputs": [
    {
     "data": {
      "text/plain": [
       "(13286, 24)"
      ]
     },
     "execution_count": 5,
     "metadata": {},
     "output_type": "execute_result"
    }
   ],
   "source": [
    "books.shape"
   ]
  },
  {
   "cell_type": "code",
   "execution_count": 6,
   "id": "fdeafaeb-6c66-45d1-9b6e-bcb22edac64b",
   "metadata": {},
   "outputs": [
    {
     "data": {
      "text/html": [
       "<div>\n",
       "<style scoped>\n",
       "    .dataframe tbody tr th:only-of-type {\n",
       "        vertical-align: middle;\n",
       "    }\n",
       "\n",
       "    .dataframe tbody tr th {\n",
       "        vertical-align: top;\n",
       "    }\n",
       "\n",
       "    .dataframe thead th {\n",
       "        text-align: right;\n",
       "    }\n",
       "</style>\n",
       "<table border=\"1\" class=\"dataframe\">\n",
       "  <thead>\n",
       "    <tr style=\"text-align: right;\">\n",
       "      <th></th>\n",
       "      <th>book_id</th>\n",
       "      <th>poem_id</th>\n",
       "      <th>body</th>\n",
       "      <th>p_author.born</th>\n",
       "      <th>p_author.died</th>\n",
       "      <th>p_author.name</th>\n",
       "      <th>p_author.identity</th>\n",
       "      <th>biblio.motto_aut</th>\n",
       "      <th>biblio.b_subtitle</th>\n",
       "      <th>biblio.publisher</th>\n",
       "      <th>biblio.edition</th>\n",
       "      <th>biblio.motto</th>\n",
       "      <th>biblio.p_title</th>\n",
       "      <th>biblio.place</th>\n",
       "      <th>biblio.dedication</th>\n",
       "      <th>biblio.b_title</th>\n",
       "      <th>biblio.pages</th>\n",
       "      <th>biblio.year</th>\n",
       "      <th>biblio.signature</th>\n",
       "      <th>b_author.born</th>\n",
       "      <th>b_author.died</th>\n",
       "      <th>b_author.name</th>\n",
       "      <th>b_author.identity</th>\n",
       "      <th>results.poem</th>\n",
       "    </tr>\n",
       "  </thead>\n",
       "  <tbody>\n",
       "    <tr>\n",
       "      <th>0</th>\n",
       "      <td>623</td>\n",
       "      <td>0001-0004-0000-0008-0000</td>\n",
       "      <td>[[{'text': 'Je-li v domě hezká dcera, ', 'punc...</td>\n",
       "      <td>1842.0</td>\n",
       "      <td>1924.0</td>\n",
       "      <td>Martinec, Jaroslav</td>\n",
       "      <td>Martinec, Jaroslav</td>\n",
       "      <td>NaN</td>\n",
       "      <td>NaN</td>\n",
       "      <td>Grégr, Eduard; Dattel, Ferdinand</td>\n",
       "      <td>[1.]</td>\n",
       "      <td>NaN</td>\n",
       "      <td>Je-li v domě hezká dcera,</td>\n",
       "      <td>Praha</td>\n",
       "      <td>NaN</td>\n",
       "      <td>Básně</td>\n",
       "      <td>102</td>\n",
       "      <td>1872</td>\n",
       "      <td>ÚČL AV ČR; 849 VIII 1</td>\n",
       "      <td>1842.0</td>\n",
       "      <td>1924.0</td>\n",
       "      <td>Martinec, Jaroslav</td>\n",
       "      <td>Martinec, Jaroslav</td>\n",
       "      <td>NaN</td>\n",
       "    </tr>\n",
       "    <tr>\n",
       "      <th>1</th>\n",
       "      <td>638</td>\n",
       "      <td>0001-0001-0000-0167-0000</td>\n",
       "      <td>[[{'text': 'Z obchodu nekalého, špinavého vytě...</td>\n",
       "      <td>1857.0</td>\n",
       "      <td>1909.0</td>\n",
       "      <td>Menhard Litoměřický, Xaver</td>\n",
       "      <td>Menhard, František Ladislav</td>\n",
       "      <td>NaN</td>\n",
       "      <td>Nevázané řeči ve vázané řeči</td>\n",
       "      <td>Knapp, Mamert</td>\n",
       "      <td>[1.]</td>\n",
       "      <td>NaN</td>\n",
       "      <td>Také „čistý“ výtěžek.</td>\n",
       "      <td>Praha</td>\n",
       "      <td>NaN</td>\n",
       "      <td>Divoké ovoce</td>\n",
       "      <td>176</td>\n",
       "      <td>1892</td>\n",
       "      <td>Národní knihovna ČR, Praha; 54 K 622</td>\n",
       "      <td>1857.0</td>\n",
       "      <td>1909.0</td>\n",
       "      <td>Menhard Litoměřický, Xaver</td>\n",
       "      <td>Menhard, František Ladislav</td>\n",
       "      <td>NaN</td>\n",
       "    </tr>\n",
       "    <tr>\n",
       "      <th>2</th>\n",
       "      <td>281</td>\n",
       "      <td>0001-0000-0000-0004-0004</td>\n",
       "      <td>[[{'text': 'Hle! na jezeru hvězdném', 'punct':...</td>\n",
       "      <td>1813.0</td>\n",
       "      <td>1881.0</td>\n",
       "      <td>Jablonský, Boleslav</td>\n",
       "      <td>Jablonský, Boleslav</td>\n",
       "      <td>NaN</td>\n",
       "      <td>NaN</td>\n",
       "      <td>Spurný, Jan</td>\n",
       "      <td>[1.]</td>\n",
       "      <td>NaN</td>\n",
       "      <td>Lásky boj. (IV. Milosti plod.)</td>\n",
       "      <td>Praha</td>\n",
       "      <td>NaN</td>\n",
       "      <td>Básně</td>\n",
       "      <td>190</td>\n",
       "      <td>1841</td>\n",
       "      <td>ÚČL AV ČR; Staré tisky 111</td>\n",
       "      <td>1813.0</td>\n",
       "      <td>1881.0</td>\n",
       "      <td>Jablonský, Boleslav</td>\n",
       "      <td>Jablonský, Boleslav</td>\n",
       "      <td>NaN</td>\n",
       "    </tr>\n",
       "    <tr>\n",
       "      <th>3</th>\n",
       "      <td>1283</td>\n",
       "      <td>0001-0000-0000-0013-0000</td>\n",
       "      <td>[[{'text': 'Král Louis vyjel na lov s družinou...</td>\n",
       "      <td>1883.0</td>\n",
       "      <td>1919.0</td>\n",
       "      <td>Hašek, Roman</td>\n",
       "      <td>Hašek, Roman</td>\n",
       "      <td>NaN</td>\n",
       "      <td>1902-1903</td>\n",
       "      <td>Popelka, Václav</td>\n",
       "      <td>[1.]</td>\n",
       "      <td>NaN</td>\n",
       "      <td>STARÁ POHÁDKA.</td>\n",
       "      <td>Týn nad Vltavou</td>\n",
       "      <td>NaN</td>\n",
       "      <td>Pohádka zelených očí a verše o stesku i výsměchu</td>\n",
       "      <td>96</td>\n",
       "      <td>1904</td>\n",
       "      <td>ÚČL AV ČR; P 515</td>\n",
       "      <td>1883.0</td>\n",
       "      <td>1919.0</td>\n",
       "      <td>Hašek, Roman</td>\n",
       "      <td>Hašek, Roman</td>\n",
       "      <td>NaN</td>\n",
       "    </tr>\n",
       "    <tr>\n",
       "      <th>4</th>\n",
       "      <td>395</td>\n",
       "      <td>0001-0004-0000-0009-0000</td>\n",
       "      <td>[[{'text': 'Blíž cesty za městem vůz loutkářův...</td>\n",
       "      <td>1866.0</td>\n",
       "      <td>1938.0</td>\n",
       "      <td>Klášterský, Antonín</td>\n",
       "      <td>Klášterský, Antonín</td>\n",
       "      <td>NaN</td>\n",
       "      <td>Básně</td>\n",
       "      <td>Šimáček, František; Kabinetní knihovna</td>\n",
       "      <td>[1.]</td>\n",
       "      <td>NaN</td>\n",
       "      <td>DNES SE NEHRAJE.</td>\n",
       "      <td>Praha</td>\n",
       "      <td>NaN</td>\n",
       "      <td>Srdce i duše</td>\n",
       "      <td>188</td>\n",
       "      <td>1894</td>\n",
       "      <td>ÚČL AV ČR; P 341</td>\n",
       "      <td>1866.0</td>\n",
       "      <td>1938.0</td>\n",
       "      <td>Klášterský, Antonín</td>\n",
       "      <td>Klášterský, Antonín</td>\n",
       "      <td>NaN</td>\n",
       "    </tr>\n",
       "  </tbody>\n",
       "</table>\n",
       "</div>"
      ],
      "text/plain": [
       "   book_id                   poem_id  \\\n",
       "0      623  0001-0004-0000-0008-0000   \n",
       "1      638  0001-0001-0000-0167-0000   \n",
       "2      281  0001-0000-0000-0004-0004   \n",
       "3     1283  0001-0000-0000-0013-0000   \n",
       "4      395  0001-0004-0000-0009-0000   \n",
       "\n",
       "                                                body  p_author.born  \\\n",
       "0  [[{'text': 'Je-li v domě hezká dcera, ', 'punc...         1842.0   \n",
       "1  [[{'text': 'Z obchodu nekalého, špinavého vytě...         1857.0   \n",
       "2  [[{'text': 'Hle! na jezeru hvězdném', 'punct':...         1813.0   \n",
       "3  [[{'text': 'Král Louis vyjel na lov s družinou...         1883.0   \n",
       "4  [[{'text': 'Blíž cesty za městem vůz loutkářův...         1866.0   \n",
       "\n",
       "   p_author.died               p_author.name            p_author.identity  \\\n",
       "0         1924.0          Martinec, Jaroslav           Martinec, Jaroslav   \n",
       "1         1909.0  Menhard Litoměřický, Xaver  Menhard, František Ladislav   \n",
       "2         1881.0         Jablonský, Boleslav          Jablonský, Boleslav   \n",
       "3         1919.0                Hašek, Roman                 Hašek, Roman   \n",
       "4         1938.0         Klášterský, Antonín          Klášterský, Antonín   \n",
       "\n",
       "  biblio.motto_aut             biblio.b_subtitle  \\\n",
       "0              NaN                           NaN   \n",
       "1              NaN  Nevázané řeči ve vázané řeči   \n",
       "2              NaN                           NaN   \n",
       "3              NaN                     1902-1903   \n",
       "4              NaN                         Básně   \n",
       "\n",
       "                         biblio.publisher biblio.edition biblio.motto  \\\n",
       "0        Grégr, Eduard; Dattel, Ferdinand           [1.]          NaN   \n",
       "1                           Knapp, Mamert           [1.]          NaN   \n",
       "2                             Spurný, Jan           [1.]          NaN   \n",
       "3                         Popelka, Václav           [1.]          NaN   \n",
       "4  Šimáček, František; Kabinetní knihovna           [1.]          NaN   \n",
       "\n",
       "                   biblio.p_title     biblio.place  biblio.dedication  \\\n",
       "0       Je-li v domě hezká dcera,            Praha                NaN   \n",
       "1           Také „čistý“ výtěžek.            Praha                NaN   \n",
       "2  Lásky boj. (IV. Milosti plod.)            Praha                NaN   \n",
       "3                  STARÁ POHÁDKA.  Týn nad Vltavou                NaN   \n",
       "4                DNES SE NEHRAJE.            Praha                NaN   \n",
       "\n",
       "                                     biblio.b_title biblio.pages biblio.year  \\\n",
       "0                                             Básně          102        1872   \n",
       "1                                      Divoké ovoce          176        1892   \n",
       "2                                             Básně          190        1841   \n",
       "3  Pohádka zelených očí a verše o stesku i výsměchu           96        1904   \n",
       "4                                      Srdce i duše          188        1894   \n",
       "\n",
       "                       biblio.signature  b_author.born  b_author.died  \\\n",
       "0                 ÚČL AV ČR; 849 VIII 1         1842.0         1924.0   \n",
       "1  Národní knihovna ČR, Praha; 54 K 622         1857.0         1909.0   \n",
       "2            ÚČL AV ČR; Staré tisky 111         1813.0         1881.0   \n",
       "3                      ÚČL AV ČR; P 515         1883.0         1919.0   \n",
       "4                      ÚČL AV ČR; P 341         1866.0         1938.0   \n",
       "\n",
       "                b_author.name            b_author.identity  results.poem  \n",
       "0          Martinec, Jaroslav           Martinec, Jaroslav           NaN  \n",
       "1  Menhard Litoměřický, Xaver  Menhard, František Ladislav           NaN  \n",
       "2         Jablonský, Boleslav          Jablonský, Boleslav           NaN  \n",
       "3                Hašek, Roman                 Hašek, Roman           NaN  \n",
       "4         Klášterský, Antonín          Klášterský, Antonín           NaN  "
      ]
     },
     "execution_count": 6,
     "metadata": {},
     "output_type": "execute_result"
    }
   ],
   "source": [
    "books.head()"
   ]
  },
  {
   "cell_type": "code",
   "execution_count": 7,
   "id": "4e9d51dc-5071-4964-a153-ad6b93266752",
   "metadata": {},
   "outputs": [
    {
     "data": {
      "text/plain": [
       "[1.]                                                10074\n",
       "1.                                                   2049\n",
       "3.                                                    242\n",
       "2.                                                    219\n",
       "[3., s tímto titulem 2.]  (Úpelné vydání.)            134\n",
       "[2.]                                                   97\n",
       "7.                                                     77\n",
       "[1. v tomto svazku]                                    73\n",
       "5.                                                     71\n",
       "4.                                                     68\n",
       "I.                                                     44\n",
       "9.                                                     34\n",
       "2., rozmnožené vydání                                  23\n",
       "2. [s tímto titulem 1.]                                22\n",
       "8.                                                     21\n",
       "3. (Sny o štěstí) a 4. (Vittoria Colonna)              13\n",
       "[2. v této podobě]                                     10\n",
       "14., nezměněné                                          5\n",
       "2., přepracované a rozšířené; 1. s tímto titulem        3\n",
       "19.                                                     3\n",
       "11.                                                     2\n",
       "1. v tomto svazku                                       1\n",
       "[5.]                                                    1\n",
       "Name: biblio.edition, dtype: int64"
      ]
     },
     "execution_count": 7,
     "metadata": {},
     "output_type": "execute_result"
    }
   ],
   "source": [
    "books['biblio.edition'].value_counts()"
   ]
  },
  {
   "cell_type": "code",
   "execution_count": 8,
   "id": "5e44679f-f90d-4dc7-bbb7-5bf9a5521fd9",
   "metadata": {},
   "outputs": [],
   "source": [
    "editions_to_keep = ['[1.]', '1.', '[1. v tomto svazku]', '1. v tomto svazku ', '2. [s tímto titulem 1.]', '2., přepracované a rozšířené; 1. s tímto titulem', '1. v tomto svazku'] \n",
    "    \n",
    "books = books[books['biblio.edition'].isin(editions_to_keep)]"
   ]
  },
  {
   "cell_type": "code",
   "execution_count": 9,
   "id": "52f11a9d-42dc-4ce4-95e1-9028bb57a199",
   "metadata": {},
   "outputs": [
    {
     "data": {
      "text/plain": [
       "(12222, 24)"
      ]
     },
     "execution_count": 9,
     "metadata": {},
     "output_type": "execute_result"
    }
   ],
   "source": [
    "# reduced size\n",
    "books.shape"
   ]
  },
  {
   "cell_type": "markdown",
   "id": "3b57bd0a-bafa-46ae-b635-afd4f15741a0",
   "metadata": {},
   "source": [
    "# Keep just noun, adjective and verb lemmas\n",
    "\n",
    "- POS tag is contained in the 'morph' field.\n",
    "- More info: https://ufal.mff.cuni.cz/pdt/Morphology_and_Tagging/Doc/hmptagqr.html"
   ]
  },
  {
   "cell_type": "code",
   "execution_count": 10,
   "id": "e9d6c19a-0b9f-468a-bad8-c4e04ea4681d",
   "metadata": {},
   "outputs": [
    {
     "name": "stdout",
     "output_type": "stream",
     "text": [
      "CPU times: user 2min 31s, sys: 5.32 s, total: 2min 36s\n",
      "Wall time: 2min 50s\n"
     ]
    }
   ],
   "source": [
    "%%time\n",
    "# evaluate a string columns 'body' as a json\n",
    "books['body'] = books['body'].apply(lambda x: literal_eval(str(x)))"
   ]
  },
  {
   "cell_type": "code",
   "execution_count": 11,
   "id": "331a18c1-3a6e-4db1-b911-da136e639a20",
   "metadata": {},
   "outputs": [],
   "source": [
    "lemmas_col = []\n",
    "\n",
    "for index, poem in books.iterrows():\n",
    "    lemmas_poem = []\n",
    "    for stanza in poem['body']:\n",
    "        for line in stanza:\n",
    "            for word in line['words']:\n",
    "                # if POS tag is Noun, Adjective or Verb\n",
    "                if word['morph'][0] in ['N', 'A', 'V']:\n",
    "                    lemmas_poem.append(word['lemma'])\n",
    "    lemmas_col.append(lemmas_poem)"
   ]
  },
  {
   "cell_type": "code",
   "execution_count": 12,
   "id": "9b5c0adb-a039-4498-b8f5-5c3d954e1003",
   "metadata": {},
   "outputs": [],
   "source": [
    "books['lemmas'] = lemmas_col"
   ]
  },
  {
   "cell_type": "code",
   "execution_count": 13,
   "id": "c60e0bfe-5164-4656-a4a3-5f45e444301a",
   "metadata": {},
   "outputs": [
    {
     "data": {
      "text/html": [
       "<div>\n",
       "<style scoped>\n",
       "    .dataframe tbody tr th:only-of-type {\n",
       "        vertical-align: middle;\n",
       "    }\n",
       "\n",
       "    .dataframe tbody tr th {\n",
       "        vertical-align: top;\n",
       "    }\n",
       "\n",
       "    .dataframe thead th {\n",
       "        text-align: right;\n",
       "    }\n",
       "</style>\n",
       "<table border=\"1\" class=\"dataframe\">\n",
       "  <thead>\n",
       "    <tr style=\"text-align: right;\">\n",
       "      <th></th>\n",
       "      <th>book_id</th>\n",
       "      <th>poem_id</th>\n",
       "      <th>body</th>\n",
       "      <th>p_author.born</th>\n",
       "      <th>p_author.died</th>\n",
       "      <th>p_author.name</th>\n",
       "      <th>p_author.identity</th>\n",
       "      <th>biblio.motto_aut</th>\n",
       "      <th>biblio.b_subtitle</th>\n",
       "      <th>biblio.publisher</th>\n",
       "      <th>biblio.edition</th>\n",
       "      <th>biblio.motto</th>\n",
       "      <th>biblio.p_title</th>\n",
       "      <th>biblio.place</th>\n",
       "      <th>biblio.dedication</th>\n",
       "      <th>biblio.b_title</th>\n",
       "      <th>biblio.pages</th>\n",
       "      <th>biblio.year</th>\n",
       "      <th>biblio.signature</th>\n",
       "      <th>b_author.born</th>\n",
       "      <th>b_author.died</th>\n",
       "      <th>b_author.name</th>\n",
       "      <th>b_author.identity</th>\n",
       "      <th>results.poem</th>\n",
       "      <th>lemmas</th>\n",
       "    </tr>\n",
       "  </thead>\n",
       "  <tbody>\n",
       "    <tr>\n",
       "      <th>0</th>\n",
       "      <td>623</td>\n",
       "      <td>0001-0004-0000-0008-0000</td>\n",
       "      <td>[[{'text': 'Je-li v domě hezká dcera, ', 'punc...</td>\n",
       "      <td>1842.0</td>\n",
       "      <td>1924.0</td>\n",
       "      <td>Martinec, Jaroslav</td>\n",
       "      <td>Martinec, Jaroslav</td>\n",
       "      <td>NaN</td>\n",
       "      <td>NaN</td>\n",
       "      <td>Grégr, Eduard; Dattel, Ferdinand</td>\n",
       "      <td>[1.]</td>\n",
       "      <td>NaN</td>\n",
       "      <td>Je-li v domě hezká dcera,</td>\n",
       "      <td>Praha</td>\n",
       "      <td>NaN</td>\n",
       "      <td>Básně</td>\n",
       "      <td>102</td>\n",
       "      <td>1872</td>\n",
       "      <td>ÚČL AV ČR; 849 VIII 1</td>\n",
       "      <td>1842.0</td>\n",
       "      <td>1924.0</td>\n",
       "      <td>Martinec, Jaroslav</td>\n",
       "      <td>Martinec, Jaroslav</td>\n",
       "      <td>NaN</td>\n",
       "      <td>[být, dům, hezký, dcera, být, krám, ráno, veče...</td>\n",
       "    </tr>\n",
       "  </tbody>\n",
       "</table>\n",
       "</div>"
      ],
      "text/plain": [
       "   book_id                   poem_id  \\\n",
       "0      623  0001-0004-0000-0008-0000   \n",
       "\n",
       "                                                body  p_author.born  \\\n",
       "0  [[{'text': 'Je-li v domě hezká dcera, ', 'punc...         1842.0   \n",
       "\n",
       "   p_author.died       p_author.name   p_author.identity biblio.motto_aut  \\\n",
       "0         1924.0  Martinec, Jaroslav  Martinec, Jaroslav              NaN   \n",
       "\n",
       "  biblio.b_subtitle                  biblio.publisher biblio.edition  \\\n",
       "0               NaN  Grégr, Eduard; Dattel, Ferdinand           [1.]   \n",
       "\n",
       "  biblio.motto             biblio.p_title biblio.place  biblio.dedication  \\\n",
       "0          NaN  Je-li v domě hezká dcera,        Praha                NaN   \n",
       "\n",
       "  biblio.b_title biblio.pages biblio.year       biblio.signature  \\\n",
       "0          Básně          102        1872  ÚČL AV ČR; 849 VIII 1   \n",
       "\n",
       "   b_author.born  b_author.died       b_author.name   b_author.identity  \\\n",
       "0         1842.0         1924.0  Martinec, Jaroslav  Martinec, Jaroslav   \n",
       "\n",
       "   results.poem                                             lemmas  \n",
       "0           NaN  [být, dům, hezký, dcera, být, krám, ráno, veče...  "
      ]
     },
     "execution_count": 13,
     "metadata": {},
     "output_type": "execute_result"
    }
   ],
   "source": [
    "books.head(1)"
   ]
  },
  {
   "cell_type": "markdown",
   "id": "478a0cd0-8918-4507-abdd-0a601d206f5d",
   "metadata": {},
   "source": [
    "# Remove other languages - keep just the Czech\n",
    "- although `langdetect` can detect different language than 'cs', manual check is needed\n",
    "- after manual check, languages detected different from 'cs' were not proven to be so\n",
    "- one error occurred - no lemmas were parsed from the poem body - it is marked as 'unknown'"
   ]
  },
  {
   "cell_type": "code",
   "execution_count": 14,
   "id": "e93b0916-155f-4fc5-9e1c-3b0b938759c6",
   "metadata": {},
   "outputs": [
    {
     "name": "stdout",
     "output_type": "stream",
     "text": [
      "CPU times: user 1min 5s, sys: 1.75 s, total: 1min 7s\n",
      "Wall time: 1min 7s\n"
     ]
    }
   ],
   "source": [
    "%%time\n",
    "\n",
    "language_col = []\n",
    "\n",
    "for index, poem in books.iterrows():\n",
    "    try:\n",
    "        language = detect(' '.join(poem['lemmas']))\n",
    "    except Exception as e:\n",
    "        language = 'unknown'\n",
    "    language_col.append(language)\n",
    "\n",
    "books['language'] = language_col"
   ]
  },
  {
   "cell_type": "code",
   "execution_count": 15,
   "id": "d4c6266f-dfc5-4949-a97a-c2530352d338",
   "metadata": {},
   "outputs": [
    {
     "data": {
      "text/plain": [
       "cs         12184\n",
       "sk            26\n",
       "hu             2\n",
       "unknown        1\n",
       "hr             1\n",
       "sv             1\n",
       "de             1\n",
       "nl             1\n",
       "da             1\n",
       "no             1\n",
       "sl             1\n",
       "lt             1\n",
       "et             1\n",
       "Name: language, dtype: int64"
      ]
     },
     "execution_count": 15,
     "metadata": {},
     "output_type": "execute_result"
    }
   ],
   "source": [
    "books['language'].value_counts()"
   ]
  },
  {
   "cell_type": "code",
   "execution_count": 16,
   "id": "75879a3a-b1bb-43f0-816a-bfdb23732d6d",
   "metadata": {},
   "outputs": [
    {
     "data": {
      "text/html": [
       "<div>\n",
       "<style scoped>\n",
       "    .dataframe tbody tr th:only-of-type {\n",
       "        vertical-align: middle;\n",
       "    }\n",
       "\n",
       "    .dataframe tbody tr th {\n",
       "        vertical-align: top;\n",
       "    }\n",
       "\n",
       "    .dataframe thead th {\n",
       "        text-align: right;\n",
       "    }\n",
       "</style>\n",
       "<table border=\"1\" class=\"dataframe\">\n",
       "  <thead>\n",
       "    <tr style=\"text-align: right;\">\n",
       "      <th></th>\n",
       "      <th>book_id</th>\n",
       "      <th>poem_id</th>\n",
       "      <th>body</th>\n",
       "      <th>p_author.born</th>\n",
       "      <th>p_author.died</th>\n",
       "      <th>p_author.name</th>\n",
       "      <th>p_author.identity</th>\n",
       "      <th>biblio.motto_aut</th>\n",
       "      <th>biblio.b_subtitle</th>\n",
       "      <th>biblio.publisher</th>\n",
       "      <th>biblio.edition</th>\n",
       "      <th>biblio.motto</th>\n",
       "      <th>biblio.p_title</th>\n",
       "      <th>biblio.place</th>\n",
       "      <th>biblio.dedication</th>\n",
       "      <th>biblio.b_title</th>\n",
       "      <th>biblio.pages</th>\n",
       "      <th>biblio.year</th>\n",
       "      <th>biblio.signature</th>\n",
       "      <th>b_author.born</th>\n",
       "      <th>b_author.died</th>\n",
       "      <th>b_author.name</th>\n",
       "      <th>b_author.identity</th>\n",
       "      <th>results.poem</th>\n",
       "      <th>lemmas</th>\n",
       "      <th>language</th>\n",
       "    </tr>\n",
       "  </thead>\n",
       "  <tbody>\n",
       "    <tr>\n",
       "      <th>2866</th>\n",
       "      <td>174</td>\n",
       "      <td>0001-0003-0005-0018-0000</td>\n",
       "      <td>[[{'text': 'Napřed proč? ', 'punct': {'2': '?'...</td>\n",
       "      <td>1821.0</td>\n",
       "      <td>1856.0</td>\n",
       "      <td>Havlíček Borovský, Karel</td>\n",
       "      <td>Havlíček Borovský, Karel</td>\n",
       "      <td>NaN</td>\n",
       "      <td>NaN</td>\n",
       "      <td>Pražák, Albert; Orbis; Bělič, Jaromír; Národní...</td>\n",
       "      <td>[1.]</td>\n",
       "      <td>NaN</td>\n",
       "      <td>Napřed proč?</td>\n",
       "      <td>Praha</td>\n",
       "      <td>NaN</td>\n",
       "      <td>Básnické dílo</td>\n",
       "      <td>246</td>\n",
       "      <td>1950</td>\n",
       "      <td>ÚČL AV ČR; 52 VIII 50</td>\n",
       "      <td>1821.0</td>\n",
       "      <td>1856.0</td>\n",
       "      <td>Havlíček Borovský, Karel</td>\n",
       "      <td>Havlíček Borovský, Karel</td>\n",
       "      <td>NaN</td>\n",
       "      <td>[]</td>\n",
       "      <td>unknown</td>\n",
       "    </tr>\n",
       "  </tbody>\n",
       "</table>\n",
       "</div>"
      ],
      "text/plain": [
       "      book_id                   poem_id  \\\n",
       "2866      174  0001-0003-0005-0018-0000   \n",
       "\n",
       "                                                   body  p_author.born  \\\n",
       "2866  [[{'text': 'Napřed proč? ', 'punct': {'2': '?'...         1821.0   \n",
       "\n",
       "      p_author.died             p_author.name         p_author.identity  \\\n",
       "2866         1856.0  Havlíček Borovský, Karel  Havlíček Borovský, Karel   \n",
       "\n",
       "     biblio.motto_aut biblio.b_subtitle  \\\n",
       "2866              NaN               NaN   \n",
       "\n",
       "                                       biblio.publisher biblio.edition  \\\n",
       "2866  Pražák, Albert; Orbis; Bělič, Jaromír; Národní...           [1.]   \n",
       "\n",
       "     biblio.motto biblio.p_title biblio.place  biblio.dedication  \\\n",
       "2866          NaN   Napřed proč?        Praha                NaN   \n",
       "\n",
       "     biblio.b_title biblio.pages biblio.year       biblio.signature  \\\n",
       "2866  Básnické dílo          246        1950  ÚČL AV ČR; 52 VIII 50   \n",
       "\n",
       "      b_author.born  b_author.died             b_author.name  \\\n",
       "2866         1821.0         1856.0  Havlíček Borovský, Karel   \n",
       "\n",
       "             b_author.identity  results.poem lemmas language  \n",
       "2866  Havlíček Borovský, Karel           NaN     []  unknown  "
      ]
     },
     "execution_count": 16,
     "metadata": {},
     "output_type": "execute_result"
    }
   ],
   "source": [
    "books.loc[books['language'] == 'unknown']"
   ]
  },
  {
   "cell_type": "markdown",
   "id": "b1c7f340-cc7a-43d0-9f04-69809058834b",
   "metadata": {},
   "source": [
    "# Create BOW (bag of words)\n",
    "- inspired by: https://towardsdatascience.com/topic-modeling-and-latent-dirichlet-allocation-in-python-9bf156893c24\n",
    "- gensim reference: https://radimrehurek.com/gensim/auto_examples/tutorials/run_lda.html#sphx-glr-auto-examples-tutorials-run-lda-py"
   ]
  },
  {
   "cell_type": "code",
   "execution_count": 17,
   "id": "ede7c4fa-8ac8-4450-8589-ab9da0725d22",
   "metadata": {},
   "outputs": [],
   "source": [
    "dictionary = gensim.corpora.Dictionary(books['lemmas'])"
   ]
  },
  {
   "cell_type": "code",
   "execution_count": 18,
   "id": "671abf7d-f0ea-43ca-92f9-83cda9da09f4",
   "metadata": {},
   "outputs": [
    {
     "name": "stdout",
     "output_type": "stream",
     "text": [
      "0 být\n",
      "1 dcera\n",
      "2 děvče\n",
      "3 dům\n",
      "4 hezký\n",
      "5 hoch\n",
      "6 krám\n",
      "7 krásný\n",
      "8 panímáma\n",
      "9 ráno\n",
      "10 sdílet\n"
     ]
    }
   ],
   "source": [
    "count = 0\n",
    "for k, v in dictionary.iteritems():\n",
    "    print(k, v)\n",
    "    count += 1\n",
    "    if count > 10:\n",
    "        break"
   ]
  },
  {
   "cell_type": "code",
   "execution_count": 19,
   "id": "5fe9ca65-461e-4f66-b41b-3ec59c04abae",
   "metadata": {},
   "outputs": [],
   "source": [
    "# IMPORTANT hyperparameters\n",
    "dictionary.filter_extremes(no_below=15, no_above=0.5, keep_n=100000)"
   ]
  },
  {
   "cell_type": "code",
   "execution_count": 20,
   "id": "44c36ef8-956d-47db-aeea-52804f132d8e",
   "metadata": {},
   "outputs": [],
   "source": [
    "bow_corpus = [dictionary.doc2bow(doc) for doc in books['lemmas']]"
   ]
  },
  {
   "cell_type": "code",
   "execution_count": 21,
   "id": "405b319c-26a5-4541-bbd9-4e85cadafae4",
   "metadata": {},
   "outputs": [
    {
     "name": "stdout",
     "output_type": "stream",
     "text": [
      "Word 0 (\"dcera\") appears 1 time.\n",
      "Word 1 (\"děvče\") appears 1 time.\n",
      "Word 2 (\"dům\") appears 1 time.\n",
      "Word 3 (\"hezký\") appears 1 time.\n",
      "Word 4 (\"hoch\") appears 1 time.\n",
      "Word 5 (\"krám\") appears 1 time.\n",
      "Word 6 (\"krásný\") appears 1 time.\n",
      "Word 7 (\"ráno\") appears 1 time.\n",
      "Word 8 (\"sdílet\") appears 1 time.\n",
      "Word 9 (\"usoudit\") appears 1 time.\n",
      "Word 10 (\"večer\") appears 1 time.\n",
      "Word 11 (\"věno\") appears 1 time.\n",
      "Word 12 (\"závora\") appears 1 time.\n",
      "Word 13 (\"štědrý\") appears 1 time.\n",
      "Word 14 (\"šťastný\") appears 1 time.\n"
     ]
    }
   ],
   "source": [
    "bow_doc_0 = bow_corpus[0]\n",
    "for i in range(len(bow_doc_0)):\n",
    "    print(\"Word {} (\\\"{}\\\") appears {} time in the particular poem.\".format(bow_doc_0[i][0], dictionary[bow_doc_0[i][0]], bow_doc_0[i][1]))"
   ]
  },
  {
   "cell_type": "markdown",
   "id": "8a49080e-ddf7-4a9e-8648-b2dcc8002f55",
   "metadata": {},
   "source": [
    "# Apply LDA"
   ]
  },
  {
   "cell_type": "code",
   "execution_count": 22,
   "id": "8db117f0-7e51-458f-a459-d0865e1cc222",
   "metadata": {},
   "outputs": [
    {
     "name": "stdout",
     "output_type": "stream",
     "text": [
      "CPU times: user 12min 3s, sys: 28.8 s, total: 12min 32s\n",
      "Wall time: 18min 33s\n"
     ]
    }
   ],
   "source": [
    "%%time\n",
    "# train a model\n",
    "lda_model = gensim.models.LdaMulticore(bow_corpus, num_topics=100, id2word=dictionary, passes=100, workers=3)"
   ]
  },
  {
   "cell_type": "code",
   "execution_count": 23,
   "id": "1d6e05eb-47f6-470b-b4f3-c8dddedc8e5c",
   "metadata": {},
   "outputs": [
    {
     "name": "stdout",
     "output_type": "stream",
     "text": [
      "Topic: 0 \n",
      "Word: 0.082*\"chudý\" + 0.024*\"sedlák\" + 0.021*\"boháč\" + 0.019*\"mládež\" + 0.015*\"vléci\" + 0.013*\"úroda\" + 0.013*\"zjevení\" + 0.013*\"úkol\" + 0.013*\"zdravý\" + 0.012*\"dav\"\n",
      "Topic: 1 \n",
      "Word: 0.213*\"starý\" + 0.034*\"nový\" + 0.021*\"hlava\" + 0.021*\"dělník\" + 0.016*\"dům\" + 0.012*\"ruka\" + 0.010*\"vstát\" + 0.010*\"zeď\" + 0.009*\"dávný\" + 0.009*\"mladý\"\n",
      "Topic: 2 \n",
      "Word: 0.052*\"víra\" + 0.048*\"Kristus\" + 0.048*\"hřích\" + 0.036*\"svatý\" + 0.028*\"pán\" + 0.023*\"bůh\" + 0.015*\"naděje\" + 0.014*\"znát\" + 0.014*\"bývat\" + 0.014*\"mít\"\n",
      "Topic: 3 \n",
      "Word: 0.039*\"bůh\" + 0.021*\"y\" + 0.019*\"svět\" + 0.017*\"nebe\" + 0.017*\"otec\" + 0.016*\"srdce\" + 0.014*\"matka\" + 0.013*\"krása\" + 0.013*\"láska\" + 0.012*\"dítě\"\n",
      "Topic: 4 \n",
      "Word: 0.025*\"duše\" + 0.022*\"most\" + 0.021*\"padat\" + 0.020*\"hlas\" + 0.020*\"slyšet\" + 0.015*\"květ\" + 0.014*\"svítat\" + 0.012*\"zlatý\" + 0.011*\"pustit\" + 0.010*\"čas\"\n",
      "Topic: 5 \n",
      "Word: 0.065*\"krev\" + 0.040*\"mřít\" + 0.025*\"kus\" + 0.023*\"kalný\" + 0.022*\"vlastní\" + 0.021*\"odpověď\" + 0.018*\"boj\" + 0.012*\"zalkat\" + 0.012*\"ňadra\" + 0.011*\"blýsknout\"\n",
      "Topic: 6 \n",
      "Word: 0.025*\"bratr\" + 0.018*\"město\" + 0.012*\"svatý\" + 0.010*\"ruka\" + 0.010*\"jít\" + 0.009*\"stát\" + 0.009*\"bůh\" + 0.009*\"kříž\" + 0.009*\"mnich\" + 0.009*\"hlava\"\n",
      "Topic: 7 \n",
      "Word: 0.019*\"oko\" + 0.016*\"dítě\" + 0.015*\"ruka\" + 0.014*\"hlava\" + 0.011*\"chtít\" + 0.010*\"jít\" + 0.010*\"vidět\" + 0.009*\"žena\" + 0.009*\"stát\" + 0.009*\"tvář\"\n",
      "Topic: 8 \n",
      "Word: 0.032*\"srdce\" + 0.028*\"láska\" + 0.017*\"slunce\" + 0.017*\"zapomenout\" + 0.016*\"mít\" + 0.014*\"velký\" + 0.013*\"hlava\" + 0.011*\"stát\" + 0.010*\"přijít\" + 0.010*\"květ\"\n",
      "Topic: 9 \n",
      "Word: 0.020*\"Honza\" + 0.019*\"růst\" + 0.018*\"povídat\" + 0.014*\"táta\" + 0.014*\"zrní\" + 0.013*\"čas\" + 0.013*\"vítr\" + 0.012*\"jít\" + 0.012*\"dát\" + 0.011*\"bezedný\"\n",
      "Topic: 10 \n",
      "Word: 0.054*\"moci\" + 0.045*\"syn\" + 0.036*\"otec\" + 0.030*\"říci\" + 0.026*\"lze\" + 0.020*\"vina\" + 0.018*\"dát\" + 0.017*\"vědět\" + 0.016*\"velký\" + 0.015*\"muset\"\n",
      "Topic: 11 \n",
      "Word: 0.142*\"chtít\" + 0.079*\"mít\" + 0.056*\"dát\" + 0.032*\"jít\" + 0.030*\"žít\" + 0.026*\"bůh\" + 0.025*\"znát\" + 0.025*\"moci\" + 0.023*\"dobrý\" + 0.022*\"muset\"\n",
      "Topic: 12 \n",
      "Word: 0.023*\"den\" + 0.020*\"trouba\" + 0.020*\"svět\" + 0.020*\"Němec\" + 0.018*\"vrána\" + 0.018*\"hlaholit\" + 0.015*\"puch\" + 0.014*\"klec\" + 0.012*\"zhouba\" + 0.011*\"zdravý\"\n",
      "Topic: 13 \n",
      "Word: 0.040*\"šeptat\" + 0.037*\"roh\" + 0.019*\"lovec\" + 0.014*\"jelen\" + 0.014*\"hrozen\" + 0.013*\"krása\" + 0.012*\"plachý\" + 0.012*\"lesknout\" + 0.012*\"křídlo\" + 0.011*\"zrozený\"\n",
      "Topic: 14 \n",
      "Word: 0.045*\"tělo\" + 0.043*\"oko\" + 0.042*\"vlas\" + 0.031*\"bílý\" + 0.030*\"líbat\" + 0.026*\"duše\" + 0.022*\"ruka\" + 0.021*\"polibek\" + 0.020*\"ret\" + 0.019*\"žena\"\n",
      "Topic: 15 \n",
      "Word: 0.107*\"cizí\" + 0.053*\"mizet\" + 0.051*\"den\" + 0.044*\"modlit\" + 0.036*\"ryzí\" + 0.025*\"bříza\" + 0.024*\"kmen\" + 0.018*\"jiný\" + 0.016*\"kořen\" + 0.015*\"míza\"\n",
      "Topic: 16 \n",
      "Word: 0.116*\"jet\" + 0.043*\"nevěsta\" + 0.032*\"svatba\" + 0.019*\"mládenec\" + 0.018*\"škoda\" + 0.018*\"lhát\" + 0.018*\"svatební\" + 0.017*\"láska\" + 0.016*\"letět\" + 0.014*\"jíst\"\n",
      "Topic: 17 \n",
      "Word: 0.008*\"slovo\" + 0.007*\"duch\" + 0.007*\"láska\" + 0.007*\"srdce\" + 0.006*\"mít\" + 0.005*\"mnohý\" + 0.005*\"mysl\" + 0.005*\"hlas\" + 0.005*\"otec\" + 0.004*\"čin\"\n",
      "Topic: 18 \n",
      "Word: 0.045*\"strom\" + 0.043*\"les\" + 0.024*\"pták\" + 0.022*\"listí\" + 0.022*\"list\" + 0.018*\"vítr\" + 0.018*\"větev\" + 0.017*\"tráva\" + 0.016*\"slunce\" + 0.014*\"kraj\"\n",
      "Topic: 19 \n",
      "Word: 0.037*\"pochod\" + 0.033*\"cikán\" + 0.026*\"pero\" + 0.020*\"kladivo\" + 0.018*\"jiný\" + 0.018*\"dobýt\" + 0.016*\"dolina\" + 0.015*\"výšina\" + 0.015*\"plamen\" + 0.013*\"jablko\"\n",
      "Topic: 20 \n",
      "Word: 0.008*\"pán\" + 0.008*\"starý\" + 0.008*\"kolo\" + 0.007*\"zrak\" + 0.007*\"bok\" + 0.007*\"stěna\" + 0.007*\"strana\" + 0.006*\"dlaň\" + 0.006*\"malý\" + 0.006*\"zor\"\n",
      "Topic: 21 \n",
      "Word: 0.040*\"květina\" + 0.019*\"den\" + 0.016*\"život\" + 0.016*\"chvíle\" + 0.015*\"živý\" + 0.012*\"přejít\" + 0.011*\"dík\" + 0.011*\"chaloupka\" + 0.010*\"luka\" + 0.010*\"svět\"\n",
      "Topic: 22 \n",
      "Word: 0.067*\"město\" + 0.018*\"Maďar\" + 0.018*\"chléb\" + 0.017*\"stroj\" + 0.015*\"ruch\" + 0.014*\"shon\" + 0.014*\"práce\" + 0.012*\"maďarský\" + 0.012*\"život\" + 0.011*\"nit\"\n",
      "Topic: 23 \n",
      "Word: 0.130*\"víno\" + 0.094*\"pít\" + 0.062*\"ležet\" + 0.054*\"pohár\" + 0.026*\"chtít\" + 0.025*\"běžet\" + 0.022*\"opustit\" + 0.020*\"lože\" + 0.015*\"hodit\" + 0.014*\"přijít\"\n",
      "Topic: 24 \n",
      "Word: 0.033*\"přát\" + 0.022*\"šat\" + 0.019*\"dívat\" + 0.018*\"minout\" + 0.014*\"ples\" + 0.013*\"nebe\" + 0.012*\"jitro\" + 0.012*\"milá\" + 0.012*\"krásný\" + 0.012*\"skrývat\"\n",
      "Topic: 25 \n",
      "Word: 0.040*\"tančit\" + 0.035*\"pes\" + 0.025*\"hůl\" + 0.019*\"zpívat\" + 0.016*\"stráž\" + 0.015*\"písnička\" + 0.015*\"voják\" + 0.013*\"výskat\" + 0.013*\"hrát\" + 0.011*\"mít\"\n",
      "Topic: 26 \n",
      "Word: 0.018*\"les\" + 0.018*\"skála\" + 0.014*\"stín\" + 0.010*\"hora\" + 0.008*\"noc\" + 0.007*\"kolo\" + 0.007*\"černý\" + 0.007*\"kraj\" + 0.006*\"temný\" + 0.006*\"cesta\"\n",
      "Topic: 27 \n",
      "Word: 0.020*\"zámek\" + 0.017*\"ňádro\" + 0.016*\"vlnka\" + 0.014*\"hláska\" + 0.013*\"kráska\" + 0.011*\"mít\" + 0.010*\"závist\" + 0.010*\"potěcha\" + 0.010*\"příroda\" + 0.010*\"zlato\"\n",
      "Topic: 28 \n",
      "Word: 0.078*\"vlna\" + 0.060*\"voda\" + 0.043*\"loď\" + 0.042*\"břeh\" + 0.035*\"moře\" + 0.020*\"plout\" + 0.018*\"proud\" + 0.014*\"řeka\" + 0.013*\"bouře\" + 0.013*\"veslo\"\n",
      "Topic: 29 \n",
      "Word: 0.024*\"Běla\" + 0.019*\"srdce\" + 0.016*\"chystat\" + 0.015*\"vědět\" + 0.013*\"místo\" + 0.013*\"Vojtěch\" + 0.011*\"míra\" + 0.010*\"duch\" + 0.010*\"volat\" + 0.010*\"vložit\"\n",
      "Topic: 30 \n",
      "Word: 0.032*\"mít\" + 0.024*\"pán\" + 0.018*\"dát\" + 0.014*\"chtít\" + 0.009*\"stát\" + 0.009*\"vědět\" + 0.008*\"jít\" + 0.008*\"lid\" + 0.008*\"přijít\" + 0.008*\"vzít\"\n",
      "Topic: 31 \n",
      "Word: 0.019*\"ulice\" + 0.017*\"okno\" + 0.017*\"smích\" + 0.013*\"zřít\" + 0.012*\"stůl\" + 0.011*\"hra\" + 0.010*\"plný\" + 0.008*\"tvář\" + 0.008*\"hrát\" + 0.007*\"znít\"\n",
      "Topic: 32 \n",
      "Word: 0.055*\"jaro\" + 0.054*\"dítě\" + 0.043*\"svět\" + 0.033*\"celý\" + 0.031*\"hnízdo\" + 0.028*\"ptáček\" + 0.023*\"den\" + 0.019*\"nový\" + 0.019*\"přijít\" + 0.016*\"rok\"\n",
      "Topic: 33 \n",
      "Word: 0.046*\"dbát\" + 0.029*\"slavný\" + 0.026*\"věčný\" + 0.023*\"půda\" + 0.020*\"zdar\" + 0.019*\"stálý\" + 0.016*\"lidstvo\" + 0.015*\"pozdravit\" + 0.014*\"tvůrce\" + 0.013*\"radost\"\n",
      "Topic: 34 \n",
      "Word: 0.257*\"mít\" + 0.117*\"vědět\" + 0.113*\"žena\" + 0.112*\"rád\" + 0.034*\"muž\" + 0.028*\"bůh\" + 0.020*\"vidět\" + 0.013*\"milovat\" + 0.013*\"myslet\" + 0.012*\"malý\"\n",
      "Topic: 35 \n",
      "Word: 0.017*\"krev\" + 0.012*\"hlava\" + 0.012*\"meč\" + 0.012*\"ruka\" + 0.010*\"boj\" + 0.010*\"žena\" + 0.009*\"vrah\" + 0.008*\"smrt\" + 0.008*\"hrůza\" + 0.007*\"muž\"\n",
      "Topic: 36 \n",
      "Word: 0.068*\"kůň\" + 0.024*\"oko\" + 0.022*\"jezdec\" + 0.011*\"Prokop\" + 0.011*\"ležet\" + 0.009*\"stromek\" + 0.009*\"vítr\" + 0.009*\"strom\" + 0.008*\"hlava\" + 0.008*\"nebe\"\n",
      "Topic: 37 \n",
      "Word: 0.054*\"led\" + 0.018*\"srdce\" + 0.015*\"bílý\" + 0.014*\"dítě\" + 0.014*\"oheň\" + 0.012*\"bušit\" + 0.012*\"nožka\" + 0.012*\"bůh\" + 0.011*\"tížit\" + 0.011*\"mráz\"\n",
      "Topic: 38 \n",
      "Word: 0.033*\"duch\" + 0.025*\"svět\" + 0.021*\"velký\" + 0.018*\"lidstvo\" + 0.017*\"pravda\" + 0.016*\"věk\" + 0.016*\"síla\" + 0.014*\"nový\" + 0.014*\"věčný\" + 0.013*\"svatý\"\n",
      "Topic: 39 \n",
      "Word: 0.058*\"rána\" + 0.045*\"ptát\" + 0.034*\"umřít\" + 0.020*\"cizinec\" + 0.014*\"šít\" + 0.013*\"jediný\" + 0.013*\"daleko\" + 0.012*\"chvíle\" + 0.011*\"červený\" + 0.010*\"kamarád\"\n",
      "Topic: 40 \n",
      "Word: 0.105*\"sen\" + 0.061*\"mládí\" + 0.053*\"snít\" + 0.051*\"pohádka\" + 0.020*\"slunce\" + 0.020*\"celý\" + 0.019*\"modrý\" + 0.018*\"doba\" + 0.017*\"sníst\" + 0.016*\"život\"\n",
      "Topic: 41 \n",
      "Word: 0.063*\"chrám\" + 0.027*\"svatý\" + 0.025*\"jít\" + 0.025*\"oltář\" + 0.023*\"kříž\" + 0.018*\"modlitba\" + 0.017*\"boží\" + 0.015*\"kněz\" + 0.014*\"zbožný\" + 0.013*\"kostel\"\n",
      "Topic: 42 \n",
      "Word: 0.036*\"zvednout\" + 0.031*\"síť\" + 0.031*\"oblak\" + 0.024*\"zlatý\" + 0.016*\"zanechat\" + 0.016*\"plnit\" + 0.016*\"letět\" + 0.015*\"vdova\" + 0.014*\"vlnit\" + 0.014*\"farář\"\n",
      "Topic: 43 \n",
      "Word: 0.060*\"práce\" + 0.029*\"chléb\" + 0.025*\"země\" + 0.021*\"hlad\" + 0.020*\"bída\" + 0.019*\"dát\" + 0.017*\"pán\" + 0.016*\"jít\" + 0.015*\"bůh\" + 0.014*\"chudý\"\n",
      "Topic: 44 \n",
      "Word: 0.031*\"psát\" + 0.024*\"mít\" + 0.021*\"kniha\" + 0.020*\"svět\" + 0.018*\"verš\" + 0.017*\"číst\" + 0.016*\"básník\" + 0.012*\"věc\" + 0.011*\"báseň\" + 0.010*\"člověk\"\n",
      "Topic: 45 \n",
      "Word: 0.044*\"bolet\" + 0.036*\"slepý\" + 0.028*\"mluvit\" + 0.026*\"činit\" + 0.023*\"odejít\" + 0.019*\"světlo\" + 0.018*\"teplo\" + 0.017*\"vzplanout\" + 0.017*\"srdce\" + 0.016*\"člověk\"\n",
      "Topic: 46 \n",
      "Word: 0.065*\"myšlénka\" + 0.039*\"stejný\" + 0.036*\"okamžik\" + 0.027*\"pravý\" + 0.026*\"pouto\" + 0.023*\"skutečnost\" + 0.023*\"soudit\" + 0.016*\"otrok\" + 0.014*\"sláva\" + 0.013*\"dobrý\"\n",
      "Topic: 47 \n",
      "Word: 0.029*\"rek\" + 0.025*\"odvaha\" + 0.025*\"půl\" + 0.021*\"jít\" + 0.017*\"lež\" + 0.017*\"čin\" + 0.011*\"silný\" + 0.009*\"duše\" + 0.009*\"pomník\" + 0.009*\"dítě\"\n",
      "Topic: 48 \n",
      "Word: 0.147*\"zvon\" + 0.071*\"věž\" + 0.028*\"hlásat\" + 0.027*\"právo\" + 0.021*\"křivda\" + 0.015*\"soud\" + 0.014*\"nouze\" + 0.014*\"ston\" + 0.013*\"úkoj\" + 0.012*\"bít\"\n",
      "Topic: 49 \n",
      "Word: 0.150*\"hrad\" + 0.030*\"kost\" + 0.029*\"stát\" + 0.023*\"kynout\" + 0.023*\"cíl\" + 0.019*\"ruka\" + 0.018*\"zavřít\" + 0.014*\"zeď\" + 0.012*\"domov\" + 0.011*\"žezlo\"\n",
      "Topic: 50 \n",
      "Word: 0.054*\"mlýn\" + 0.034*\"princezna\" + 0.022*\"trní\" + 0.020*\"platný\" + 0.017*\"drsný\" + 0.015*\"boží\" + 0.013*\"peří\" + 0.012*\"drát\" + 0.012*\"svůj\" + 0.011*\"chlubit\"\n",
      "Topic: 51 \n",
      "Word: 0.020*\"mít\" + 0.014*\"vidět\" + 0.013*\"vůz\" + 0.011*\"člověk\" + 0.011*\"čert\" + 0.010*\"oko\" + 0.009*\"hlava\" + 0.009*\"vědět\" + 0.008*\"den\" + 0.008*\"jet\"\n",
      "Topic: 52 \n",
      "Word: 0.103*\"moře\" + 0.096*\"hora\" + 0.040*\"země\" + 0.023*\"slunce\" + 0.021*\"kraj\" + 0.020*\"letět\" + 0.016*\"nebe\" + 0.016*\"dálný\" + 0.013*\"daleký\" + 0.013*\"srdce\"\n",
      "Topic: 53 \n",
      "Word: 0.164*\"hrob\" + 0.109*\"mrtvý\" + 0.030*\"smrt\" + 0.029*\"hřbitov\" + 0.027*\"rakev\" + 0.023*\"živý\" + 0.016*\"rov\" + 0.016*\"země\" + 0.013*\"pochovat\" + 0.013*\"čas\"\n",
      "Topic: 54 \n",
      "Word: 0.070*\"vát\" + 0.056*\"kvítek\" + 0.042*\"máj\" + 0.033*\"vítr\" + 0.031*\"kvést\" + 0.019*\"Aj\" + 0.017*\"srdéčko\" + 0.015*\"plazit\" + 0.014*\"studený\" + 0.014*\"maličký\"\n",
      "Topic: 55 \n",
      "Word: 0.069*\"matka\" + 0.066*\"slza\" + 0.036*\"srdce\" + 0.024*\"sestra\" + 0.019*\"ruka\" + 0.019*\"oko\" + 0.019*\"vrátit\" + 0.015*\"dítě\" + 0.014*\"nový\" + 0.012*\"žal\"\n",
      "Topic: 56 \n",
      "Word: 0.117*\"spát\" + 0.113*\"noc\" + 0.042*\"tma\" + 0.041*\"hodina\" + 0.027*\"den\" + 0.025*\"sen\" + 0.023*\"bdít\" + 0.016*\"světlo\" + 0.015*\"usnout\" + 0.013*\"jít\"\n",
      "Topic: 57 \n",
      "Word: 0.084*\"jít\" + 0.062*\"pole\" + 0.038*\"les\" + 0.027*\"cesta\" + 0.020*\"klas\" + 0.017*\"ves\" + 0.015*\"kraj\" + 0.014*\"údolí\" + 0.012*\"stráň\" + 0.012*\"louka\"\n",
      "Topic: 58 \n",
      "Word: 0.264*\"píseň\" + 0.126*\"zpívat\" + 0.052*\"zpěv\" + 0.052*\"srdce\" + 0.027*\"pták\" + 0.025*\"slyšet\" + 0.023*\"znít\" + 0.013*\"jaro\" + 0.012*\"zazpívat\" + 0.012*\"letět\"\n",
      "Topic: 59 \n",
      "Word: 0.046*\"zvonit\" + 0.045*\"umět\" + 0.034*\"zvonek\" + 0.030*\"nebe\" + 0.027*\"druh\" + 0.021*\"svátek\" + 0.019*\"nízký\" + 0.017*\"okénko\" + 0.017*\"štědrý\" + 0.017*\"poklad\"\n",
      "Topic: 60 \n",
      "Word: 0.031*\"krása\" + 0.019*\"královna\" + 0.012*\"zřít\" + 0.011*\"vlna\" + 0.011*\"srdce\" + 0.011*\"jih\" + 0.011*\"barva\" + 0.011*\"žhavý\" + 0.011*\"květ\" + 0.010*\"žena\"\n",
      "Topic: 61 \n",
      "Word: 0.038*\"národ\" + 0.037*\"český\" + 0.035*\"vlast\" + 0.023*\"lid\" + 0.017*\"boj\" + 0.016*\"země\" + 0.016*\"Čech\" + 0.016*\"sláva\" + 0.014*\"síla\" + 0.013*\"bratr\"\n",
      "Topic: 62 \n",
      "Word: 0.065*\"milovat\" + 0.049*\"nebe\" + 0.049*\"věrný\" + 0.047*\"svítit\" + 0.045*\"hledat\" + 0.040*\"hvězda\" + 0.037*\"děvče\" + 0.032*\"hvězdička\" + 0.028*\"hledět\" + 0.023*\"vést\"\n",
      "Topic: 63 \n",
      "Word: 0.057*\"lípa\" + 0.021*\"otevřít\" + 0.020*\"srdce\" + 0.019*\"zahrádka\" + 0.016*\"láska\" + 0.016*\"blednout\" + 0.015*\"dívka\" + 0.013*\"mladý\" + 0.013*\"vánek\" + 0.013*\"don\"\n",
      "Topic: 64 \n",
      "Word: 0.120*\"rok\" + 0.060*\"žití\" + 0.058*\"věřit\" + 0.049*\"krásný\" + 0.035*\"mír\" + 0.032*\"mít\" + 0.032*\"srdce\" + 0.029*\"láska\" + 0.026*\"duše\" + 0.018*\"přání\"\n",
      "Topic: 65 \n",
      "Word: 0.061*\"děva\" + 0.021*\"scházet\" + 0.020*\"Jež\" + 0.020*\"jezero\" + 0.015*\"krutý\" + 0.015*\"ruka\" + 0.014*\"divý\" + 0.014*\"stříbro\" + 0.012*\"strašný\" + 0.012*\"hněv\"\n",
      "Topic: 66 \n",
      "Word: 0.149*\"hoch\" + 0.099*\"hrát\" + 0.035*\"struna\" + 0.021*\"housle\" + 0.017*\"tón\" + 0.015*\"víla\" + 0.014*\"vědět\" + 0.013*\"zahrát\" + 0.013*\"mít\" + 0.013*\"svět\"\n",
      "Topic: 67 \n",
      "Word: 0.031*\"duše\" + 0.025*\"hlava\" + 0.023*\"čekat\" + 0.016*\"jiný\" + 0.015*\"žid\" + 0.014*\"mít\" + 0.012*\"jít\" + 0.012*\"starý\" + 0.011*\"kritik\" + 0.011*\"resignace\"\n",
      "Topic: 68 \n",
      "Word: 0.024*\"vichr\" + 0.022*\"měsíček\" + 0.020*\"vzdát\" + 0.017*\"téci\" + 0.017*\"řeka\" + 0.016*\"míle\" + 0.015*\"samota\" + 0.015*\"přestat\" + 0.015*\"bouře\" + 0.014*\"trudný\"\n",
      "Topic: 69 \n",
      "Word: 0.053*\"slavík\" + 0.052*\"růžový\" + 0.030*\"milenka\" + 0.020*\"horký\" + 0.019*\"probudit\" + 0.019*\"sladký\" + 0.016*\"sen\" + 0.016*\"vzduch\" + 0.016*\"modro\" + 0.015*\"ptáče\"\n",
      "Topic: 70 \n",
      "Word: 0.021*\"srdce\" + 0.015*\"láska\" + 0.015*\"květ\" + 0.012*\"krása\" + 0.011*\"sladký\" + 0.011*\"oko\" + 0.011*\"zlatý\" + 0.010*\"ňadro\" + 0.009*\"duše\" + 0.009*\"růže\"\n",
      "Topic: 71 \n",
      "Word: 0.066*\"dát\" + 0.040*\"panna\" + 0.037*\"povědět\" + 0.025*\"boží\" + 0.021*\"jít\" + 0.020*\"milý\" + 0.013*\"milá\" + 0.013*\"ruka\" + 0.013*\"krásný\" + 0.013*\"kovář\"\n",
      "Topic: 72 \n",
      "Word: 0.012*\"mít\" + 0.010*\"člověk\" + 0.008*\"čas\" + 0.007*\"chvíle\" + 0.007*\"nový\" + 0.007*\"slovo\" + 0.007*\"vidět\" + 0.006*\"cítit\" + 0.006*\"jiný\" + 0.006*\"řeč\"\n",
      "Topic: 73 \n",
      "Word: 0.063*\"dívka\" + 0.044*\"zlatý\" + 0.037*\"mladý\" + 0.032*\"dcera\" + 0.025*\"matička\" + 0.025*\"máť\" + 0.024*\"mít\" + 0.023*\"děvče\" + 0.021*\"město\" + 0.021*\"matka\"\n",
      "Topic: 74 \n",
      "Word: 0.023*\"mít\" + 0.022*\"pan\" + 0.020*\"paní\" + 0.010*\"nos\" + 0.008*\"moci\" + 0.008*\"velký\" + 0.007*\"celý\" + 0.007*\"čas\" + 0.007*\"rada\" + 0.007*\"jít\"\n",
      "Topic: 75 \n",
      "Word: 0.152*\"růže\" + 0.055*\"vzpomínat\" + 0.031*\"drahý\" + 0.029*\"umírat\" + 0.026*\"vzpomenout\" + 0.026*\"krásný\" + 0.024*\"růž\" + 0.018*\"domov\" + 0.017*\"slza\" + 0.014*\"vzpomínka\"\n",
      "Topic: 76 \n",
      "Word: 0.124*\"ráj\" + 0.046*\"peklo\" + 0.046*\"brána\" + 0.026*\"nebe\" + 0.020*\"rovný\" + 0.019*\"žebrák\" + 0.019*\"Eva\" + 0.016*\"anděl\" + 0.015*\"Adam\" + 0.013*\"vyhnat\"\n",
      "Topic: 77 \n",
      "Word: 0.064*\"nechat\" + 0.035*\"den\" + 0.023*\"chvíle\" + 0.018*\"dlouhý\" + 0.017*\"konec\" + 0.016*\"jitro\" + 0.016*\"přijít\" + 0.015*\"čekat\" + 0.015*\"sen\" + 0.014*\"prázdný\"\n",
      "Topic: 78 \n",
      "Word: 0.101*\"hudba\" + 0.042*\"kvítí\" + 0.042*\"tanec\" + 0.032*\"muset\" + 0.028*\"trhat\" + 0.028*\"veselý\" + 0.025*\"pět\" + 0.021*\"kolo\" + 0.017*\"smát\" + 0.017*\"věnec\"\n",
      "Topic: 79 \n",
      "Word: 0.052*\"srdce\" + 0.035*\"láska\" + 0.033*\"život\" + 0.026*\"svět\" + 0.025*\"duše\" + 0.022*\"štěstí\" + 0.019*\"touha\" + 0.017*\"žití\" + 0.012*\"žal\" + 0.012*\"žít\"\n",
      "Topic: 80 \n",
      "Word: 0.018*\"bůh\" + 0.009*\"země\" + 0.009*\"člověk\" + 0.009*\"svět\" + 0.008*\"skála\" + 0.007*\"blesk\" + 0.007*\"velký\" + 0.007*\"smrt\" + 0.006*\"stín\" + 0.006*\"život\"\n",
      "Topic: 81 \n",
      "Word: 0.229*\"král\" + 0.028*\"trůn\" + 0.023*\"lid\" + 0.021*\"koruna\" + 0.020*\"rytíř\" + 0.017*\"stát\" + 0.015*\"pán\" + 0.014*\"mít\" + 0.013*\"říše\" + 0.011*\"vládnout\"\n",
      "Topic: 82 \n",
      "Word: 0.014*\"hlava\" + 0.013*\"hruď\" + 0.011*\"ňadro\" + 0.011*\"píseň\" + 0.010*\"křídlo\" + 0.009*\"pěvec\" + 0.009*\"vzdech\" + 0.008*\"zlatý\" + 0.008*\"ret\" + 0.007*\"zvuk\"\n",
      "Topic: 83 \n",
      "Word: 0.042*\"ruka\" + 0.032*\"srdce\" + 0.024*\"ústa\" + 0.024*\"stonat\" + 0.024*\"padnout\" + 0.019*\"duše\" + 0.018*\"žeň\" + 0.015*\"políbit\" + 0.010*\"skrýt\" + 0.010*\"oko\"\n",
      "Topic: 84 \n",
      "Word: 0.130*\"láska\" + 0.077*\"člověk\" + 0.049*\"srdce\" + 0.036*\"svět\" + 0.035*\"duše\" + 0.035*\"lidský\" + 0.022*\"život\" + 0.020*\"vidět\" + 0.017*\"bída\" + 0.016*\"dítě\"\n",
      "Topic: 85 \n",
      "Word: 0.097*\"květ\" + 0.027*\"duše\" + 0.025*\"vůně\" + 0.020*\"jaro\" + 0.020*\"sen\" + 0.014*\"bílý\" + 0.013*\"vonět\" + 0.012*\"jít\" + 0.012*\"kvést\" + 0.011*\"plný\"\n",
      "Topic: 86 \n",
      "Word: 0.061*\"plakat\" + 0.049*\"přítel\" + 0.029*\"chodit\" + 0.025*\"mistr\" + 0.019*\"jiný\" + 0.019*\"oko\" + 0.018*\"srdce\" + 0.018*\"jít\" + 0.018*\"mít\" + 0.014*\"škola\"\n",
      "Topic: 87 \n",
      "Word: 0.040*\"ret\" + 0.026*\"duše\" + 0.019*\"láska\" + 0.018*\"úsměv\" + 0.017*\"zřít\" + 0.014*\"slovo\" + 0.014*\"chtít\" + 0.014*\"Toba\" + 0.013*\"ruka\" + 0.012*\"oko\"\n",
      "Topic: 88 \n",
      "Word: 0.136*\"sníh\" + 0.055*\"zima\" + 0.048*\"bílý\" + 0.030*\"jaro\" + 0.030*\"mráz\" + 0.019*\"bůh\" + 0.018*\"padat\" + 0.015*\"sedět\" + 0.014*\"růže\" + 0.012*\"kvést\"\n",
      "Topic: 89 \n",
      "Word: 0.020*\"orel\" + 0.018*\"bláto\" + 0.016*\"blesk\" + 0.015*\"hrdý\" + 0.014*\"prach\" + 0.012*\"svět\" + 0.012*\"pýcha\" + 0.011*\"let\" + 0.011*\"hlava\" + 0.010*\"zloba\"\n",
      "Topic: 90 \n",
      "Word: 0.073*\"kámen\" + 0.031*\"srdce\" + 0.028*\"pramen\" + 0.026*\"poušť\" + 0.025*\"skála\" + 0.019*\"zdroj\" + 0.016*\"jít\" + 0.016*\"němý\" + 0.013*\"perla\" + 0.013*\"sen\"\n",
      "Topic: 91 \n",
      "Word: 0.028*\"tvrdý\" + 0.024*\"dobrý\" + 0.022*\"skála\" + 0.016*\"špatný\" + 0.014*\"točit\" + 0.014*\"Pan\" + 0.013*\"Hus\" + 0.013*\"ovečka\" + 0.013*\"letět\" + 0.012*\"nutit\"\n",
      "Topic: 92 \n",
      "Word: 0.029*\"plynout\" + 0.025*\"mák\" + 0.022*\"stříbrný\" + 0.019*\"ovoce\" + 0.016*\"jímat\" + 0.016*\"zlo\" + 0.015*\"láska\" + 0.013*\"zřít\" + 0.012*\"nenávist\" + 0.012*\"hlas\"\n",
      "Topic: 93 \n",
      "Word: 0.018*\"slunce\" + 0.013*\"země\" + 0.012*\"zlatý\" + 0.011*\"mrak\" + 0.011*\"modrý\" + 0.010*\"zrak\" + 0.010*\"černý\" + 0.009*\"celý\" + 0.009*\"bílý\" + 0.009*\"barva\"\n",
      "Topic: 94 \n",
      "Word: 0.046*\"hvězda\" + 0.029*\"noc\" + 0.018*\"duše\" + 0.016*\"bílý\" + 0.015*\"slunce\" + 0.014*\"srdce\" + 0.014*\"nebe\" + 0.014*\"světlo\" + 0.014*\"záře\" + 0.013*\"luna\"\n",
      "Topic: 95 \n",
      "Word: 0.035*\"ruka\" + 0.020*\"melodie\" + 0.017*\"ticho\" + 0.014*\"krok\" + 0.014*\"stisk\" + 0.012*\"chvíle\" + 0.012*\"mírný\" + 0.012*\"malý\" + 0.011*\"chvějný\" + 0.011*\"dvůr\"\n",
      "Topic: 96 \n",
      "Word: 0.062*\"jít\" + 0.053*\"den\" + 0.035*\"slyšet\" + 0.033*\"znít\" + 0.032*\"noc\" + 0.030*\"hlas\" + 0.020*\"tichý\" + 0.018*\"sen\" + 0.017*\"duše\" + 0.016*\"smutný\"\n",
      "Topic: 97 \n",
      "Word: 0.014*\"duše\" + 0.011*\"život\" + 0.011*\"země\" + 0.010*\"světlo\" + 0.009*\"touha\" + 0.008*\"tajemný\" + 0.008*\"dálka\" + 0.007*\"noc\" + 0.007*\"bolest\" + 0.006*\"tajemství\"\n",
      "Topic: 98 \n",
      "Word: 0.035*\"cnost\" + 0.027*\"klíč\" + 0.020*\"válka\" + 0.019*\"dudák\" + 0.019*\"spoutat\" + 0.017*\"hrdost\" + 0.015*\"dudy\" + 0.015*\"polský\" + 0.015*\"role\" + 0.014*\"pevný\"\n",
      "Topic: 99 \n",
      "Word: 0.027*\"kvítko\" + 0.025*\"dítko\" + 0.023*\"dovést\" + 0.023*\"bát\" + 0.019*\"svět\" + 0.014*\"pouhý\" + 0.014*\"podívat\" + 0.013*\"pukat\" + 0.013*\"nést\" + 0.012*\"žert\"\n"
     ]
    }
   ],
   "source": [
    "# print trained topics\n",
    "for idx, topic in lda_model.print_topics(-1):\n",
    "    print('Topic: {} \\nWord: {}'.format(idx, topic))"
   ]
  },
  {
   "cell_type": "markdown",
   "id": "13e5ec10-6df1-4bfa-9eb1-dff104d35d12",
   "metadata": {},
   "source": [
    "## Assign topic to the poem (classification)"
   ]
  },
  {
   "cell_type": "code",
   "execution_count": 24,
   "id": "2f68d4d2-9971-4095-8484-27f68bab8d72",
   "metadata": {},
   "outputs": [],
   "source": [
    "topic_bow_col = []\n",
    "\n",
    "for bow_poem in bow_corpus:\n",
    "    try:\n",
    "        # pick the most likely topic\n",
    "        topic_bow_col.append(sorted(lda_model.get_document_topics(bow_poem), key=lambda tup: -1*tup[1])[0][0])\n",
    "    except Exception as e:\n",
    "        topic_bow_col.append('-1') # unknown\n",
    "        \n",
    "books['topic_bow'] = topic_bow_col"
   ]
  },
  {
   "cell_type": "code",
   "execution_count": 25,
   "id": "f4905910-dc3f-41f0-8626-a5a15f661e31",
   "metadata": {},
   "outputs": [
    {
     "data": {
      "text/html": [
       "<div>\n",
       "<style scoped>\n",
       "    .dataframe tbody tr th:only-of-type {\n",
       "        vertical-align: middle;\n",
       "    }\n",
       "\n",
       "    .dataframe tbody tr th {\n",
       "        vertical-align: top;\n",
       "    }\n",
       "\n",
       "    .dataframe thead th {\n",
       "        text-align: right;\n",
       "    }\n",
       "</style>\n",
       "<table border=\"1\" class=\"dataframe\">\n",
       "  <thead>\n",
       "    <tr style=\"text-align: right;\">\n",
       "      <th></th>\n",
       "      <th>book_id</th>\n",
       "      <th>poem_id</th>\n",
       "      <th>body</th>\n",
       "      <th>p_author.born</th>\n",
       "      <th>p_author.died</th>\n",
       "      <th>p_author.name</th>\n",
       "      <th>p_author.identity</th>\n",
       "      <th>biblio.motto_aut</th>\n",
       "      <th>biblio.b_subtitle</th>\n",
       "      <th>biblio.publisher</th>\n",
       "      <th>biblio.edition</th>\n",
       "      <th>biblio.motto</th>\n",
       "      <th>biblio.p_title</th>\n",
       "      <th>biblio.place</th>\n",
       "      <th>biblio.dedication</th>\n",
       "      <th>biblio.b_title</th>\n",
       "      <th>biblio.pages</th>\n",
       "      <th>biblio.year</th>\n",
       "      <th>biblio.signature</th>\n",
       "      <th>b_author.born</th>\n",
       "      <th>b_author.died</th>\n",
       "      <th>b_author.name</th>\n",
       "      <th>b_author.identity</th>\n",
       "      <th>results.poem</th>\n",
       "      <th>lemmas</th>\n",
       "      <th>language</th>\n",
       "      <th>topic_bow</th>\n",
       "    </tr>\n",
       "  </thead>\n",
       "  <tbody>\n",
       "    <tr>\n",
       "      <th>0</th>\n",
       "      <td>623</td>\n",
       "      <td>0001-0004-0000-0008-0000</td>\n",
       "      <td>[[{'text': 'Je-li v domě hezká dcera, ', 'punc...</td>\n",
       "      <td>1842.0</td>\n",
       "      <td>1924.0</td>\n",
       "      <td>Martinec, Jaroslav</td>\n",
       "      <td>Martinec, Jaroslav</td>\n",
       "      <td>NaN</td>\n",
       "      <td>NaN</td>\n",
       "      <td>Grégr, Eduard; Dattel, Ferdinand</td>\n",
       "      <td>[1.]</td>\n",
       "      <td>NaN</td>\n",
       "      <td>Je-li v domě hezká dcera,</td>\n",
       "      <td>Praha</td>\n",
       "      <td>NaN</td>\n",
       "      <td>Básně</td>\n",
       "      <td>102</td>\n",
       "      <td>1872</td>\n",
       "      <td>ÚČL AV ČR; 849 VIII 1</td>\n",
       "      <td>1842.0</td>\n",
       "      <td>1924.0</td>\n",
       "      <td>Martinec, Jaroslav</td>\n",
       "      <td>Martinec, Jaroslav</td>\n",
       "      <td>NaN</td>\n",
       "      <td>[být, dům, hezký, dcera, být, krám, ráno, veče...</td>\n",
       "      <td>cs</td>\n",
       "      <td>75</td>\n",
       "    </tr>\n",
       "    <tr>\n",
       "      <th>1</th>\n",
       "      <td>638</td>\n",
       "      <td>0001-0001-0000-0167-0000</td>\n",
       "      <td>[[{'text': 'Z obchodu nekalého, špinavého vytě...</td>\n",
       "      <td>1857.0</td>\n",
       "      <td>1909.0</td>\n",
       "      <td>Menhard Litoměřický, Xaver</td>\n",
       "      <td>Menhard, František Ladislav</td>\n",
       "      <td>NaN</td>\n",
       "      <td>Nevázané řeči ve vázané řeči</td>\n",
       "      <td>Knapp, Mamert</td>\n",
       "      <td>[1.]</td>\n",
       "      <td>NaN</td>\n",
       "      <td>Také „čistý“ výtěžek.</td>\n",
       "      <td>Praha</td>\n",
       "      <td>NaN</td>\n",
       "      <td>Divoké ovoce</td>\n",
       "      <td>176</td>\n",
       "      <td>1892</td>\n",
       "      <td>Národní knihovna ČR, Praha; 54 K 622</td>\n",
       "      <td>1857.0</td>\n",
       "      <td>1909.0</td>\n",
       "      <td>Menhard Litoměřický, Xaver</td>\n",
       "      <td>Menhard, František Ladislav</td>\n",
       "      <td>NaN</td>\n",
       "      <td>[obchod, nekalý, špinavý, vytěžit, společník, ...</td>\n",
       "      <td>cs</td>\n",
       "      <td>44</td>\n",
       "    </tr>\n",
       "    <tr>\n",
       "      <th>2</th>\n",
       "      <td>281</td>\n",
       "      <td>0001-0000-0000-0004-0004</td>\n",
       "      <td>[[{'text': 'Hle! na jezeru hvězdném', 'punct':...</td>\n",
       "      <td>1813.0</td>\n",
       "      <td>1881.0</td>\n",
       "      <td>Jablonský, Boleslav</td>\n",
       "      <td>Jablonský, Boleslav</td>\n",
       "      <td>NaN</td>\n",
       "      <td>NaN</td>\n",
       "      <td>Spurný, Jan</td>\n",
       "      <td>[1.]</td>\n",
       "      <td>NaN</td>\n",
       "      <td>Lásky boj. (IV. Milosti plod.)</td>\n",
       "      <td>Praha</td>\n",
       "      <td>NaN</td>\n",
       "      <td>Básně</td>\n",
       "      <td>190</td>\n",
       "      <td>1841</td>\n",
       "      <td>ÚČL AV ČR; Staré tisky 111</td>\n",
       "      <td>1813.0</td>\n",
       "      <td>1881.0</td>\n",
       "      <td>Jablonský, Boleslav</td>\n",
       "      <td>Jablonský, Boleslav</td>\n",
       "      <td>NaN</td>\n",
       "      <td>[jezero, hvězdný, plující, nebesa, labuť, druž...</td>\n",
       "      <td>cs</td>\n",
       "      <td>70</td>\n",
       "    </tr>\n",
       "    <tr>\n",
       "      <th>3</th>\n",
       "      <td>1283</td>\n",
       "      <td>0001-0000-0000-0013-0000</td>\n",
       "      <td>[[{'text': 'Král Louis vyjel na lov s družinou...</td>\n",
       "      <td>1883.0</td>\n",
       "      <td>1919.0</td>\n",
       "      <td>Hašek, Roman</td>\n",
       "      <td>Hašek, Roman</td>\n",
       "      <td>NaN</td>\n",
       "      <td>1902-1903</td>\n",
       "      <td>Popelka, Václav</td>\n",
       "      <td>[1.]</td>\n",
       "      <td>NaN</td>\n",
       "      <td>STARÁ POHÁDKA.</td>\n",
       "      <td>Týn nad Vltavou</td>\n",
       "      <td>NaN</td>\n",
       "      <td>Pohádka zelených očí a verše o stesku i výsměchu</td>\n",
       "      <td>96</td>\n",
       "      <td>1904</td>\n",
       "      <td>ÚČL AV ČR; P 515</td>\n",
       "      <td>1883.0</td>\n",
       "      <td>1919.0</td>\n",
       "      <td>Hašek, Roman</td>\n",
       "      <td>Hašek, Roman</td>\n",
       "      <td>NaN</td>\n",
       "      <td>[král, Louis, vyjet, lov, družina, oj, pokřik,...</td>\n",
       "      <td>cs</td>\n",
       "      <td>7</td>\n",
       "    </tr>\n",
       "    <tr>\n",
       "      <th>4</th>\n",
       "      <td>395</td>\n",
       "      <td>0001-0004-0000-0009-0000</td>\n",
       "      <td>[[{'text': 'Blíž cesty za městem vůz loutkářův...</td>\n",
       "      <td>1866.0</td>\n",
       "      <td>1938.0</td>\n",
       "      <td>Klášterský, Antonín</td>\n",
       "      <td>Klášterský, Antonín</td>\n",
       "      <td>NaN</td>\n",
       "      <td>Básně</td>\n",
       "      <td>Šimáček, František; Kabinetní knihovna</td>\n",
       "      <td>[1.]</td>\n",
       "      <td>NaN</td>\n",
       "      <td>DNES SE NEHRAJE.</td>\n",
       "      <td>Praha</td>\n",
       "      <td>NaN</td>\n",
       "      <td>Srdce i duše</td>\n",
       "      <td>188</td>\n",
       "      <td>1894</td>\n",
       "      <td>ÚČL AV ČR; P 341</td>\n",
       "      <td>1866.0</td>\n",
       "      <td>1938.0</td>\n",
       "      <td>Klášterský, Antonín</td>\n",
       "      <td>Klášterský, Antonín</td>\n",
       "      <td>NaN</td>\n",
       "      <td>[cesta, město, vůz, loutkářův, stát, známý, pr...</td>\n",
       "      <td>cs</td>\n",
       "      <td>6</td>\n",
       "    </tr>\n",
       "  </tbody>\n",
       "</table>\n",
       "</div>"
      ],
      "text/plain": [
       "   book_id                   poem_id  \\\n",
       "0      623  0001-0004-0000-0008-0000   \n",
       "1      638  0001-0001-0000-0167-0000   \n",
       "2      281  0001-0000-0000-0004-0004   \n",
       "3     1283  0001-0000-0000-0013-0000   \n",
       "4      395  0001-0004-0000-0009-0000   \n",
       "\n",
       "                                                body  p_author.born  \\\n",
       "0  [[{'text': 'Je-li v domě hezká dcera, ', 'punc...         1842.0   \n",
       "1  [[{'text': 'Z obchodu nekalého, špinavého vytě...         1857.0   \n",
       "2  [[{'text': 'Hle! na jezeru hvězdném', 'punct':...         1813.0   \n",
       "3  [[{'text': 'Král Louis vyjel na lov s družinou...         1883.0   \n",
       "4  [[{'text': 'Blíž cesty za městem vůz loutkářův...         1866.0   \n",
       "\n",
       "   p_author.died               p_author.name            p_author.identity  \\\n",
       "0         1924.0          Martinec, Jaroslav           Martinec, Jaroslav   \n",
       "1         1909.0  Menhard Litoměřický, Xaver  Menhard, František Ladislav   \n",
       "2         1881.0         Jablonský, Boleslav          Jablonský, Boleslav   \n",
       "3         1919.0                Hašek, Roman                 Hašek, Roman   \n",
       "4         1938.0         Klášterský, Antonín          Klášterský, Antonín   \n",
       "\n",
       "  biblio.motto_aut             biblio.b_subtitle  \\\n",
       "0              NaN                           NaN   \n",
       "1              NaN  Nevázané řeči ve vázané řeči   \n",
       "2              NaN                           NaN   \n",
       "3              NaN                     1902-1903   \n",
       "4              NaN                         Básně   \n",
       "\n",
       "                         biblio.publisher biblio.edition biblio.motto  \\\n",
       "0        Grégr, Eduard; Dattel, Ferdinand           [1.]          NaN   \n",
       "1                           Knapp, Mamert           [1.]          NaN   \n",
       "2                             Spurný, Jan           [1.]          NaN   \n",
       "3                         Popelka, Václav           [1.]          NaN   \n",
       "4  Šimáček, František; Kabinetní knihovna           [1.]          NaN   \n",
       "\n",
       "                   biblio.p_title     biblio.place  biblio.dedication  \\\n",
       "0       Je-li v domě hezká dcera,            Praha                NaN   \n",
       "1           Také „čistý“ výtěžek.            Praha                NaN   \n",
       "2  Lásky boj. (IV. Milosti plod.)            Praha                NaN   \n",
       "3                  STARÁ POHÁDKA.  Týn nad Vltavou                NaN   \n",
       "4                DNES SE NEHRAJE.            Praha                NaN   \n",
       "\n",
       "                                     biblio.b_title biblio.pages biblio.year  \\\n",
       "0                                             Básně          102        1872   \n",
       "1                                      Divoké ovoce          176        1892   \n",
       "2                                             Básně          190        1841   \n",
       "3  Pohádka zelených očí a verše o stesku i výsměchu           96        1904   \n",
       "4                                      Srdce i duše          188        1894   \n",
       "\n",
       "                       biblio.signature  b_author.born  b_author.died  \\\n",
       "0                 ÚČL AV ČR; 849 VIII 1         1842.0         1924.0   \n",
       "1  Národní knihovna ČR, Praha; 54 K 622         1857.0         1909.0   \n",
       "2            ÚČL AV ČR; Staré tisky 111         1813.0         1881.0   \n",
       "3                      ÚČL AV ČR; P 515         1883.0         1919.0   \n",
       "4                      ÚČL AV ČR; P 341         1866.0         1938.0   \n",
       "\n",
       "                b_author.name            b_author.identity  results.poem  \\\n",
       "0          Martinec, Jaroslav           Martinec, Jaroslav           NaN   \n",
       "1  Menhard Litoměřický, Xaver  Menhard, František Ladislav           NaN   \n",
       "2         Jablonský, Boleslav          Jablonský, Boleslav           NaN   \n",
       "3                Hašek, Roman                 Hašek, Roman           NaN   \n",
       "4         Klášterský, Antonín          Klášterský, Antonín           NaN   \n",
       "\n",
       "                                              lemmas language topic_bow  \n",
       "0  [být, dům, hezký, dcera, být, krám, ráno, veče...       cs        75  \n",
       "1  [obchod, nekalý, špinavý, vytěžit, společník, ...       cs        44  \n",
       "2  [jezero, hvězdný, plující, nebesa, labuť, druž...       cs        70  \n",
       "3  [král, Louis, vyjet, lov, družina, oj, pokřik,...       cs         7  \n",
       "4  [cesta, město, vůz, loutkářův, stát, známý, pr...       cs         6  "
      ]
     },
     "execution_count": 25,
     "metadata": {},
     "output_type": "execute_result"
    }
   ],
   "source": [
    "books.head()"
   ]
  },
  {
   "cell_type": "markdown",
   "id": "ec640959-333e-4fa9-9d19-eea675283d14",
   "metadata": {},
   "source": [
    "# Bin data according the year"
   ]
  },
  {
   "cell_type": "code",
   "execution_count": 31,
   "id": "a8e59f5f-1db2-451a-a534-1333263d8db2",
   "metadata": {},
   "outputs": [
    {
     "data": {
      "text/plain": [
       "count     12222\n",
       "unique      148\n",
       "top        1897\n",
       "freq        377\n",
       "Name: biblio.year, dtype: int64"
      ]
     },
     "execution_count": 31,
     "metadata": {},
     "output_type": "execute_result"
    }
   ],
   "source": [
    "books['biblio.year'].describe()"
   ]
  },
  {
   "cell_type": "code",
   "execution_count": 32,
   "id": "4fecb534-a9fb-4bf1-aa2a-d84069b554a7",
   "metadata": {},
   "outputs": [],
   "source": [
    "books.drop(books[books['biblio.year'] == 'unknown'].index, inplace=True)"
   ]
  },
  {
   "cell_type": "code",
   "execution_count": 33,
   "id": "bf6fd68c-de8f-4b6c-a116-dcf95daf08ad",
   "metadata": {},
   "outputs": [
    {
     "data": {
      "text/plain": [
       "[1785, 1810, 1835, 1860, 1885, 1910, 1935, 1960, 1985]"
      ]
     },
     "execution_count": 33,
     "metadata": {},
     "output_type": "execute_result"
    }
   ],
   "source": [
    "# use equi-distance binning with bin size of 25 years\n",
    "step = 25\n",
    "bins = [i for i in range(books['biblio.year'].min(), books['biblio.year'].max()+step+1, step)]\n",
    "bins"
   ]
  },
  {
   "cell_type": "code",
   "execution_count": 34,
   "id": "cc5caa0d-3186-4564-9537-6f2a16f410e8",
   "metadata": {},
   "outputs": [],
   "source": [
    "books['bin'] = pd.cut(books['biblio.year'], bins)"
   ]
  },
  {
   "cell_type": "code",
   "execution_count": 35,
   "id": "4b0f6e96-2efa-4716-90dc-3f6a42067657",
   "metadata": {},
   "outputs": [
    {
     "data": {
      "text/plain": [
       "count            12216\n",
       "unique               8\n",
       "top       (1885, 1910]\n",
       "freq              5024\n",
       "Name: bin, dtype: object"
      ]
     },
     "execution_count": 35,
     "metadata": {},
     "output_type": "execute_result"
    }
   ],
   "source": [
    "books['bin'].describe()"
   ]
  },
  {
   "cell_type": "markdown",
   "id": "fc8d8641-9e0c-4e6b-b54b-70b598e43e7a",
   "metadata": {},
   "source": [
    "# Plot topic evolution"
   ]
  },
  {
   "cell_type": "code",
   "execution_count": 36,
   "id": "f9b99512-bcc8-4225-88bc-4956928a6819",
   "metadata": {},
   "outputs": [
    {
     "data": {
      "text/plain": [
       "79    655\n",
       "30    533\n",
       "70    532\n",
       "26    434\n",
       "97    418\n",
       "17    417\n",
       "61    405\n",
       "7     398\n",
       "85    387\n",
       "11    359\n",
       "38    337\n",
       "94    337\n",
       "72    324\n",
       "35    322\n",
       "18    281\n",
       "96    266\n",
       "44    258\n",
       "80    227\n",
       "82    222\n",
       "93    210\n",
       "Name: topic_bow, dtype: int64"
      ]
     },
     "execution_count": 36,
     "metadata": {},
     "output_type": "execute_result"
    }
   ],
   "source": [
    "books['topic_bow'].value_counts().head(20)"
   ]
  },
  {
   "cell_type": "code",
   "execution_count": 114,
   "id": "89877cfd-d9a9-47c6-a257-3782bd985685",
   "metadata": {},
   "outputs": [],
   "source": [
    "topic = 17"
   ]
  },
  {
   "cell_type": "code",
   "execution_count": 115,
   "id": "86b7e36d-fe65-4680-a13e-76b54ce08433",
   "metadata": {},
   "outputs": [],
   "source": [
    "topic_over_years = books.loc[books['topic_bow'] == topic].groupby(['bin', 'topic_bow']).size().unstack(level=1)"
   ]
  },
  {
   "cell_type": "code",
   "execution_count": 120,
   "id": "7a68c78a-1f7c-4f84-8890-eb79014e67a7",
   "metadata": {},
   "outputs": [
    {
     "data": {
      "text/plain": [
       "<AxesSubplot:xlabel='bin'>"
      ]
     },
     "execution_count": 120,
     "metadata": {},
     "output_type": "execute_result"
    },
    {
     "data": {
      "image/png": "[encoded data removed]",
      "text/plain": [
       "<Figure size 432x288 with 1 Axes>"
      ]
     },
     "metadata": {
      "needs_background": "light"
     },
     "output_type": "display_data"
    }
   ],
   "source": [
    "topic_over_years.plot(kind = 'bar')"
   ]
  },
  {
   "cell_type": "code",
   "execution_count": 121,
   "id": "21351baf-bda3-4760-b8ad-e9e27e922063",
   "metadata": {},
   "outputs": [
    {
     "data": {
      "text/plain": [
       "'0.008*\"slovo\" + 0.007*\"duch\" + 0.007*\"láska\" + 0.007*\"srdce\" + 0.006*\"mít\" + 0.005*\"mnohý\" + 0.005*\"mysl\" + 0.005*\"hlas\" + 0.005*\"otec\" + 0.004*\"čin\"'"
      ]
     },
     "execution_count": 121,
     "metadata": {},
     "output_type": "execute_result"
    }
   ],
   "source": [
    "lda_model.print_topic(topic)"
   ]
  },
  {
   "cell_type": "code",
   "execution_count": 122,
   "id": "35a2ba55-ff80-4590-91ae-fb7c6598d053",
   "metadata": {},
   "outputs": [
    {
     "data": {
      "text/plain": [
       "(1885, 1910]    5024\n",
       "(1910, 1935]    2597\n",
       "(1860, 1885]    2283\n",
       "(1835, 1860]     898\n",
       "(1935, 1960]     688\n",
       "(1810, 1835]     496\n",
       "(1960, 1985]     194\n",
       "(1785, 1810]      36\n",
       "Name: bin, dtype: int64"
      ]
     },
     "execution_count": 122,
     "metadata": {},
     "output_type": "execute_result"
    }
   ],
   "source": [
    "books['bin'].value_counts().head(20)"
   ]
  },
  {
   "cell_type": "code",
   "execution_count": null,
   "id": "eb9cfd5e-54b9-4ab5-9092-5ca97d597f00",
   "metadata": {},
   "outputs": [],
   "source": []
  }
 ],
 "metadata": {
  "kernelspec": {
   "display_name": "Python 3 (ipykernel)",
   "language": "python",
   "name": "python3"
  },
  "language_info": {
   "codemirror_mode": {
    "name": "ipython",
    "version": 3
   },
   "file_extension": ".py",
   "mimetype": "text/x-python",
   "name": "python",
   "nbconvert_exporter": "python",
   "pygments_lexer": "ipython3",
   "version": "3.9.12"
  }
 },
 "nbformat": 4,
 "nbformat_minor": 5
}
