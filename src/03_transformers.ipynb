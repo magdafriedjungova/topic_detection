{
 "cells": [
  {
   "cell_type": "markdown",
   "id": "4bd3301c-5e12-4028-82c1-3c75105295a2",
   "metadata": {},
   "source": [
    "# Transformers"
   ]
  },
  {
   "cell_type": "code",
   "execution_count": 1,
   "id": "90627c43-ddf6-4329-a8ff-d38b487de5f0",
   "metadata": {},
   "outputs": [],
   "source": [
    "import pandas as pd\n",
    "from ast import literal_eval"
   ]
  },
  {
   "cell_type": "markdown",
   "id": "48d4f34d-6bb9-4b87-83af-bc0686d7011c",
   "metadata": {},
   "source": [
    "# Load the data"
   ]
  },
  {
   "cell_type": "code",
   "execution_count": 2,
   "id": "fee23219-a03c-4d57-9360-553db3043227",
   "metadata": {},
   "outputs": [],
   "source": [
    "books = pd.read_csv('../data/books_frac_0.2.csv', low_memory=False)"
   ]
  },
  {
   "cell_type": "markdown",
   "id": "5f3a559e-eb11-412c-be5d-65c767f39fb6",
   "metadata": {},
   "source": [
    "# Extract poem text (not just lemmas of certain POS like in LDA)"
   ]
  },
  {
   "cell_type": "code",
   "execution_count": 3,
   "id": "2b6850a6-4c84-4165-9ff5-9cdd9b65cdc8",
   "metadata": {},
   "outputs": [
    {
     "name": "stdout",
     "output_type": "stream",
     "text": [
      "CPU times: user 2min 46s, sys: 5.83 s, total: 2min 52s\n",
      "Wall time: 2min 52s\n"
     ]
    }
   ],
   "source": [
    "%%time\n",
    "# evaluate a string columns 'body' as a json\n",
    "books['body'] = books['body'].apply(lambda x: literal_eval(str(x)))"
   ]
  },
  {
   "cell_type": "code",
   "execution_count": 4,
   "id": "f21ee0c9-41bc-4278-8af4-c822bede10f8",
   "metadata": {},
   "outputs": [],
   "source": [
    "texts = []\n",
    "\n",
    "for index, poem in books.iterrows():\n",
    "    text = []\n",
    "    for stanza in poem['body']:\n",
    "        for line in stanza:\n",
    "            text.append(line['text'])\n",
    "    texts.append('\\n'.join(text))"
   ]
  },
  {
   "cell_type": "code",
   "execution_count": 5,
   "id": "4535b61f-d480-4570-a7db-b15c0458454c",
   "metadata": {},
   "outputs": [
    {
     "data": {
      "text/plain": [
       "13286"
      ]
     },
     "execution_count": 5,
     "metadata": {},
     "output_type": "execute_result"
    }
   ],
   "source": [
    "len(texts)"
   ]
  },
  {
   "cell_type": "code",
   "execution_count": 6,
   "id": "abd30c94-6e04-43e6-9c61-21b67b77e954",
   "metadata": {},
   "outputs": [
    {
     "data": {
      "text/plain": [
       "'Je-li v domě hezká dcera, \\nje tam věru jako v krámě.\\nOd rána až do večera\\nveselo je panímámě.\\nKrásné děvče, štědré věno\\nnestřežené závorami –\\nkomu bude usouzeno,\\nšťastný hochu! sdílej s námi!'"
      ]
     },
     "execution_count": 6,
     "metadata": {},
     "output_type": "execute_result"
    }
   ],
   "source": [
    "texts[0]"
   ]
  },
  {
   "cell_type": "markdown",
   "id": "83919ea8-0cb8-4cbd-bc53-18b86f63e41d",
   "metadata": {},
   "source": [
    "# BERT\n",
    "- Topic Modeling with BERT - https://towardsdatascience.com/topic-modeling-with-bert-779f7db187e6"
   ]
  },
  {
   "cell_type": "code",
   "execution_count": 7,
   "id": "7e16f17c-3ab2-40f0-9536-e7b6bb6866bd",
   "metadata": {},
   "outputs": [],
   "source": [
    "from sentence_transformers import SentenceTransformer\n",
    "model = SentenceTransformer('distiluse-base-multilingual-cased-v2')"
   ]
  },
  {
   "cell_type": "code",
   "execution_count": 8,
   "id": "a5d9a4ec-eede-4370-b911-b9de00c4c8ed",
   "metadata": {},
   "outputs": [
    {
     "data": {
      "application/vnd.jupyter.widget-view+json": {
       "model_id": "d7b20723960b4209a5bb07483f87c4b4",
       "version_major": 2,
       "version_minor": 0
      },
      "text/plain": [
       "Batches:   0%|          | 0/416 [00:00<?, ?it/s]"
      ]
     },
     "metadata": {},
     "output_type": "display_data"
    },
    {
     "name": "stdout",
     "output_type": "stream",
     "text": [
      "CPU times: user 35min 53s, sys: 1min 7s, total: 37min 1s\n",
      "Wall time: 18min 36s\n"
     ]
    }
   ],
   "source": [
    "%%time\n",
    "embeddings = model.encode(texts, show_progress_bar=True)"
   ]
  },
  {
   "cell_type": "code",
   "execution_count": 9,
   "id": "e33f70bb-e89d-45b3-8347-b32849091db2",
   "metadata": {},
   "outputs": [
    {
     "name": "stdout",
     "output_type": "stream",
     "text": [
      "CPU times: user 38.4 s, sys: 943 ms, total: 39.3 s\n",
      "Wall time: 24.4 s\n"
     ]
    }
   ],
   "source": [
    "%%time\n",
    "\n",
    "import umap\n",
    "umap_embeddings = umap.UMAP(n_neighbors=15, \n",
    "                            n_components=5, \n",
    "                            metric='cosine').fit_transform(embeddings)"
   ]
  },
  {
   "cell_type": "code",
   "execution_count": 11,
   "id": "e3413b9c-012e-451d-95ce-bb24bc8c9e26",
   "metadata": {},
   "outputs": [
    {
     "data": {
      "text/plain": [
       "array([[ 6.2384853 ,  8.307621  ,  7.3457637 ,  3.9443784 , -0.38508147],\n",
       "       [ 5.0878468 ,  7.526869  ,  7.514466  ,  3.7650437 ,  1.3374319 ],\n",
       "       [ 4.583742  ,  7.5519323 ,  8.536194  ,  5.592456  , -1.1971194 ],\n",
       "       ...,\n",
       "       [ 4.8413587 ,  7.16358   ,  8.2865    ,  4.681841  , -1.8569039 ],\n",
       "       [ 4.7662992 ,  7.6856046 ,  8.192095  ,  3.1981595 ,  0.15099058],\n",
       "       [ 5.1063933 ,  7.470387  ,  8.7076    ,  4.1191216 ,  0.69881594]],\n",
       "      dtype=float32)"
      ]
     },
     "execution_count": 11,
     "metadata": {},
     "output_type": "execute_result"
    }
   ],
   "source": [
    "umap_embeddings"
   ]
  },
  {
   "cell_type": "code",
   "execution_count": 33,
   "id": "2b4b7982-6c50-4092-90fd-b91b0947688b",
   "metadata": {},
   "outputs": [
    {
     "name": "stdout",
     "output_type": "stream",
     "text": [
      "CPU times: user 724 ms, sys: 0 ns, total: 724 ms\n",
      "Wall time: 726 ms\n"
     ]
    }
   ],
   "source": [
    "%%time\n",
    "\n",
    "import hdbscan\n",
    "cluster = hdbscan.HDBSCAN(min_cluster_size=20,\n",
    "                          metric='euclidean',                      \n",
    "                          cluster_selection_method='eom').fit(umap_embeddings)"
   ]
  },
  {
   "cell_type": "code",
   "execution_count": 34,
   "id": "8b6b2253-1762-42cc-898f-b478b356b010",
   "metadata": {},
   "outputs": [
    {
     "name": "stdout",
     "output_type": "stream",
     "text": [
      "CPU times: user 3 µs, sys: 0 ns, total: 3 µs\n",
      "Wall time: 5.48 µs\n"
     ]
    },
    {
     "data": {
      "text/plain": [
       "<matplotlib.colorbar.Colorbar at 0x7f88810d0b20>"
      ]
     },
     "execution_count": 34,
     "metadata": {},
     "output_type": "execute_result"
    },
    {
     "data": {
      "image/png": "[encoded data removed]",
      "text/plain": [
       "<Figure size 1440x720 with 2 Axes>"
      ]
     },
     "metadata": {
      "needs_background": "light"
     },
     "output_type": "display_data"
    }
   ],
   "source": [
    "%time\n",
    "\n",
    "import matplotlib.pyplot as plt\n",
    "\n",
    "# Prepare data\n",
    "umap_data = umap.UMAP(\n",
    "    n_neighbors=15, n_components=2, min_dist=0.0, metric='cosine').fit_transform(embeddings)\n",
    "result = pd.DataFrame(umap_data, columns=['x', 'y'])\n",
    "result['labels'] = cluster.labels_\n",
    "\n",
    "# Visualize clusters\n",
    "fig, ax = plt.subplots(figsize=(20, 10))\n",
    "outliers = result.loc[result.labels == -1, :]\n",
    "clustered = result.loc[result.labels != -1, :]\n",
    "plt.scatter(outliers.x, outliers.y, color='#BDBDBD', s=0.05)\n",
    "plt.scatter(clustered.x, clustered.y, c=clustered.labels, s=0.05, cmap='hsv_r')\n",
    "plt.colorbar()"
   ]
  },
  {
   "cell_type": "code",
   "execution_count": 35,
   "id": "64afbc1e-5243-4713-9e24-c95202b11228",
   "metadata": {},
   "outputs": [
    {
     "data": {
      "text/plain": [
       "4015"
      ]
     },
     "execution_count": 35,
     "metadata": {},
     "output_type": "execute_result"
    }
   ],
   "source": [
    "len(clustered)"
   ]
  },
  {
   "cell_type": "code",
   "execution_count": 36,
   "id": "cc6a51d1-a915-4cdf-abf7-a04779ef9110",
   "metadata": {},
   "outputs": [
    {
     "data": {
      "text/plain": [
       "9271"
      ]
     },
     "execution_count": 36,
     "metadata": {},
     "output_type": "execute_result"
    }
   ],
   "source": [
    "len(outliers)"
   ]
  },
  {
   "cell_type": "code",
   "execution_count": 79,
   "id": "b39a99ac-74a3-412b-8c48-ee05588e35a5",
   "metadata": {},
   "outputs": [],
   "source": [
    "clustered.to_csv('../data/tmp/clustered.csv', index=False)"
   ]
  },
  {
   "cell_type": "markdown",
   "id": "1de4fd28",
   "metadata": {},
   "source": [
    "- Top2Vec - https://github.com/ddangelov/Top2Vec"
   ]
  },
  {
   "cell_type": "code",
   "execution_count": 12,
   "id": "d0946d1c-89e0-4f04-b68e-4661b0c3821e",
   "metadata": {},
   "outputs": [],
   "source": [
    "docs_df = pd.DataFrame(texts, columns=[\"Doc\"])\n",
    "docs_df['Topic'] = cluster.labels_\n",
    "docs_df['Doc_ID'] = range(len(docs_df))\n",
    "docs_per_topic = docs_df.groupby(['Topic'], as_index = False).agg({'Doc': ' '.join})"
   ]
  },
  {
   "cell_type": "code",
   "execution_count": 13,
   "id": "ad5bd5a7-0b2b-4af6-a701-ce12a8c8ea40",
   "metadata": {},
   "outputs": [],
   "source": [
    "import numpy as np\n",
    "from sklearn.feature_extraction.text import CountVectorizer\n",
    "\n",
    "def c_tf_idf(documents, m, ngram_range=(1, 1)):\n",
    "    count = CountVectorizer(ngram_range=ngram_range, stop_words=\"english\").fit(documents)\n",
    "    t = count.transform(documents).toarray()\n",
    "    w = t.sum(axis=1)\n",
    "    tf = np.divide(t.T, w)\n",
    "    sum_t = t.sum(axis=0)\n",
    "    idf = np.log(np.divide(m, sum_t)).reshape(-1, 1)\n",
    "    tf_idf = np.multiply(tf, idf)\n",
    "\n",
    "    return tf_idf, count\n",
    "  \n",
    "tf_idf, count = c_tf_idf(docs_per_topic.Doc.values, m=len(texts))"
   ]
  },
  {
   "cell_type": "code",
   "execution_count": 14,
   "id": "4cb7c97a-0ba5-4bc6-aa3c-76c69a73c38a",
   "metadata": {},
   "outputs": [
    {
     "data": {
      "text/html": [
       "<div>\n",
       "<style scoped>\n",
       "    .dataframe tbody tr th:only-of-type {\n",
       "        vertical-align: middle;\n",
       "    }\n",
       "\n",
       "    .dataframe tbody tr th {\n",
       "        vertical-align: top;\n",
       "    }\n",
       "\n",
       "    .dataframe thead th {\n",
       "        text-align: right;\n",
       "    }\n",
       "</style>\n",
       "<table border=\"1\" class=\"dataframe\">\n",
       "  <thead>\n",
       "    <tr style=\"text-align: right;\">\n",
       "      <th></th>\n",
       "      <th>Topic</th>\n",
       "      <th>Size</th>\n",
       "    </tr>\n",
       "  </thead>\n",
       "  <tbody>\n",
       "    <tr>\n",
       "      <th>0</th>\n",
       "      <td>-1</td>\n",
       "      <td>9045</td>\n",
       "    </tr>\n",
       "    <tr>\n",
       "      <th>9</th>\n",
       "      <td>8</td>\n",
       "      <td>353</td>\n",
       "    </tr>\n",
       "    <tr>\n",
       "      <th>34</th>\n",
       "      <td>33</td>\n",
       "      <td>306</td>\n",
       "    </tr>\n",
       "    <tr>\n",
       "      <th>36</th>\n",
       "      <td>35</td>\n",
       "      <td>274</td>\n",
       "    </tr>\n",
       "    <tr>\n",
       "      <th>19</th>\n",
       "      <td>18</td>\n",
       "      <td>274</td>\n",
       "    </tr>\n",
       "    <tr>\n",
       "      <th>22</th>\n",
       "      <td>21</td>\n",
       "      <td>244</td>\n",
       "    </tr>\n",
       "    <tr>\n",
       "      <th>5</th>\n",
       "      <td>4</td>\n",
       "      <td>240</td>\n",
       "    </tr>\n",
       "    <tr>\n",
       "      <th>38</th>\n",
       "      <td>37</td>\n",
       "      <td>222</td>\n",
       "    </tr>\n",
       "    <tr>\n",
       "      <th>6</th>\n",
       "      <td>5</td>\n",
       "      <td>217</td>\n",
       "    </tr>\n",
       "    <tr>\n",
       "      <th>33</th>\n",
       "      <td>32</td>\n",
       "      <td>213</td>\n",
       "    </tr>\n",
       "    <tr>\n",
       "      <th>27</th>\n",
       "      <td>26</td>\n",
       "      <td>169</td>\n",
       "    </tr>\n",
       "    <tr>\n",
       "      <th>12</th>\n",
       "      <td>11</td>\n",
       "      <td>163</td>\n",
       "    </tr>\n",
       "    <tr>\n",
       "      <th>8</th>\n",
       "      <td>7</td>\n",
       "      <td>160</td>\n",
       "    </tr>\n",
       "    <tr>\n",
       "      <th>18</th>\n",
       "      <td>17</td>\n",
       "      <td>149</td>\n",
       "    </tr>\n",
       "    <tr>\n",
       "      <th>23</th>\n",
       "      <td>22</td>\n",
       "      <td>138</td>\n",
       "    </tr>\n",
       "    <tr>\n",
       "      <th>21</th>\n",
       "      <td>20</td>\n",
       "      <td>103</td>\n",
       "    </tr>\n",
       "    <tr>\n",
       "      <th>15</th>\n",
       "      <td>14</td>\n",
       "      <td>96</td>\n",
       "    </tr>\n",
       "    <tr>\n",
       "      <th>4</th>\n",
       "      <td>3</td>\n",
       "      <td>95</td>\n",
       "    </tr>\n",
       "    <tr>\n",
       "      <th>3</th>\n",
       "      <td>2</td>\n",
       "      <td>90</td>\n",
       "    </tr>\n",
       "    <tr>\n",
       "      <th>31</th>\n",
       "      <td>30</td>\n",
       "      <td>75</td>\n",
       "    </tr>\n",
       "    <tr>\n",
       "      <th>25</th>\n",
       "      <td>24</td>\n",
       "      <td>62</td>\n",
       "    </tr>\n",
       "    <tr>\n",
       "      <th>20</th>\n",
       "      <td>19</td>\n",
       "      <td>59</td>\n",
       "    </tr>\n",
       "    <tr>\n",
       "      <th>32</th>\n",
       "      <td>31</td>\n",
       "      <td>48</td>\n",
       "    </tr>\n",
       "    <tr>\n",
       "      <th>2</th>\n",
       "      <td>1</td>\n",
       "      <td>46</td>\n",
       "    </tr>\n",
       "    <tr>\n",
       "      <th>1</th>\n",
       "      <td>0</td>\n",
       "      <td>45</td>\n",
       "    </tr>\n",
       "    <tr>\n",
       "      <th>10</th>\n",
       "      <td>9</td>\n",
       "      <td>39</td>\n",
       "    </tr>\n",
       "    <tr>\n",
       "      <th>11</th>\n",
       "      <td>10</td>\n",
       "      <td>39</td>\n",
       "    </tr>\n",
       "    <tr>\n",
       "      <th>39</th>\n",
       "      <td>38</td>\n",
       "      <td>36</td>\n",
       "    </tr>\n",
       "    <tr>\n",
       "      <th>30</th>\n",
       "      <td>29</td>\n",
       "      <td>33</td>\n",
       "    </tr>\n",
       "    <tr>\n",
       "      <th>14</th>\n",
       "      <td>13</td>\n",
       "      <td>29</td>\n",
       "    </tr>\n",
       "    <tr>\n",
       "      <th>26</th>\n",
       "      <td>25</td>\n",
       "      <td>29</td>\n",
       "    </tr>\n",
       "    <tr>\n",
       "      <th>7</th>\n",
       "      <td>6</td>\n",
       "      <td>27</td>\n",
       "    </tr>\n",
       "    <tr>\n",
       "      <th>24</th>\n",
       "      <td>23</td>\n",
       "      <td>26</td>\n",
       "    </tr>\n",
       "    <tr>\n",
       "      <th>37</th>\n",
       "      <td>36</td>\n",
       "      <td>25</td>\n",
       "    </tr>\n",
       "    <tr>\n",
       "      <th>35</th>\n",
       "      <td>34</td>\n",
       "      <td>22</td>\n",
       "    </tr>\n",
       "    <tr>\n",
       "      <th>28</th>\n",
       "      <td>27</td>\n",
       "      <td>21</td>\n",
       "    </tr>\n",
       "    <tr>\n",
       "      <th>13</th>\n",
       "      <td>12</td>\n",
       "      <td>20</td>\n",
       "    </tr>\n",
       "    <tr>\n",
       "      <th>29</th>\n",
       "      <td>28</td>\n",
       "      <td>18</td>\n",
       "    </tr>\n",
       "    <tr>\n",
       "      <th>17</th>\n",
       "      <td>16</td>\n",
       "      <td>18</td>\n",
       "    </tr>\n",
       "    <tr>\n",
       "      <th>16</th>\n",
       "      <td>15</td>\n",
       "      <td>18</td>\n",
       "    </tr>\n",
       "  </tbody>\n",
       "</table>\n",
       "</div>"
      ],
      "text/plain": [
       "    Topic  Size\n",
       "0      -1  9045\n",
       "9       8   353\n",
       "34     33   306\n",
       "36     35   274\n",
       "19     18   274\n",
       "22     21   244\n",
       "5       4   240\n",
       "38     37   222\n",
       "6       5   217\n",
       "33     32   213\n",
       "27     26   169\n",
       "12     11   163\n",
       "8       7   160\n",
       "18     17   149\n",
       "23     22   138\n",
       "21     20   103\n",
       "15     14    96\n",
       "4       3    95\n",
       "3       2    90\n",
       "31     30    75\n",
       "25     24    62\n",
       "20     19    59\n",
       "32     31    48\n",
       "2       1    46\n",
       "1       0    45\n",
       "10      9    39\n",
       "11     10    39\n",
       "39     38    36\n",
       "30     29    33\n",
       "14     13    29\n",
       "26     25    29\n",
       "7       6    27\n",
       "24     23    26\n",
       "37     36    25\n",
       "35     34    22\n",
       "28     27    21\n",
       "13     12    20\n",
       "29     28    18\n",
       "17     16    18\n",
       "16     15    18"
      ]
     },
     "execution_count": 14,
     "metadata": {},
     "output_type": "execute_result"
    }
   ],
   "source": [
    "def extract_top_n_words_per_topic(tf_idf, count, docs_per_topic, n=20):\n",
    "    words = count.get_feature_names_out()\n",
    "    labels = list(docs_per_topic.Topic)\n",
    "    tf_idf_transposed = tf_idf.T\n",
    "    indices = tf_idf_transposed.argsort()[:, -n:]\n",
    "    top_n_words = {label: [(words[j], tf_idf_transposed[i][j]) for j in indices[i]][::-1] for i, label in enumerate(labels)}\n",
    "    return top_n_words\n",
    "\n",
    "def extract_topic_sizes(df):\n",
    "    topic_sizes = (df.groupby(['Topic'])\n",
    "                     .Doc\n",
    "                     .count()\n",
    "                     .reset_index()\n",
    "                     .rename({\"Topic\": \"Topic\", \"Doc\": \"Size\"}, axis='columns')\n",
    "                     .sort_values(\"Size\", ascending=False))\n",
    "    return topic_sizes\n",
    "\n",
    "top_n_words = extract_top_n_words_per_topic(tf_idf, count, docs_per_topic, n=20)\n",
    "topic_sizes = extract_topic_sizes(docs_df)\n",
    "topic_sizes"
   ]
  },
  {
   "cell_type": "code",
   "execution_count": 15,
   "id": "473a02be-e5d7-40c6-b4d7-7e4dc07803f1",
   "metadata": {},
   "outputs": [
    {
     "data": {
      "text/plain": [
       "[('chléb', 0.027851611198559296),\n",
       " ('probíhej', 0.013605795309301989),\n",
       " ('stave', 0.013409349350959244),\n",
       " ('hebounké', 0.013173755774385822),\n",
       " ('člunku', 0.013069408598702025),\n",
       " ('chleba', 0.01305204248278649),\n",
       " ('klep', 0.012133581869688834),\n",
       " ('nitě', 0.011489611469328743),\n",
       " ('potlesk', 0.01140559784889354),\n",
       " ('chutě', 0.01023532056479106),\n",
       " ('hbitě', 0.009912856695489646),\n",
       " ('chcem', 0.00752208671327769),\n",
       " ('svůj', 0.007453430641180646),\n",
       " ('žebrák', 0.007090340086111388),\n",
       " ('drahý', 0.006930044384715717),\n",
       " ('davů', 0.006671636722411554),\n",
       " ('vždyť', 0.0060221051811038834),\n",
       " ('tvrdé', 0.005800065122340442),\n",
       " ('krajíc', 0.00568088568353837),\n",
       " ('chleby', 0.005570231950267583)]"
      ]
     },
     "execution_count": 15,
     "metadata": {},
     "output_type": "execute_result"
    }
   ],
   "source": [
    "top_n_words[0]"
   ]
  },
  {
   "cell_type": "code",
   "execution_count": 16,
   "id": "5e4df999-2ba6-4f82-969a-2161c33dcbfb",
   "metadata": {},
   "outputs": [
    {
     "data": {
      "text/html": [
       "<div>\n",
       "<style scoped>\n",
       "    .dataframe tbody tr th:only-of-type {\n",
       "        vertical-align: middle;\n",
       "    }\n",
       "\n",
       "    .dataframe tbody tr th {\n",
       "        vertical-align: top;\n",
       "    }\n",
       "\n",
       "    .dataframe thead th {\n",
       "        text-align: right;\n",
       "    }\n",
       "</style>\n",
       "<table border=\"1\" class=\"dataframe\">\n",
       "  <thead>\n",
       "    <tr style=\"text-align: right;\">\n",
       "      <th></th>\n",
       "      <th>Topic</th>\n",
       "      <th>Size</th>\n",
       "    </tr>\n",
       "  </thead>\n",
       "  <tbody>\n",
       "    <tr>\n",
       "      <th>0</th>\n",
       "      <td>-1</td>\n",
       "      <td>9705</td>\n",
       "    </tr>\n",
       "    <tr>\n",
       "      <th>6</th>\n",
       "      <td>5</td>\n",
       "      <td>353</td>\n",
       "    </tr>\n",
       "    <tr>\n",
       "      <th>17</th>\n",
       "      <td>16</td>\n",
       "      <td>306</td>\n",
       "    </tr>\n",
       "    <tr>\n",
       "      <th>18</th>\n",
       "      <td>17</td>\n",
       "      <td>274</td>\n",
       "    </tr>\n",
       "    <tr>\n",
       "      <th>10</th>\n",
       "      <td>9</td>\n",
       "      <td>274</td>\n",
       "    </tr>\n",
       "    <tr>\n",
       "      <th>12</th>\n",
       "      <td>11</td>\n",
       "      <td>244</td>\n",
       "    </tr>\n",
       "    <tr>\n",
       "      <th>3</th>\n",
       "      <td>2</td>\n",
       "      <td>240</td>\n",
       "    </tr>\n",
       "    <tr>\n",
       "      <th>19</th>\n",
       "      <td>18</td>\n",
       "      <td>222</td>\n",
       "    </tr>\n",
       "    <tr>\n",
       "      <th>4</th>\n",
       "      <td>3</td>\n",
       "      <td>217</td>\n",
       "    </tr>\n",
       "    <tr>\n",
       "      <th>16</th>\n",
       "      <td>15</td>\n",
       "      <td>213</td>\n",
       "    </tr>\n",
       "  </tbody>\n",
       "</table>\n",
       "</div>"
      ],
      "text/plain": [
       "    Topic  Size\n",
       "0      -1  9705\n",
       "6       5   353\n",
       "17     16   306\n",
       "18     17   274\n",
       "10      9   274\n",
       "12     11   244\n",
       "3       2   240\n",
       "19     18   222\n",
       "4       3   217\n",
       "16     15   213"
      ]
     },
     "execution_count": 16,
     "metadata": {},
     "output_type": "execute_result"
    }
   ],
   "source": [
    "from sklearn.metrics.pairwise import cosine_similarity\n",
    "\n",
    "for i in range(20):\n",
    "    # Calculate cosine similarity\n",
    "    similarities = cosine_similarity(tf_idf.T)\n",
    "    np.fill_diagonal(similarities, 0)\n",
    "\n",
    "    # Extract label to merge into and from where\n",
    "    topic_sizes = docs_df.groupby(['Topic']).count().sort_values(\"Doc\", ascending=False).reset_index()\n",
    "    topic_to_merge = topic_sizes.iloc[-1].Topic\n",
    "    topic_to_merge_into = np.argmax(similarities[topic_to_merge + 1]) - 1\n",
    "\n",
    "    # Adjust topics\n",
    "    docs_df.loc[docs_df.Topic == topic_to_merge, \"Topic\"] = topic_to_merge_into\n",
    "    old_topics = docs_df.sort_values(\"Topic\").Topic.unique()\n",
    "    map_topics = {old_topic: index - 1 for index, old_topic in enumerate(old_topics)}\n",
    "    docs_df.Topic = docs_df.Topic.map(map_topics)\n",
    "    docs_per_topic = docs_df.groupby(['Topic'], as_index = False).agg({'Doc': ' '.join})\n",
    "\n",
    "    # Calculate new topic words\n",
    "    m = len(texts)\n",
    "    tf_idf, count = c_tf_idf(docs_per_topic.Doc.values, m)\n",
    "    top_n_words = extract_top_n_words_per_topic(tf_idf, count, docs_per_topic, n=20)\n",
    "\n",
    "topic_sizes = extract_topic_sizes(docs_df); topic_sizes.head(10)"
   ]
  },
  {
   "cell_type": "code",
   "execution_count": 25,
   "id": "05c3e6e1-7ad7-442a-a2c5-48793853bba0",
   "metadata": {},
   "outputs": [
    {
     "data": {
      "text/plain": [
       "[('víno', 0.016669159156315987),\n",
       " ('pivo', 0.013735918078685665),\n",
       " ('vína', 0.009322787487880974),\n",
       " ('sudaku', 0.007710751440551056),\n",
       " ('falstaff', 0.006757830299770727),\n",
       " ('žij', 0.006073889445170981),\n",
       " ('šampaňské', 0.005743237117488804),\n",
       " ('leporello', 0.004690120704355406),\n",
       " ('seňoro', 0.004505220199847152),\n",
       " ('číši', 0.0043488643109345386),\n",
       " ('pije', 0.004342283481751218),\n",
       " ('pil', 0.004303714829436251),\n",
       " ('li', 0.004179433322095424),\n",
       " ('nápoj', 0.00411265628232456),\n",
       " ('hospody', 0.003980825800188657),\n",
       " ('nektarem', 0.0038970528959062865),\n",
       " ('fousek', 0.003713042496503799),\n",
       " ('kdo', 0.0037044495305717656),\n",
       " ('píte', 0.003638735106854603),\n",
       " ('vínem', 0.0036185695681260144)]"
      ]
     },
     "execution_count": 25,
     "metadata": {},
     "output_type": "execute_result"
    }
   ],
   "source": [
    "top_n_words[0]"
   ]
  },
  {
   "cell_type": "markdown",
   "id": "5191c5e7-cc7d-4ed4-822b-87733cb8e435",
   "metadata": {},
   "source": [
    "# BERTopic\n",
    "- BERTopic - https://towardsdatascience.com/meet-bertopic-berts-cousin-for-advanced-topic-modeling-ea5bf0b7faa3"
   ]
  },
  {
   "cell_type": "code",
   "execution_count": 18,
   "id": "562938c5-0798-476e-824e-cb9b3cfbb1af",
   "metadata": {},
   "outputs": [],
   "source": [
    "import pandas as pd\n",
    "import seaborn as sns\n",
    "import matplotlib.pyplot as plt"
   ]
  },
  {
   "cell_type": "code",
   "execution_count": 19,
   "id": "827f296c-4ad3-4d46-b7de-bf5949b3e9ad",
   "metadata": {},
   "outputs": [
    {
     "data": {
      "text/plain": [
       "'Je-li v domě hezká dcera,  je tam věru jako v krámě. Od rána až do večera veselo je panímámě. Krásné děvče, štědré věno nestřežené závorami – komu bude usouzeno, šťastný hochu! sdílej s námi!'"
      ]
     },
     "execution_count": 19,
     "metadata": {},
     "output_type": "execute_result"
    }
   ],
   "source": [
    "texts_joined = []\n",
    "\n",
    "for text in texts:\n",
    "    texts_joined.append(' '.join(text.split('\\n')))\n",
    "    \n",
    "texts_joined[0]"
   ]
  },
  {
   "cell_type": "code",
   "execution_count": 20,
   "id": "9e08d7b1-a7a8-44b4-81d6-5c42b0740faf",
   "metadata": {},
   "outputs": [
    {
     "data": {
      "application/vnd.jupyter.widget-view+json": {
       "model_id": "ae7bca7dc6cf459a91e3c095447e7cdb",
       "version_major": 2,
       "version_minor": 0
      },
      "text/plain": [
       "Batches:   0%|          | 0/416 [00:00<?, ?it/s]"
      ]
     },
     "metadata": {},
     "output_type": "display_data"
    },
    {
     "name": "stderr",
     "output_type": "stream",
     "text": [
      "2022-05-16 23:53:55,260 - BERTopic - Transformed documents to Embeddings\n",
      "2022-05-16 23:54:03,717 - BERTopic - Reduced dimensionality\n",
      "2022-05-16 23:54:04,459 - BERTopic - Clustered reduced embeddings\n"
     ]
    }
   ],
   "source": [
    "from bertopic import BERTopic\n",
    "\n",
    "model = BERTopic(verbose=True,embedding_model='distiluse-base-multilingual-cased-v2', min_topic_size= 7)\n",
    "headline_topics, _ = model.fit_transform(texts)"
   ]
  },
  {
   "cell_type": "code",
   "execution_count": 21,
   "id": "42b583b4-d854-4f5a-be6b-18535749e51d",
   "metadata": {},
   "outputs": [
    {
     "name": "stdout",
     "output_type": "stream",
     "text": [
      "Number of topics: 151\n"
     ]
    },
    {
     "data": {
      "text/html": [
       "<div>\n",
       "<style scoped>\n",
       "    .dataframe tbody tr th:only-of-type {\n",
       "        vertical-align: middle;\n",
       "    }\n",
       "\n",
       "    .dataframe tbody tr th {\n",
       "        vertical-align: top;\n",
       "    }\n",
       "\n",
       "    .dataframe thead th {\n",
       "        text-align: right;\n",
       "    }\n",
       "</style>\n",
       "<table border=\"1\" class=\"dataframe\">\n",
       "  <thead>\n",
       "    <tr style=\"text-align: right;\">\n",
       "      <th></th>\n",
       "      <th>Topic</th>\n",
       "      <th>Count</th>\n",
       "      <th>Name</th>\n",
       "    </tr>\n",
       "  </thead>\n",
       "  <tbody>\n",
       "    <tr>\n",
       "      <th>0</th>\n",
       "      <td>-1</td>\n",
       "      <td>7784</td>\n",
       "      <td>-1_se_na_jak_to</td>\n",
       "    </tr>\n",
       "    <tr>\n",
       "      <th>1</th>\n",
       "      <td>0</td>\n",
       "      <td>383</td>\n",
       "      <td>0_píseň_písní_srdce_písně</td>\n",
       "    </tr>\n",
       "    <tr>\n",
       "      <th>2</th>\n",
       "      <td>1</td>\n",
       "      <td>308</td>\n",
       "      <td>1_růže_květ_srdce_květy</td>\n",
       "    </tr>\n",
       "    <tr>\n",
       "      <th>3</th>\n",
       "      <td>2</td>\n",
       "      <td>258</td>\n",
       "      <td>2_hvězdy_noc_se_hvězda</td>\n",
       "    </tr>\n",
       "    <tr>\n",
       "      <th>4</th>\n",
       "      <td>3</td>\n",
       "      <td>228</td>\n",
       "      <td>3_se_na_do_jak</td>\n",
       "    </tr>\n",
       "  </tbody>\n",
       "</table>\n",
       "</div>"
      ],
      "text/plain": [
       "   Topic  Count                       Name\n",
       "0     -1   7784            -1_se_na_jak_to\n",
       "1      0    383  0_píseň_písní_srdce_písně\n",
       "2      1    308    1_růže_květ_srdce_květy\n",
       "3      2    258     2_hvězdy_noc_se_hvězda\n",
       "4      3    228             3_se_na_do_jak"
      ]
     },
     "execution_count": 21,
     "metadata": {},
     "output_type": "execute_result"
    }
   ],
   "source": [
    "freq = model.get_topic_info()\n",
    "print(\"Number of topics: {}\".format(len(freq)))\n",
    "freq.head()"
   ]
  },
  {
   "cell_type": "code",
   "execution_count": 22,
   "id": "ea9cfe95-8f56-410a-8e45-6a77ce89c87f",
   "metadata": {},
   "outputs": [
    {
     "data": {
      "text/plain": [
       "[('píseň', 0.01453781046363476),\n",
       " ('písní', 0.006446695230148631),\n",
       " ('srdce', 0.006349589326347434),\n",
       " ('písně', 0.006125738092732786),\n",
       " ('má', 0.005686013423301519),\n",
       " ('jak', 0.0056511933087556535),\n",
       " ('když', 0.005515668034517476),\n",
       " ('se', 0.005396392717960931),\n",
       " ('mé', 0.005142914875709461),\n",
       " ('mi', 0.0048774209706100285)]"
      ]
     },
     "execution_count": 22,
     "metadata": {},
     "output_type": "execute_result"
    }
   ],
   "source": [
    "a_topic = freq.iloc[1][\"Topic\"] # Select the 1st topic\n",
    "model.get_topic(a_topic) # Show the words and their c-TF-IDF scores"
   ]
  },
  {
   "cell_type": "code",
   "execution_count": 23,
   "id": "e0888b3b-ce2e-4099-8705-8e8c3fbe3eb3",
   "metadata": {},
   "outputs": [
    {
     "data": {
      "text/html": [
       "<div>\n",
       "<style scoped>\n",
       "    .dataframe tbody tr th:only-of-type {\n",
       "        vertical-align: middle;\n",
       "    }\n",
       "\n",
       "    .dataframe tbody tr th {\n",
       "        vertical-align: top;\n",
       "    }\n",
       "\n",
       "    .dataframe thead th {\n",
       "        text-align: right;\n",
       "    }\n",
       "</style>\n",
       "<table border=\"1\" class=\"dataframe\">\n",
       "  <thead>\n",
       "    <tr style=\"text-align: right;\">\n",
       "      <th></th>\n",
       "      <th>Topic</th>\n",
       "      <th>Count</th>\n",
       "      <th>Name</th>\n",
       "    </tr>\n",
       "  </thead>\n",
       "  <tbody>\n",
       "    <tr>\n",
       "      <th>0</th>\n",
       "      <td>-1</td>\n",
       "      <td>7784</td>\n",
       "      <td>-1_se_na_jak_to</td>\n",
       "    </tr>\n",
       "    <tr>\n",
       "      <th>1</th>\n",
       "      <td>0</td>\n",
       "      <td>383</td>\n",
       "      <td>0_píseň_písní_srdce_písně</td>\n",
       "    </tr>\n",
       "    <tr>\n",
       "      <th>2</th>\n",
       "      <td>1</td>\n",
       "      <td>308</td>\n",
       "      <td>1_růže_květ_srdce_květy</td>\n",
       "    </tr>\n",
       "    <tr>\n",
       "      <th>3</th>\n",
       "      <td>2</td>\n",
       "      <td>258</td>\n",
       "      <td>2_hvězdy_noc_se_hvězda</td>\n",
       "    </tr>\n",
       "    <tr>\n",
       "      <th>4</th>\n",
       "      <td>3</td>\n",
       "      <td>228</td>\n",
       "      <td>3_se_na_do_jak</td>\n",
       "    </tr>\n",
       "    <tr>\n",
       "      <th>...</th>\n",
       "      <td>...</td>\n",
       "      <td>...</td>\n",
       "      <td>...</td>\n",
       "    </tr>\n",
       "    <tr>\n",
       "      <th>141</th>\n",
       "      <td>146</td>\n",
       "      <td>7</td>\n",
       "      <td>146_neplač_hněsti_jiné_nevzpomínat</td>\n",
       "    </tr>\n",
       "    <tr>\n",
       "      <th>140</th>\n",
       "      <td>147</td>\n",
       "      <td>7</td>\n",
       "      <td>147_roman_hoře_mu_řekla</td>\n",
       "    </tr>\n",
       "    <tr>\n",
       "      <th>139</th>\n",
       "      <td>148</td>\n",
       "      <td>7</td>\n",
       "      <td>148_filo_jsme_balbe_zatančit</td>\n",
       "    </tr>\n",
       "    <tr>\n",
       "      <th>138</th>\n",
       "      <td>143</td>\n",
       "      <td>7</td>\n",
       "      <td>143_líto_sluníčko_štěstí_křižáků</td>\n",
       "    </tr>\n",
       "    <tr>\n",
       "      <th>150</th>\n",
       "      <td>149</td>\n",
       "      <td>7</td>\n",
       "      <td>149_číši_napěním_vražedně_slétni</td>\n",
       "    </tr>\n",
       "  </tbody>\n",
       "</table>\n",
       "<p>151 rows × 3 columns</p>\n",
       "</div>"
      ],
      "text/plain": [
       "     Topic  Count                                Name\n",
       "0       -1   7784                     -1_se_na_jak_to\n",
       "1        0    383           0_píseň_písní_srdce_písně\n",
       "2        1    308             1_růže_květ_srdce_květy\n",
       "3        2    258              2_hvězdy_noc_se_hvězda\n",
       "4        3    228                      3_se_na_do_jak\n",
       "..     ...    ...                                 ...\n",
       "141    146      7  146_neplač_hněsti_jiné_nevzpomínat\n",
       "140    147      7             147_roman_hoře_mu_řekla\n",
       "139    148      7        148_filo_jsme_balbe_zatančit\n",
       "138    143      7    143_líto_sluníčko_štěstí_křižáků\n",
       "150    149      7    149_číši_napěním_vražedně_slétni\n",
       "\n",
       "[151 rows x 3 columns]"
      ]
     },
     "execution_count": 23,
     "metadata": {},
     "output_type": "execute_result"
    }
   ],
   "source": [
    "freq"
   ]
  },
  {
   "cell_type": "code",
   "execution_count": 24,
   "id": "9137b243-5ce9-400c-bb0e-a5977ba427af",
   "metadata": {},
   "outputs": [
    {
     "name": "stdout",
     "output_type": "stream",
     "text": [
      "Most Similar Topic Info: \n",
      "[('ženo', 0.09389545215243683), ('pohlavím', 0.025769064838334653), ('vzít', 0.017298286756611162), ('pohlaví', 0.015369915685117523), ('ženy', 0.014534121366486874), ('ženu', 0.013284157242738959), ('já', 0.01261760782963604), ('ach', 0.012325425212550483), ('má', 0.012250265223851252), ('ťuk', 0.010722531436142014)]\n",
      "Similarity Score: 0.7836140992538645\n"
     ]
    }
   ],
   "source": [
    "# Select most 3 similar topics\n",
    "similar_topics, similarity = model.find_topics(\"dívka\", top_n = 3)\n",
    "\n",
    "most_similar = similar_topics[0]\n",
    "print(\"Most Similar Topic Info: \\n{}\".format(model.get_topic(most_similar)))\n",
    "print(\"Similarity Score: {}\".format(similarity[0]))"
   ]
  },
  {
   "cell_type": "code",
   "execution_count": null,
   "id": "13101834-d4fd-4391-a05f-078663f8e4d5",
   "metadata": {},
   "outputs": [],
   "source": []
  }
 ],
 "metadata": {
  "kernelspec": {
   "display_name": "Python 3 (ipykernel)",
   "language": "python",
   "name": "python3"
  },
  "language_info": {
   "codemirror_mode": {
    "name": "ipython",
    "version": 3
   },
   "file_extension": ".py",
   "mimetype": "text/x-python",
   "name": "python",
   "nbconvert_exporter": "python",
   "pygments_lexer": "ipython3",
   "version": "3.9.12"
  }
 },
 "nbformat": 4,
 "nbformat_minor": 5
}
