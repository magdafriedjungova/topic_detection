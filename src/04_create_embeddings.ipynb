{
 "cells": [
  {
   "cell_type": "markdown",
   "id": "be0dc6a6",
   "metadata": {},
   "source": [
    "# Embeddings"
   ]
  },
  {
   "cell_type": "code",
   "execution_count": null,
   "id": "6cecca87",
   "metadata": {},
   "outputs": [],
   "source": [
    "import pandas as pd\n",
    "import string"
   ]
  },
  {
   "cell_type": "code",
   "execution_count": 36,
   "id": "5886e28c-1c3e-4988-b58a-eb48933fd7d2",
   "metadata": {},
   "outputs": [],
   "source": [
    "texts_df = pd.read_csv('../data/texts.csv')"
   ]
  },
  {
   "cell_type": "markdown",
   "id": "ba239baa-a31c-48f8-99de-0b2881c15822",
   "metadata": {},
   "source": [
    "# Preprocess texts"
   ]
  },
  {
   "cell_type": "code",
   "execution_count": 37,
   "id": "cdd08567-b578-439d-9050-57b537049d51",
   "metadata": {},
   "outputs": [],
   "source": [
    "def preprocess(text):\n",
    "    # convert input text to lower case.\n",
    "    text = text.lower()\n",
    "    # remove punctuations from string.\n",
    "    translator = str.maketrans(string.punctuation, ' '*len(string.punctuation))\n",
    "    text = text.translate(translator)\n",
    "    # replace all whitespaces by a single space\n",
    "    text = ' '.join(text.split())\n",
    "    \n",
    "    return text"
   ]
  },
  {
   "cell_type": "code",
   "execution_count": 38,
   "id": "c01dc49b-b1cd-443f-af7e-ace60684ce1c",
   "metadata": {},
   "outputs": [
    {
     "data": {
      "text/plain": [
       "'tvá loď jde po vysokém moři v ně brázdu jako stříbro reje svou přídu v modré vlny nořía bok svůj pěnné do peřeje tvá lana sviští plachty dunía třepe vlajka v noční chvílizříš magický svit mořských tůní a ve snu albatros jak pílí já samotním jsem na ostrově ohýnek topím rybku lovězasedám na břeh za večera dým v kotoučích se modrých krade kdes písklo ptáče ještě mladé tma na mne hrozí z pološera'"
      ]
     },
     "execution_count": 38,
     "metadata": {},
     "output_type": "execute_result"
    }
   ],
   "source": [
    "preprocess(texts[0])"
   ]
  },
  {
   "cell_type": "code",
   "execution_count": 39,
   "id": "d039584d-ac58-44d7-be0d-714056055ed2",
   "metadata": {},
   "outputs": [],
   "source": [
    "texts_df['text_preprocessed'] = texts_df['text'].apply(lambda x: preprocess(x))"
   ]
  },
  {
   "cell_type": "code",
   "execution_count": 52,
   "id": "9178bece-1d30-4bc7-bf86-e021fb4c5fa7",
   "metadata": {},
   "outputs": [],
   "source": [
    "# add text length info\n",
    "texts_df['n_words'] = texts_df['text_preprocessed'].apply(lambda x: len(x.split()))"
   ]
  },
  {
   "cell_type": "code",
   "execution_count": 53,
   "id": "3c18cff6-4a46-47ce-bbc3-80f66986e8da",
   "metadata": {},
   "outputs": [
    {
     "data": {
      "text/html": [
       "<div>\n",
       "<style scoped>\n",
       "    .dataframe tbody tr th:only-of-type {\n",
       "        vertical-align: middle;\n",
       "    }\n",
       "\n",
       "    .dataframe tbody tr th {\n",
       "        vertical-align: top;\n",
       "    }\n",
       "\n",
       "    .dataframe thead th {\n",
       "        text-align: right;\n",
       "    }\n",
       "</style>\n",
       "<table border=\"1\" class=\"dataframe\">\n",
       "  <thead>\n",
       "    <tr style=\"text-align: right;\">\n",
       "      <th></th>\n",
       "      <th>poem_id</th>\n",
       "      <th>text</th>\n",
       "      <th>text_preprocessed</th>\n",
       "      <th>text_len</th>\n",
       "      <th>n_words</th>\n",
       "    </tr>\n",
       "  </thead>\n",
       "  <tbody>\n",
       "    <tr>\n",
       "      <th>0</th>\n",
       "      <td>0001-0000-0000-0001-0000</td>\n",
       "      <td>Tvá loď jde po vysokém moři,v ně brázdu jako s...</td>\n",
       "      <td>tvá loď jde po vysokém moři v ně brázdu jako s...</td>\n",
       "      <td>73</td>\n",
       "      <td>73</td>\n",
       "    </tr>\n",
       "    <tr>\n",
       "      <th>1</th>\n",
       "      <td>0001-0001-0000-0001-0000</td>\n",
       "      <td>Už míza naplňuje stonky,už přišly modré anemon...</td>\n",
       "      <td>už míza naplňuje stonky už přišly modré anemon...</td>\n",
       "      <td>126</td>\n",
       "      <td>126</td>\n",
       "    </tr>\n",
       "    <tr>\n",
       "      <th>2</th>\n",
       "      <td>0001-0001-0000-0002-0000</td>\n",
       "      <td>Už jaro výskalo si na potkání,kosové pěli ze z...</td>\n",
       "      <td>už jaro výskalo si na potkání kosové pěli ze z...</td>\n",
       "      <td>147</td>\n",
       "      <td>147</td>\n",
       "    </tr>\n",
       "    <tr>\n",
       "      <th>3</th>\n",
       "      <td>0001-0001-0000-0003-0000</td>\n",
       "      <td>Teď slunce prošlo poledníkem,dal znamení, a tí...</td>\n",
       "      <td>teď slunce prošlo poledníkem dal znamení a tím...</td>\n",
       "      <td>97</td>\n",
       "      <td>97</td>\n",
       "    </tr>\n",
       "    <tr>\n",
       "      <th>4</th>\n",
       "      <td>0001-0001-0000-0004-0000</td>\n",
       "      <td>Skal nebetyčných shluky, řady,jež vystupují z ...</td>\n",
       "      <td>skal nebetyčných shluky řady jež vystupují z p...</td>\n",
       "      <td>237</td>\n",
       "      <td>237</td>\n",
       "    </tr>\n",
       "  </tbody>\n",
       "</table>\n",
       "</div>"
      ],
      "text/plain": [
       "                    poem_id  \\\n",
       "0  0001-0000-0000-0001-0000   \n",
       "1  0001-0001-0000-0001-0000   \n",
       "2  0001-0001-0000-0002-0000   \n",
       "3  0001-0001-0000-0003-0000   \n",
       "4  0001-0001-0000-0004-0000   \n",
       "\n",
       "                                                text  \\\n",
       "0  Tvá loď jde po vysokém moři,v ně brázdu jako s...   \n",
       "1  Už míza naplňuje stonky,už přišly modré anemon...   \n",
       "2  Už jaro výskalo si na potkání,kosové pěli ze z...   \n",
       "3  Teď slunce prošlo poledníkem,dal znamení, a tí...   \n",
       "4  Skal nebetyčných shluky, řady,jež vystupují z ...   \n",
       "\n",
       "                                   text_preprocessed  text_len  n_words  \n",
       "0  tvá loď jde po vysokém moři v ně brázdu jako s...        73       73  \n",
       "1  už míza naplňuje stonky už přišly modré anemon...       126      126  \n",
       "2  už jaro výskalo si na potkání kosové pěli ze z...       147      147  \n",
       "3  teď slunce prošlo poledníkem dal znamení a tím...        97       97  \n",
       "4  skal nebetyčných shluky řady jež vystupují z p...       237      237  "
      ]
     },
     "execution_count": 53,
     "metadata": {},
     "output_type": "execute_result"
    }
   ],
   "source": [
    "texts_df.head()"
   ]
  },
  {
   "cell_type": "code",
   "execution_count": 54,
   "id": "0f3e12a8-54c7-4c8d-bb91-05cdcaa7e954",
   "metadata": {},
   "outputs": [
    {
     "data": {
      "text/plain": [
       "count    66428.000000\n",
       "mean       183.178885\n",
       "std        473.801865\n",
       "min          2.000000\n",
       "25%         56.000000\n",
       "50%         90.000000\n",
       "75%        163.000000\n",
       "max      29319.000000\n",
       "Name: text_len, dtype: float64"
      ]
     },
     "execution_count": 54,
     "metadata": {},
     "output_type": "execute_result"
    }
   ],
   "source": [
    "texts_df.text_len.describe()"
   ]
  },
  {
   "cell_type": "markdown",
   "id": "98338da9-797a-4cb0-8ea1-b143372a15fa",
   "metadata": {},
   "source": [
    "# Create embeddings for poem texts"
   ]
  },
  {
   "cell_type": "code",
   "execution_count": 49,
   "id": "e55bcbea-06e6-44b0-adb0-d86d245d1240",
   "metadata": {},
   "outputs": [],
   "source": [
    "from sentence_transformers import SentenceTransformer\n",
    "model = SentenceTransformer('sentence-transformers/distiluse-base-multilingual-cased-v2')"
   ]
  },
  {
   "cell_type": "code",
   "execution_count": 50,
   "id": "31532971-2371-4324-b625-b469bb102001",
   "metadata": {},
   "outputs": [],
   "source": [
    "#Our sentences we like to encode\n",
    "sentences = texts_df.text_preprocessed.to_numpy()\n",
    "\n",
    "#Sentences are encoded by calling model.encode()\n",
    "embeddings = model.encode(sentences)"
   ]
  },
  {
   "cell_type": "code",
   "execution_count": 51,
   "id": "2dad568a-b648-42f9-82a3-fe53cd83594d",
   "metadata": {},
   "outputs": [
    {
     "data": {
      "text/plain": [
       "66428"
      ]
     },
     "execution_count": 51,
     "metadata": {},
     "output_type": "execute_result"
    }
   ],
   "source": [
    "len(embeddings)"
   ]
  },
  {
   "cell_type": "code",
   "execution_count": 58,
   "id": "96ee7912-9ac9-4adb-8dbe-75f6559564c4",
   "metadata": {},
   "outputs": [
    {
     "data": {
      "text/plain": [
       "(66428, 512)"
      ]
     },
     "execution_count": 58,
     "metadata": {},
     "output_type": "execute_result"
    }
   ],
   "source": [
    "embeddings.shape"
   ]
  },
  {
   "cell_type": "code",
   "execution_count": 65,
   "id": "5695ec2d-b214-43cf-ba69-924a9f6b9fd5",
   "metadata": {},
   "outputs": [],
   "source": [
    "embeddings_list = embeddings.tolist()"
   ]
  },
  {
   "cell_type": "code",
   "execution_count": 67,
   "id": "fc789706-3a5c-4240-84e8-262c9e19da1d",
   "metadata": {},
   "outputs": [
    {
     "data": {
      "text/plain": [
       "66428"
      ]
     },
     "execution_count": 67,
     "metadata": {},
     "output_type": "execute_result"
    }
   ],
   "source": [
    "len(embeddings_list)"
   ]
  },
  {
   "cell_type": "code",
   "execution_count": 68,
   "id": "8e817666-fa35-4420-aa61-62fba7f73be4",
   "metadata": {},
   "outputs": [],
   "source": [
    "texts_df['embedding'] = embeddings_list"
   ]
  },
  {
   "cell_type": "code",
   "execution_count": 70,
   "id": "72d650ba-e05c-40f4-bac1-38379fc87bc1",
   "metadata": {},
   "outputs": [],
   "source": [
    "embeddings_df = texts_df[['poem_id', 'embedding']]"
   ]
  },
  {
   "cell_type": "code",
   "execution_count": 71,
   "id": "1494cfb9-f8fb-47f8-a329-c5443c658643",
   "metadata": {},
   "outputs": [
    {
     "data": {
      "text/html": [
       "<div>\n",
       "<style scoped>\n",
       "    .dataframe tbody tr th:only-of-type {\n",
       "        vertical-align: middle;\n",
       "    }\n",
       "\n",
       "    .dataframe tbody tr th {\n",
       "        vertical-align: top;\n",
       "    }\n",
       "\n",
       "    .dataframe thead th {\n",
       "        text-align: right;\n",
       "    }\n",
       "</style>\n",
       "<table border=\"1\" class=\"dataframe\">\n",
       "  <thead>\n",
       "    <tr style=\"text-align: right;\">\n",
       "      <th></th>\n",
       "      <th>poem_id</th>\n",
       "      <th>embedding</th>\n",
       "    </tr>\n",
       "  </thead>\n",
       "  <tbody>\n",
       "    <tr>\n",
       "      <th>0</th>\n",
       "      <td>0001-0000-0000-0001-0000</td>\n",
       "      <td>[-0.046550504863262177, -0.014515827409923077,...</td>\n",
       "    </tr>\n",
       "    <tr>\n",
       "      <th>1</th>\n",
       "      <td>0001-0001-0000-0001-0000</td>\n",
       "      <td>[0.0027238677721470594, 0.004033498000353575, ...</td>\n",
       "    </tr>\n",
       "    <tr>\n",
       "      <th>2</th>\n",
       "      <td>0001-0001-0000-0002-0000</td>\n",
       "      <td>[-0.032383304089307785, 0.010420155711472034, ...</td>\n",
       "    </tr>\n",
       "    <tr>\n",
       "      <th>3</th>\n",
       "      <td>0001-0001-0000-0003-0000</td>\n",
       "      <td>[-0.01692606881260872, 0.0020394506864249706, ...</td>\n",
       "    </tr>\n",
       "    <tr>\n",
       "      <th>4</th>\n",
       "      <td>0001-0001-0000-0004-0000</td>\n",
       "      <td>[-0.01918676681816578, 0.023260900750756264, 0...</td>\n",
       "    </tr>\n",
       "  </tbody>\n",
       "</table>\n",
       "</div>"
      ],
      "text/plain": [
       "                    poem_id                                          embedding\n",
       "0  0001-0000-0000-0001-0000  [-0.046550504863262177, -0.014515827409923077,...\n",
       "1  0001-0001-0000-0001-0000  [0.0027238677721470594, 0.004033498000353575, ...\n",
       "2  0001-0001-0000-0002-0000  [-0.032383304089307785, 0.010420155711472034, ...\n",
       "3  0001-0001-0000-0003-0000  [-0.01692606881260872, 0.0020394506864249706, ...\n",
       "4  0001-0001-0000-0004-0000  [-0.01918676681816578, 0.023260900750756264, 0..."
      ]
     },
     "execution_count": 71,
     "metadata": {},
     "output_type": "execute_result"
    }
   ],
   "source": [
    "embeddings_df.head()"
   ]
  },
  {
   "cell_type": "code",
   "execution_count": 72,
   "id": "1e24a1d9-ba89-4c21-a9cb-252c841ccb98",
   "metadata": {},
   "outputs": [],
   "source": [
    "embeddings_df.to_csv('../data/embeddings.csv', index=False)"
   ]
  },
  {
   "cell_type": "code",
   "execution_count": null,
   "id": "76c381ee-ed1c-4a37-8f69-69c20e1bb9dd",
   "metadata": {},
   "outputs": [],
   "source": []
  }
 ],
 "metadata": {
  "kernelspec": {
   "display_name": "Python 3 (ipykernel)",
   "language": "python",
   "name": "python3"
  },
  "language_info": {
   "codemirror_mode": {
    "name": "ipython",
    "version": 3
   },
   "file_extension": ".py",
   "mimetype": "text/x-python",
   "name": "python",
   "nbconvert_exporter": "python",
   "pygments_lexer": "ipython3",
   "version": "3.9.12"
  }
 },
 "nbformat": 4,
 "nbformat_minor": 5
}
